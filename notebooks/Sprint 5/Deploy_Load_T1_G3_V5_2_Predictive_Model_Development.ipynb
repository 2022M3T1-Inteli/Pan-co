{
  "cells": [
    {
      "cell_type": "markdown",
      "source": [
        "# **Configurações**"
      ],
      "metadata": {
        "id": "ptDs20bV_ocy"
      }
    },
    {
      "cell_type": "markdown",
      "source": [
        "Para melhor manusear o código, sem precisar ficar olhando cada célula ao executar, é criado uma classe para manter configurações gerais do código."
      ],
      "metadata": {
        "id": "UyCI5JgL_sNq"
      }
    },
    {
      "cell_type": "code",
      "source": [
        "class Config:\n",
        "    DROP_AND_FILL_NULL = True\n",
        "\n",
        "    BALANCE_DATA = False\n",
        "    \n",
        "    SHUFFLE_DATA = True\n",
        "    SHUFFLE_CONFIG = {\n",
        "        'random_state': 26\n",
        "    }\n",
        "\n",
        "    DROP_OUTLIERS = False\n",
        "    DROP_OUTLIERS_CONFIG = {\n",
        "        'columns': ['vlr_saldo', 'vlr_credito', 'num_atend_atrs', 'num_produtos', 'num_atend', 'qtd_oper', 'qtd_reclm', 'qtd_restr']\n",
        "    }\n",
        "\n",
        "    TRAIN_TEST_SPLIT_CONFIG = {\n",
        "        'test_size': 0.25,\n",
        "        'random_state': 42\n",
        "    }"
      ],
      "metadata": {
        "id": "2lacS4bb_nqi"
      },
      "execution_count": null,
      "outputs": []
    },
    {
      "cell_type": "markdown",
      "metadata": {
        "id": "aLVMLzkZf4JH"
      },
      "source": [
        "# **Bibliotecas**"
      ]
    },
    {
      "cell_type": "markdown",
      "metadata": {
        "id": "lRZIgXtxR7zO"
      },
      "source": [
        "## Pacotes nativos:"
      ]
    },
    {
      "cell_type": "markdown",
      "metadata": {
        "id": "M9Kos9_L_UI3"
      },
      "source": [
        "Primeiramente, é preciso instalar as bibliotecas necessárias para o funcionamento dos processos realizados.\n",
        "\n",
        "Os pacotes Pandas e Numpy são de uso fundamental em Python e serão utilizados na análise exploratória dos dados, bem como em sua posterior limpeza e tratamento. Scikit-Learn, por outro lado, é uma biblioteca Python aplicada a Machine Learning, e suas ferramentas serão essenciais para o desenvolvovimento do modelo preditivo. Já o pacote matplotlib será utilizado para a visualização dos dados geração de gráficos.\n",
        "\n",
        "As bibliotecas citadas anteriormente são nativas do Google Colab, e não precisam ser instaladas, como pode ser visto ao utilizar o comando abaixo para buscar os pacotes instalados no ambiente de execução."
      ]
    },
    {
      "cell_type": "code",
      "execution_count": null,
      "metadata": {
        "id": "LF4u_ym7gGSZ",
        "colab": {
          "base_uri": "https://localhost:8080/"
        },
        "outputId": "fba5a50f-3419-472f-d763-210355f96d0a"
      },
      "outputs": [
        {
          "output_type": "stream",
          "name": "stdout",
          "text": [
            "matplotlib                    3.2.2                        /usr/local/lib/python3.7/dist-packages pip\n",
            "matplotlib-venn               0.11.7                       /usr/local/lib/python3.7/dist-packages pip\n",
            "numpy                         1.21.6                       /usr/local/lib/python3.7/dist-packages pip\n",
            "pandas                        1.3.5                        /usr/local/lib/python3.7/dist-packages pip\n",
            "pandas-datareader             0.9.0                        /usr/local/lib/python3.7/dist-packages pip\n",
            "pandas-gbq                    0.13.3                       /usr/local/lib/python3.7/dist-packages pip\n",
            "pandas-profiling              1.4.1                        /usr/local/lib/python3.7/dist-packages pip\n",
            "sklearn-pandas                1.8.0                        /usr/local/lib/python3.7/dist-packages pip\n"
          ]
        }
      ],
      "source": [
        "'''\n",
        "O pip, gerenciador de pacotes do python, gera uma lista de pacotes instalados,\n",
        "com essa lista, utiliza-se a ferramenta grep ( presente nas distribuições linux, incluido no colab) para filtrar os pacotes.\n",
        "Temos como resultado uma lista de versões dos pacotes encontrado no ambiente virtual com base no filtro de pesquisa.\n",
        "'''\n",
        "!pip list -v | grep -E 'numpy|pandas|sklearn|matplotlib'"
      ]
    },
    {
      "cell_type": "markdown",
      "metadata": {
        "id": "dnB0n43i_UI6"
      },
      "source": [
        "## Pacotes a serem instalados manualmente:"
      ]
    },
    {
      "cell_type": "markdown",
      "metadata": {
        "id": "rRd1KcBo_UI6"
      },
      "source": [
        "Outras bibliotecas necessárias para funcionamento do projeto, são o PyDrive, que permite a conexão com o Google Drive, e o pycaret, que é uma biblioteca de Machine Learning que facilita a construção de modelos preditivos com poucas atuações de código.\n",
        "Porém esses pacotes apontados acima não são nativos do Google Colab, e precisam ser instalados. Para isso, basta executar o comando abaixo.\n",
        "Não só isso, mas por uma exigência do **numba**, devemos instalar exatamente a versão mais recente, pois ele aceita a versão _1.21.6_ do **numpy**"
      ]
    },
    {
      "cell_type": "code",
      "execution_count": null,
      "metadata": {
        "id": "FX9PGH51_UI7"
      },
      "outputs": [],
      "source": [
        "'''\n",
        "O gerenciador pip, instala os pacotes no ambiente virtual, para que possam ser utilizados no código.\n",
        "São usados os argumentos:\n",
        "\t-q: quiet, não exibe a saída do comando no terminal para não poluir a saída do notebook.\n",
        "'''\n",
        "\n",
        "%pip install -q PyDrive "
      ]
    },
    {
      "cell_type": "markdown",
      "source": [
        "_É normal que após instalação, seja necessário a reinicialização da máquina virtual para aplicar as alterações!_"
      ],
      "metadata": {
        "id": "sb1TJYWrFFdR"
      }
    },
    {
      "cell_type": "markdown",
      "metadata": {
        "id": "7TnLU74I_UI8"
      },
      "source": [
        "## Importando bibliotecas:"
      ]
    },
    {
      "cell_type": "markdown",
      "metadata": {
        "id": "s3WowAvZ_UI8"
      },
      "source": [
        "Neste processo é feito a importação das bibliotecas usadas de modo geral durante a execução do projeto."
      ]
    },
    {
      "cell_type": "code",
      "execution_count": null,
      "metadata": {
        "id": "m-8YwVx_cYyE"
      },
      "outputs": [],
      "source": [
        "'''\n",
        "Importa as bibliotecas pandas e numpy para manipulação de dados e matemática respectivamente.\n",
        "São utilizadas diretivas de importação para facilitar a leitura do código.\n",
        "- np é um alias para numpy\n",
        "- pd é um alias para pandas.\n",
        "'''\n",
        "import pandas as pd\n",
        "import numpy as np\n",
        "\n",
        "\n",
        "'''\n",
        "Importa as bibliotecas necessárias para autenticação no google drive e download dos arquivos de dados.\n",
        "O Colab contém bibliotecas para autenticação no google drive, para que possamos acessar os arquivos de dados.\n",
        "Já o PyDrive facilita a manipulação dos arquivos no google drive.\n",
        "'''\n",
        "from google.colab import auth\n",
        "from google.colab.drive import mount\n",
        "from oauth2client.client import GoogleCredentials\n",
        "from pydrive.auth import GoogleAuth\n",
        "from pydrive.drive import GoogleDrive\n",
        "\n",
        "\n",
        "### --------------------------------------------------------------------------------\n",
        "##Importa as bibliotecas necessárias para a criação do modelo de machine learning.\n",
        "\n",
        "# Sklearn que contém algoritmos de aprendizado supervisionado e não supervisionado para classificação, regressão e clustering.\n",
        "from sklearn.model_selection import train_test_split\n",
        "from sklearn import metrics\n",
        "from sklearn.preprocessing import LabelEncoder\n",
        "from sklearn.naive_bayes import GaussianNB\n",
        "from sklearn.neighbors import NearestNeighbors\n",
        "from sklearn.neighbors import KNeighborsClassifier\n",
        "from sklearn.tree import DecisionTreeClassifier\n",
        "from sklearn.ensemble import GradientBoostingClassifier\n",
        "from sklearn.linear_model import LogisticRegression\n",
        "from sklearn.feature_selection import RFE\n",
        "from sklearn.preprocessing import MinMaxScaler\n",
        "from sklearn import svm\n",
        "from sklearn.svm import SVC\n",
        "from sklearn.model_selection import RandomizedSearchCV\n",
        "from sklearn.model_selection import GridSearchCV\n",
        "from sklearn.ensemble import RandomForestClassifier\n",
        "from sklearn.datasets import make_classification\n",
        "\n",
        "# Importação de bibliotecas para carregar modelo\n",
        "from joblib import load\n",
        "\n",
        "### --------------------------------------------------------------------------------\n",
        "\n",
        "\n",
        "# Importação da biblioteca Plotly, que cria gráficos interativos para a visualização dos dados\n",
        "import plotly.express as px\n",
        "\n",
        "\n",
        "# Importação da biblioteca Matplotlib e alguns módulos do sklearn, que cria gráficos estáticos para a visualização dos dados\n",
        "from sklearn.tree import plot_tree\n",
        "from sklearn.metrics import plot_confusion_matrix\n",
        "import matplotlib.pyplot as plt\n",
        "\n",
        "\n",
        "# Remove warnings durante a execução do código, para facilitar a leitura do notebook e evitar poluição da saída.\n",
        "import warnings\n",
        "warnings.filterwarnings('ignore')"
      ]
    },
    {
      "cell_type": "markdown",
      "metadata": {
        "id": "RBB2ZoR3gIWG"
      },
      "source": [
        "# **Carregando dados**"
      ]
    },
    {
      "cell_type": "markdown",
      "metadata": {
        "id": "dvWrgER9_UI_"
      },
      "source": [
        "## Acessando dados no Google Drive e importando para o Colab\n",
        "Neste passo, é necessário autenticar o Colab no Google Drive para que possamos acessar os arquivos de dados e importá-los para o ambiente virtual do Colab."
      ]
    },
    {
      "cell_type": "code",
      "execution_count": null,
      "metadata": {
        "id": "TirIpZ5Uc7sJ"
      },
      "outputs": [],
      "source": [
        "# Permite o acesso a conta google do usuário para autenticação no google drive.\n",
        "auth.authenticate_user()\n",
        "gauth = GoogleAuth()\n",
        "\n",
        "# Autentica o usuário no google drive.\n",
        "gauth.credentials = GoogleCredentials.get_application_default()\n",
        "drive = GoogleDrive(gauth)"
      ]
    },
    {
      "cell_type": "markdown",
      "metadata": {
        "id": "OJQ3tZvc_UI_"
      },
      "source": [
        "Agora devemos fazer o download dos dados do Google Drive para a máquina virtual do Colab."
      ]
    },
    {
      "cell_type": "code",
      "execution_count": null,
      "metadata": {
        "id": "rIc7X8KzlA3J"
      },
      "outputs": [],
      "source": [
        "# Download dos dados para esta máquina virtual\n",
        "downloaded = drive.CreateFile({'id': '1DUV-TOm5NhiaDfBgewwh26Ky7jgoC1mU'})\n",
        "downloaded.GetContentFile('data.csv')"
      ]
    },
    {
      "cell_type": "markdown",
      "metadata": {
        "id": "-7S2DLh4_UJA"
      },
      "source": [
        "## Importando os dados para um Dataframe\n"
      ]
    },
    {
      "cell_type": "markdown",
      "metadata": {
        "id": "xkvZR_3q_UJA"
      },
      "source": [
        "Com os dados devidamentes alocados na máquina, conseguimos fazer a leitura dos mesmos e armazená-los em um DataFrame."
      ]
    },
    {
      "cell_type": "code",
      "execution_count": null,
      "metadata": {
        "colab": {
          "base_uri": "https://localhost:8080/"
        },
        "id": "rMggpa8UimvR",
        "outputId": "236b3f40-b66a-4258-d025-ec83aec46357"
      },
      "outputs": [
        {
          "output_type": "execute_result",
          "data": {
            "text/plain": [
              "   anomes                                       num_cpf_hash  vlr_credito  \\\n",
              "0  202104  fffff8b0db8eff291be8b83f8885f52c52782bb42c3c4b...          NaN   \n",
              "1  202104  ffffd54b45ec46113523184fc07185a0d5cbfa876a07ba...     35943.74   \n",
              "2  202104  ffffd47a92b3e4291c013033ae528708a19eaede50f78e...      6288.22   \n",
              "3  202104  ffffc102ddd37ec29e985a4564e85a2bace79a85ebff5e...          NaN   \n",
              "4  202104  ffffbd4a3d42a12e07b1202d68c33d43220c42c8a55160...      1238.93   \n",
              "\n",
              "   vlr_saldo  num_atend_atrs  vlr_score  num_produtos  num_atend  qtd_oper  \\\n",
              "0        NaN             NaN        NaN           NaN        NaN       NaN   \n",
              "1     5815.5             NaN      377.0           1.0        NaN      24.0   \n",
              "2        NaN             NaN      257.0           NaN        NaN      22.0   \n",
              "3        NaN             NaN        NaN           NaN        NaN       NaN   \n",
              "4     1400.0             NaN      773.0           2.0        NaN      21.0   \n",
              "\n",
              "   qtd_reclm  qtd_restr vlr_renda cod_rating  ind_atrito  ind_engaj  \\\n",
              "0        NaN        1.0       NaN        NaN         NaN        NaN   \n",
              "1        NaN       10.0       NaN          A         NaN        1.0   \n",
              "2        NaN        4.0       NaN        NaN         NaN        NaN   \n",
              "3        NaN        2.0       NaN        NaN         NaN        NaN   \n",
              "4        NaN        NaN       NaN          A         NaN        1.0   \n",
              "\n",
              "   ind_novo_cli  \n",
              "0           NaN  \n",
              "1           NaN  \n",
              "2           NaN  \n",
              "3           NaN  \n",
              "4           NaN  "
            ],
            "text/html": [
              "\n",
              "  <div id=\"df-3fe2263a-ffcd-47cf-9f1e-cf1ce9e026d2\">\n",
              "    <div class=\"colab-df-container\">\n",
              "      <div>\n",
              "<style scoped>\n",
              "    .dataframe tbody tr th:only-of-type {\n",
              "        vertical-align: middle;\n",
              "    }\n",
              "\n",
              "    .dataframe tbody tr th {\n",
              "        vertical-align: top;\n",
              "    }\n",
              "\n",
              "    .dataframe thead th {\n",
              "        text-align: right;\n",
              "    }\n",
              "</style>\n",
              "<table border=\"1\" class=\"dataframe\">\n",
              "  <thead>\n",
              "    <tr style=\"text-align: right;\">\n",
              "      <th></th>\n",
              "      <th>anomes</th>\n",
              "      <th>num_cpf_hash</th>\n",
              "      <th>vlr_credito</th>\n",
              "      <th>vlr_saldo</th>\n",
              "      <th>num_atend_atrs</th>\n",
              "      <th>vlr_score</th>\n",
              "      <th>num_produtos</th>\n",
              "      <th>num_atend</th>\n",
              "      <th>qtd_oper</th>\n",
              "      <th>qtd_reclm</th>\n",
              "      <th>qtd_restr</th>\n",
              "      <th>vlr_renda</th>\n",
              "      <th>cod_rating</th>\n",
              "      <th>ind_atrito</th>\n",
              "      <th>ind_engaj</th>\n",
              "      <th>ind_novo_cli</th>\n",
              "    </tr>\n",
              "  </thead>\n",
              "  <tbody>\n",
              "    <tr>\n",
              "      <th>0</th>\n",
              "      <td>202104</td>\n",
              "      <td>fffff8b0db8eff291be8b83f8885f52c52782bb42c3c4b...</td>\n",
              "      <td>NaN</td>\n",
              "      <td>NaN</td>\n",
              "      <td>NaN</td>\n",
              "      <td>NaN</td>\n",
              "      <td>NaN</td>\n",
              "      <td>NaN</td>\n",
              "      <td>NaN</td>\n",
              "      <td>NaN</td>\n",
              "      <td>1.0</td>\n",
              "      <td>NaN</td>\n",
              "      <td>NaN</td>\n",
              "      <td>NaN</td>\n",
              "      <td>NaN</td>\n",
              "      <td>NaN</td>\n",
              "    </tr>\n",
              "    <tr>\n",
              "      <th>1</th>\n",
              "      <td>202104</td>\n",
              "      <td>ffffd54b45ec46113523184fc07185a0d5cbfa876a07ba...</td>\n",
              "      <td>35943.74</td>\n",
              "      <td>5815.5</td>\n",
              "      <td>NaN</td>\n",
              "      <td>377.0</td>\n",
              "      <td>1.0</td>\n",
              "      <td>NaN</td>\n",
              "      <td>24.0</td>\n",
              "      <td>NaN</td>\n",
              "      <td>10.0</td>\n",
              "      <td>NaN</td>\n",
              "      <td>A</td>\n",
              "      <td>NaN</td>\n",
              "      <td>1.0</td>\n",
              "      <td>NaN</td>\n",
              "    </tr>\n",
              "    <tr>\n",
              "      <th>2</th>\n",
              "      <td>202104</td>\n",
              "      <td>ffffd47a92b3e4291c013033ae528708a19eaede50f78e...</td>\n",
              "      <td>6288.22</td>\n",
              "      <td>NaN</td>\n",
              "      <td>NaN</td>\n",
              "      <td>257.0</td>\n",
              "      <td>NaN</td>\n",
              "      <td>NaN</td>\n",
              "      <td>22.0</td>\n",
              "      <td>NaN</td>\n",
              "      <td>4.0</td>\n",
              "      <td>NaN</td>\n",
              "      <td>NaN</td>\n",
              "      <td>NaN</td>\n",
              "      <td>NaN</td>\n",
              "      <td>NaN</td>\n",
              "    </tr>\n",
              "    <tr>\n",
              "      <th>3</th>\n",
              "      <td>202104</td>\n",
              "      <td>ffffc102ddd37ec29e985a4564e85a2bace79a85ebff5e...</td>\n",
              "      <td>NaN</td>\n",
              "      <td>NaN</td>\n",
              "      <td>NaN</td>\n",
              "      <td>NaN</td>\n",
              "      <td>NaN</td>\n",
              "      <td>NaN</td>\n",
              "      <td>NaN</td>\n",
              "      <td>NaN</td>\n",
              "      <td>2.0</td>\n",
              "      <td>NaN</td>\n",
              "      <td>NaN</td>\n",
              "      <td>NaN</td>\n",
              "      <td>NaN</td>\n",
              "      <td>NaN</td>\n",
              "    </tr>\n",
              "    <tr>\n",
              "      <th>4</th>\n",
              "      <td>202104</td>\n",
              "      <td>ffffbd4a3d42a12e07b1202d68c33d43220c42c8a55160...</td>\n",
              "      <td>1238.93</td>\n",
              "      <td>1400.0</td>\n",
              "      <td>NaN</td>\n",
              "      <td>773.0</td>\n",
              "      <td>2.0</td>\n",
              "      <td>NaN</td>\n",
              "      <td>21.0</td>\n",
              "      <td>NaN</td>\n",
              "      <td>NaN</td>\n",
              "      <td>NaN</td>\n",
              "      <td>A</td>\n",
              "      <td>NaN</td>\n",
              "      <td>1.0</td>\n",
              "      <td>NaN</td>\n",
              "    </tr>\n",
              "  </tbody>\n",
              "</table>\n",
              "</div>\n",
              "      <button class=\"colab-df-convert\" onclick=\"convertToInteractive('df-3fe2263a-ffcd-47cf-9f1e-cf1ce9e026d2')\"\n",
              "              title=\"Convert this dataframe to an interactive table.\"\n",
              "              style=\"display:none;\">\n",
              "        \n",
              "  <svg xmlns=\"http://www.w3.org/2000/svg\" height=\"24px\"viewBox=\"0 0 24 24\"\n",
              "       width=\"24px\">\n",
              "    <path d=\"M0 0h24v24H0V0z\" fill=\"none\"/>\n",
              "    <path d=\"M18.56 5.44l.94 2.06.94-2.06 2.06-.94-2.06-.94-.94-2.06-.94 2.06-2.06.94zm-11 1L8.5 8.5l.94-2.06 2.06-.94-2.06-.94L8.5 2.5l-.94 2.06-2.06.94zm10 10l.94 2.06.94-2.06 2.06-.94-2.06-.94-.94-2.06-.94 2.06-2.06.94z\"/><path d=\"M17.41 7.96l-1.37-1.37c-.4-.4-.92-.59-1.43-.59-.52 0-1.04.2-1.43.59L10.3 9.45l-7.72 7.72c-.78.78-.78 2.05 0 2.83L4 21.41c.39.39.9.59 1.41.59.51 0 1.02-.2 1.41-.59l7.78-7.78 2.81-2.81c.8-.78.8-2.07 0-2.86zM5.41 20L4 18.59l7.72-7.72 1.47 1.35L5.41 20z\"/>\n",
              "  </svg>\n",
              "      </button>\n",
              "      \n",
              "  <style>\n",
              "    .colab-df-container {\n",
              "      display:flex;\n",
              "      flex-wrap:wrap;\n",
              "      gap: 12px;\n",
              "    }\n",
              "\n",
              "    .colab-df-convert {\n",
              "      background-color: #E8F0FE;\n",
              "      border: none;\n",
              "      border-radius: 50%;\n",
              "      cursor: pointer;\n",
              "      display: none;\n",
              "      fill: #1967D2;\n",
              "      height: 32px;\n",
              "      padding: 0 0 0 0;\n",
              "      width: 32px;\n",
              "    }\n",
              "\n",
              "    .colab-df-convert:hover {\n",
              "      background-color: #E2EBFA;\n",
              "      box-shadow: 0px 1px 2px rgba(60, 64, 67, 0.3), 0px 1px 3px 1px rgba(60, 64, 67, 0.15);\n",
              "      fill: #174EA6;\n",
              "    }\n",
              "\n",
              "    [theme=dark] .colab-df-convert {\n",
              "      background-color: #3B4455;\n",
              "      fill: #D2E3FC;\n",
              "    }\n",
              "\n",
              "    [theme=dark] .colab-df-convert:hover {\n",
              "      background-color: #434B5C;\n",
              "      box-shadow: 0px 1px 3px 1px rgba(0, 0, 0, 0.15);\n",
              "      filter: drop-shadow(0px 1px 2px rgba(0, 0, 0, 0.3));\n",
              "      fill: #FFFFFF;\n",
              "    }\n",
              "  </style>\n",
              "\n",
              "      <script>\n",
              "        const buttonEl =\n",
              "          document.querySelector('#df-3fe2263a-ffcd-47cf-9f1e-cf1ce9e026d2 button.colab-df-convert');\n",
              "        buttonEl.style.display =\n",
              "          google.colab.kernel.accessAllowed ? 'block' : 'none';\n",
              "\n",
              "        async function convertToInteractive(key) {\n",
              "          const element = document.querySelector('#df-3fe2263a-ffcd-47cf-9f1e-cf1ce9e026d2');\n",
              "          const dataTable =\n",
              "            await google.colab.kernel.invokeFunction('convertToInteractive',\n",
              "                                                     [key], {});\n",
              "          if (!dataTable) return;\n",
              "\n",
              "          const docLinkHtml = 'Like what you see? Visit the ' +\n",
              "            '<a target=\"_blank\" href=https://colab.research.google.com/notebooks/data_table.ipynb>data table notebook</a>'\n",
              "            + ' to learn more about interactive tables.';\n",
              "          element.innerHTML = '';\n",
              "          dataTable['output_type'] = 'display_data';\n",
              "          await google.colab.output.renderOutput(dataTable, element);\n",
              "          const docLink = document.createElement('div');\n",
              "          docLink.innerHTML = docLinkHtml;\n",
              "          element.appendChild(docLink);\n",
              "        }\n",
              "      </script>\n",
              "    </div>\n",
              "  </div>\n",
              "  "
            ]
          },
          "metadata": {},
          "execution_count": 7
        }
      ],
      "source": [
        "# Carregamento dos dados baixados em um dataframe\n",
        "df = pd.read_csv('data.csv')\n",
        "\n",
        "# Verificando o dataframe\n",
        "df.head()"
      ]
    },
    {
      "cell_type": "markdown",
      "source": [
        "Carregando dados do drive ( modelo salvo no colab de criação de modelos... )"
      ],
      "metadata": {
        "id": "BTieRnQCtML_"
      }
    },
    {
      "cell_type": "code",
      "source": [
        "mount('/content/drive')\n",
        "\n",
        "\n",
        "deploy_model_loaded = load('/content/drive/MyDrive/Colab Notebooks/modelos_salvos/modelo_gb_deploy.model')\n",
        "deploy_model_loaded"
      ],
      "metadata": {
        "colab": {
          "base_uri": "https://localhost:8080/"
        },
        "id": "nWe_VOobtLhx",
        "outputId": "7dd12922-ae68-4896-c057-6bf5eefa9cf4"
      },
      "execution_count": null,
      "outputs": [
        {
          "output_type": "stream",
          "name": "stdout",
          "text": [
            "Mounted at /content/drive\n"
          ]
        },
        {
          "output_type": "execute_result",
          "data": {
            "text/plain": [
              "GradientBoostingClassifier(learning_rate=0.75, n_estimators=10, random_state=0)"
            ]
          },
          "metadata": {},
          "execution_count": 8
        }
      ]
    },
    {
      "cell_type": "markdown",
      "metadata": {
        "id": "zsbKF_RUkLQO"
      },
      "source": [
        "# **Limpeza dos dados**"
      ]
    },
    {
      "cell_type": "markdown",
      "metadata": {
        "id": "AJlGcxQAJ9VY"
      },
      "source": [
        "## **Limpeza dos dados - parte 1**\n"
      ]
    },
    {
      "cell_type": "markdown",
      "metadata": {
        "id": "2HtryhL5bDPJ"
      },
      "source": [
        "* Em primeiro lugar, é necessário retirar as linhas que não possuem cod_rating (parâmetro utilizado internamente pelo banco para classificar seus clientes), a fim de facilitar o aprendizado do modelo preditivo, visto que, se não há registro de cod_rating, a linha não pertence, necessariamente, a um cliente do banco.\n",
        "\n",
        "* Após a resolução desse primeiro empecilho, todos os valores nulos das colunas \"num_atend\", \"num_atend_atrs\", \"qtd_reclm\", \"qtd_restr\", \"ind_atrito\", \"ind_engaj\", \"ind_novo_client\" e \"vlr_score\" foram trocados para o valor zero (0), porque o modelo preditivo não consegue identificar, tampouco manipular dados diferentes de números.\n",
        "\n",
        "* Finalizando essa primeira parte, mudamos os parâmetros do cod_rating de letras (A, B, C, D, E, F, G, H e HH) para números (0, 1, 2, 3, 4, 5, 6, 7, 8 e 9, respectivamente)"
      ]
    },
    {
      "cell_type": "code",
      "execution_count": null,
      "metadata": {
        "colab": {
          "base_uri": "https://localhost:8080/"
        },
        "id": "ocN04_ug3blP",
        "outputId": "68488f59-b43f-4ede-81c3-50b8a27c57ab"
      },
      "outputs": [
        {
          "output_type": "stream",
          "name": "stdout",
          "text": [
            "Número de linhas antes da limpeza:  12032493\n",
            "Número de linhas removendo as linhas com cod_rating nulo:  6186773\n",
            "Número de linhas substituindo as linhas com valores nulos:  6186773\n"
          ]
        }
      ],
      "source": [
        "if Config.DROP_AND_FILL_NULL:\n",
        "\timport re\n",
        "\n",
        "\t# Grava o número de linhas antes da limpeza\n",
        "\tprint('Número de linhas antes da limpeza: ', df.shape[0])\n",
        "\n",
        "\t#Pega todas as linhas que possuem cod_rating diferente de Nulo\n",
        "\tdf = df[~df.cod_rating.isnull()]\n",
        "\n",
        "\t# Verificando o dataframe\n",
        "\tprint('Número de linhas removendo as linhas com cod_rating nulo: ', df.shape[0])\n",
        "\n",
        "\n",
        "\t# Substitui todos os nulos por 0 nas colunas de interesse\n",
        "\tcolumns_to_fill_nan = ['num_atend', 'num_atend_atrs', 'qtd_reclm', 'qtd_restr', 'ind_atrito', 'ind_engaj', 'ind_novo_cli', 'vlr_score', 'num_produtos']\n",
        "\tdf[columns_to_fill_nan] = df[columns_to_fill_nan].fillna(0)\n",
        "\n",
        "\t# Faz o teste de consistência verificando se existem valores nulos\n",
        "\tassert df[columns_to_fill_nan].isnull().sum().sum() == 0, 'Existem valores nulos nas colunas de interesse'\n",
        "\n",
        "\t# Verificando o dataframe\n",
        "\tprint('Número de linhas substituindo as linhas com valores nulos: ', df.shape[0])\n",
        "\n",
        "\t#Transformas o cod_rating de letras para números. Ordem alfabetica\n",
        "\t'''\n",
        "\tA -> 1\n",
        "\tB -> 2\n",
        "\t...\n",
        "\t'''\n",
        "\tle = LabelEncoder()\n",
        "\tdf['cod_rating'] = le.fit_transform(df['cod_rating'])\n",
        "\n",
        "\t# Faz o teste de consistência verificando se foi substituído todas as letras por números na coluna cod_rating\n",
        "\t# Utiliza expressão regular para verificar se existe algum valor que não seja um número\n",
        "\t# assert re.search('[a-zA-Z]', df['cod_rating'].astype(str).sum()) == None, 'Existem letras na coluna cod_rating'\n",
        "\n",
        "\t# Verificando o dataframe após a transformação\n",
        "\tdf.head()"
      ]
    },
    {
      "cell_type": "markdown",
      "metadata": {
        "id": "tVzRRt6kLKFP"
      },
      "source": [
        "## **Limpeza dos dados - parte 2**"
      ]
    },
    {
      "cell_type": "markdown",
      "metadata": {
        "id": "Dl7p0HKvbH5Z"
      },
      "source": [
        "* Nessa etapa, aquelas linhas que possuem valor de crédito e saldo como **nulos** foram retiradas, devido ao fato de que há uma alta probabilidade de que essas possoas não possuam conta no Banco Pan. \n",
        "\n",
        "* Posteriormente, a partir de uma verificação, foi percebida a existência de linhas que, apesar de possuirem valores concretos de score, valor de saldo, crédito, número de atendimentos, etc. não possuem informações na coluna **renda**. Dessa forma, a fim de potencializar o funcionamento do modelo preditivo, após perceber a irrelevância dessa coluna para a construção desse, foi decidida a sua retirada da tabela. Além dela, foi excluída, também, a coluna que continha o cpf, visto que, por ter sofrido um processo de hash, possuia letras em sua composição e não era compreendido pela predição. "
      ]
    },
    {
      "cell_type": "code",
      "execution_count": null,
      "metadata": {
        "colab": {
          "base_uri": "https://localhost:8080/"
        },
        "id": "vFhGN-XC-UsR",
        "outputId": "6089627e-2211-4f36-cb77-28847e1dec4a"
      },
      "outputs": [
        {
          "output_type": "execute_result",
          "data": {
            "text/plain": [
              "   anomes  vlr_credito  vlr_saldo  num_atend_atrs  vlr_score  num_produtos  \\\n",
              "1  202104     35943.74    5815.50             0.0      377.0           1.0   \n",
              "4  202104      1238.93    1400.00             0.0      773.0           2.0   \n",
              "7  202104     12607.75      31.70             0.0        0.0           0.0   \n",
              "8  202104     81506.54    5243.45             0.0      560.0           1.0   \n",
              "9  202104    112918.62    7252.64             0.0      374.0           2.0   \n",
              "\n",
              "   num_atend  qtd_oper  qtd_reclm  qtd_restr  cod_rating  ind_atrito  \\\n",
              "1        0.0      24.0        0.0       10.0           0         0.0   \n",
              "4        0.0      21.0        0.0        0.0           0         0.0   \n",
              "7        0.0       9.0        0.0        0.0           9         0.0   \n",
              "8        0.0      14.0        0.0        0.0           0         0.0   \n",
              "9        0.0      23.0        0.0        0.0           0         0.0   \n",
              "\n",
              "   ind_engaj  ind_novo_cli  \n",
              "1        1.0           0.0  \n",
              "4        1.0           0.0  \n",
              "7        0.0           0.0  \n",
              "8        0.0           0.0  \n",
              "9        1.0           0.0  "
            ],
            "text/html": [
              "\n",
              "  <div id=\"df-5329124c-9bff-4b3c-847e-72e6d36357c7\">\n",
              "    <div class=\"colab-df-container\">\n",
              "      <div>\n",
              "<style scoped>\n",
              "    .dataframe tbody tr th:only-of-type {\n",
              "        vertical-align: middle;\n",
              "    }\n",
              "\n",
              "    .dataframe tbody tr th {\n",
              "        vertical-align: top;\n",
              "    }\n",
              "\n",
              "    .dataframe thead th {\n",
              "        text-align: right;\n",
              "    }\n",
              "</style>\n",
              "<table border=\"1\" class=\"dataframe\">\n",
              "  <thead>\n",
              "    <tr style=\"text-align: right;\">\n",
              "      <th></th>\n",
              "      <th>anomes</th>\n",
              "      <th>vlr_credito</th>\n",
              "      <th>vlr_saldo</th>\n",
              "      <th>num_atend_atrs</th>\n",
              "      <th>vlr_score</th>\n",
              "      <th>num_produtos</th>\n",
              "      <th>num_atend</th>\n",
              "      <th>qtd_oper</th>\n",
              "      <th>qtd_reclm</th>\n",
              "      <th>qtd_restr</th>\n",
              "      <th>cod_rating</th>\n",
              "      <th>ind_atrito</th>\n",
              "      <th>ind_engaj</th>\n",
              "      <th>ind_novo_cli</th>\n",
              "    </tr>\n",
              "  </thead>\n",
              "  <tbody>\n",
              "    <tr>\n",
              "      <th>1</th>\n",
              "      <td>202104</td>\n",
              "      <td>35943.74</td>\n",
              "      <td>5815.50</td>\n",
              "      <td>0.0</td>\n",
              "      <td>377.0</td>\n",
              "      <td>1.0</td>\n",
              "      <td>0.0</td>\n",
              "      <td>24.0</td>\n",
              "      <td>0.0</td>\n",
              "      <td>10.0</td>\n",
              "      <td>0</td>\n",
              "      <td>0.0</td>\n",
              "      <td>1.0</td>\n",
              "      <td>0.0</td>\n",
              "    </tr>\n",
              "    <tr>\n",
              "      <th>4</th>\n",
              "      <td>202104</td>\n",
              "      <td>1238.93</td>\n",
              "      <td>1400.00</td>\n",
              "      <td>0.0</td>\n",
              "      <td>773.0</td>\n",
              "      <td>2.0</td>\n",
              "      <td>0.0</td>\n",
              "      <td>21.0</td>\n",
              "      <td>0.0</td>\n",
              "      <td>0.0</td>\n",
              "      <td>0</td>\n",
              "      <td>0.0</td>\n",
              "      <td>1.0</td>\n",
              "      <td>0.0</td>\n",
              "    </tr>\n",
              "    <tr>\n",
              "      <th>7</th>\n",
              "      <td>202104</td>\n",
              "      <td>12607.75</td>\n",
              "      <td>31.70</td>\n",
              "      <td>0.0</td>\n",
              "      <td>0.0</td>\n",
              "      <td>0.0</td>\n",
              "      <td>0.0</td>\n",
              "      <td>9.0</td>\n",
              "      <td>0.0</td>\n",
              "      <td>0.0</td>\n",
              "      <td>9</td>\n",
              "      <td>0.0</td>\n",
              "      <td>0.0</td>\n",
              "      <td>0.0</td>\n",
              "    </tr>\n",
              "    <tr>\n",
              "      <th>8</th>\n",
              "      <td>202104</td>\n",
              "      <td>81506.54</td>\n",
              "      <td>5243.45</td>\n",
              "      <td>0.0</td>\n",
              "      <td>560.0</td>\n",
              "      <td>1.0</td>\n",
              "      <td>0.0</td>\n",
              "      <td>14.0</td>\n",
              "      <td>0.0</td>\n",
              "      <td>0.0</td>\n",
              "      <td>0</td>\n",
              "      <td>0.0</td>\n",
              "      <td>0.0</td>\n",
              "      <td>0.0</td>\n",
              "    </tr>\n",
              "    <tr>\n",
              "      <th>9</th>\n",
              "      <td>202104</td>\n",
              "      <td>112918.62</td>\n",
              "      <td>7252.64</td>\n",
              "      <td>0.0</td>\n",
              "      <td>374.0</td>\n",
              "      <td>2.0</td>\n",
              "      <td>0.0</td>\n",
              "      <td>23.0</td>\n",
              "      <td>0.0</td>\n",
              "      <td>0.0</td>\n",
              "      <td>0</td>\n",
              "      <td>0.0</td>\n",
              "      <td>1.0</td>\n",
              "      <td>0.0</td>\n",
              "    </tr>\n",
              "  </tbody>\n",
              "</table>\n",
              "</div>\n",
              "      <button class=\"colab-df-convert\" onclick=\"convertToInteractive('df-5329124c-9bff-4b3c-847e-72e6d36357c7')\"\n",
              "              title=\"Convert this dataframe to an interactive table.\"\n",
              "              style=\"display:none;\">\n",
              "        \n",
              "  <svg xmlns=\"http://www.w3.org/2000/svg\" height=\"24px\"viewBox=\"0 0 24 24\"\n",
              "       width=\"24px\">\n",
              "    <path d=\"M0 0h24v24H0V0z\" fill=\"none\"/>\n",
              "    <path d=\"M18.56 5.44l.94 2.06.94-2.06 2.06-.94-2.06-.94-.94-2.06-.94 2.06-2.06.94zm-11 1L8.5 8.5l.94-2.06 2.06-.94-2.06-.94L8.5 2.5l-.94 2.06-2.06.94zm10 10l.94 2.06.94-2.06 2.06-.94-2.06-.94-.94-2.06-.94 2.06-2.06.94z\"/><path d=\"M17.41 7.96l-1.37-1.37c-.4-.4-.92-.59-1.43-.59-.52 0-1.04.2-1.43.59L10.3 9.45l-7.72 7.72c-.78.78-.78 2.05 0 2.83L4 21.41c.39.39.9.59 1.41.59.51 0 1.02-.2 1.41-.59l7.78-7.78 2.81-2.81c.8-.78.8-2.07 0-2.86zM5.41 20L4 18.59l7.72-7.72 1.47 1.35L5.41 20z\"/>\n",
              "  </svg>\n",
              "      </button>\n",
              "      \n",
              "  <style>\n",
              "    .colab-df-container {\n",
              "      display:flex;\n",
              "      flex-wrap:wrap;\n",
              "      gap: 12px;\n",
              "    }\n",
              "\n",
              "    .colab-df-convert {\n",
              "      background-color: #E8F0FE;\n",
              "      border: none;\n",
              "      border-radius: 50%;\n",
              "      cursor: pointer;\n",
              "      display: none;\n",
              "      fill: #1967D2;\n",
              "      height: 32px;\n",
              "      padding: 0 0 0 0;\n",
              "      width: 32px;\n",
              "    }\n",
              "\n",
              "    .colab-df-convert:hover {\n",
              "      background-color: #E2EBFA;\n",
              "      box-shadow: 0px 1px 2px rgba(60, 64, 67, 0.3), 0px 1px 3px 1px rgba(60, 64, 67, 0.15);\n",
              "      fill: #174EA6;\n",
              "    }\n",
              "\n",
              "    [theme=dark] .colab-df-convert {\n",
              "      background-color: #3B4455;\n",
              "      fill: #D2E3FC;\n",
              "    }\n",
              "\n",
              "    [theme=dark] .colab-df-convert:hover {\n",
              "      background-color: #434B5C;\n",
              "      box-shadow: 0px 1px 3px 1px rgba(0, 0, 0, 0.15);\n",
              "      filter: drop-shadow(0px 1px 2px rgba(0, 0, 0, 0.3));\n",
              "      fill: #FFFFFF;\n",
              "    }\n",
              "  </style>\n",
              "\n",
              "      <script>\n",
              "        const buttonEl =\n",
              "          document.querySelector('#df-5329124c-9bff-4b3c-847e-72e6d36357c7 button.colab-df-convert');\n",
              "        buttonEl.style.display =\n",
              "          google.colab.kernel.accessAllowed ? 'block' : 'none';\n",
              "\n",
              "        async function convertToInteractive(key) {\n",
              "          const element = document.querySelector('#df-5329124c-9bff-4b3c-847e-72e6d36357c7');\n",
              "          const dataTable =\n",
              "            await google.colab.kernel.invokeFunction('convertToInteractive',\n",
              "                                                     [key], {});\n",
              "          if (!dataTable) return;\n",
              "\n",
              "          const docLinkHtml = 'Like what you see? Visit the ' +\n",
              "            '<a target=\"_blank\" href=https://colab.research.google.com/notebooks/data_table.ipynb>data table notebook</a>'\n",
              "            + ' to learn more about interactive tables.';\n",
              "          element.innerHTML = '';\n",
              "          dataTable['output_type'] = 'display_data';\n",
              "          await google.colab.output.renderOutput(dataTable, element);\n",
              "          const docLink = document.createElement('div');\n",
              "          docLink.innerHTML = docLinkHtml;\n",
              "          element.appendChild(docLink);\n",
              "        }\n",
              "      </script>\n",
              "    </div>\n",
              "  </div>\n",
              "  "
            ]
          },
          "metadata": {},
          "execution_count": 10
        }
      ],
      "source": [
        "if Config.DROP_AND_FILL_NULL:\n",
        "\t# Retirada de todos os valores de crédito e saldo que estão nulos\n",
        "\tdf = df[~df.vlr_credito.isnull() & ~df.vlr_saldo.isnull()]\n",
        "\n",
        "# Exclusão das colunas renda e cpf\n",
        "df = df.drop('vlr_renda', axis=1)\n",
        "df = df.drop('num_cpf_hash', axis=1)\n",
        "\n",
        "# Verificação das mudanças realizadas:\n",
        "df.head()"
      ]
    },
    {
      "cell_type": "markdown",
      "metadata": {
        "id": "HimNvvo0PuE4"
      },
      "source": [
        "## Seleção de dados\n",
        " \n",
        "Após a de limpeza dos dados ausentes e dos dados nulos, foram definidas quais features serão utilizadas na construção do modelo preditivo. Para fazer tal escolha, os atributos relevantes no processo de análise da conduta de um cliente do Banco PAN foram considerados.\n",
        " \n",
        "• **Safra (“anomes”)** --> Ao analisar a safra (ano e mês), consegue-se observar o comportamento do cliente ao longo do tempo e estimar seu comportamento futuro.\n",
        " \n",
        "• **Valor de crédito (“vlr_credito”)** --> O valor de crédito apresenta a situação do cliente no mercado quando esse declara seu valor total de crédito, sendo um indicador de possíveis atritos entre cliente e banco, bem como um possível indicador de novos clientes ou clientes que possam ter a intenção de adquirir novos produtos.\n",
        " \n",
        "• **Valor de saldo (“vlr_saldo”)** --> O valor total de saldo do cliente é uma coluna que, a depender do valor (mais baixo ou mais alto), poderá indicar a existência de atrito na relação que será predita pelo modelo. \n",
        "    \n",
        "• **Número de atendimentos (“num_atend” e “num_atend_atrs”)** --> O número total de atendimentos e o número de atendimentos atrasados é um dos principais indicativos de atrito de um cliente com o Banco Pan.\n",
        "    \n",
        "• **Valor do score (“vlr_score”)**  --> O valor do score no Serasa de um cliente é capaz de identificar a necessidade do cliente de adquirir, por exemplo, certo valor de crédito no banco.\n",
        " \n",
        "• **Número de produtos (“num_produtos”)** --> Quanto maior o número de serviços aderidos, maior pode ser o nível de atrito com a instituição, considerando a preferência pelo Banco PAN quanto a esses serviços.\n",
        " \n",
        "• **Quantidade de operações (“qtd_oper”)** --> Quando um cliente possui muitas operações referentes a um mesmo serviço, deve ser considerada a preferência pelo Banco PAN, quando comparado a outras instituições financeiras.\n",
        " \n",
        "• **Quantidade de reclamações (“qtd_reclm”)** --> Se um cliente possui muitas reclamações, ele se sente insatisfeito com os serviços oferecidos pela instituição em questão. \n",
        " \n",
        "• **Quantidade de restritivos no mercado (“qtd_restr”)** --> Considera as restrições financeiras do cliente em outras companhias.\n",
        "\n",
        "• **Rating do cliente (“cod_rating”)** --> Refere-se ao risco que o cliente representa para o banco, indicando se existem atritos nessa relação ou se é provável que o cliente adquira novos produtos na instituição.\n",
        " \n",
        "• **Índice de atrito (“ind_atritado”)** --> É uma métrica interna do banco que quantifica possíveis conflitos entre o Banco PAN e seus clientes. Se esse índice for diferente de zero, está claro que o cliente possui conflitos com o banco.\n",
        " \n",
        "• **Índice de engajamento (“ind_engajado”)** --> Reflete o quão engajado o cliente é com a instituição, auxiliando o modelo preditivo a analisar se é alta ou baixa a probabilidade de que o cliente contate o banco para adquirir novos produtos ou serviços.\n",
        " \n",
        "• **Índice de identificação de novo cliente (“ind_novo_cliente”)** --> Identifica potenciais clientes do Banco PAN, os quais serão identificados ao entrarem em contato com o atendimento da instituição, de modo que a intenção de abrir uma conta no banco seja predita pelo modelo preditivo.\n",
        " \n",
        "Por fim, foram definidos os campos que não serão utilizados na construção da lógica do modelo preditivo, os quais encontram-se dispostos abaixo.\n",
        " \n",
        "• **Número do CPF (“num_cpf”)** --> Os clientes não serão avaliados individualmente porque o modelo preditivo irá considerar um conjunto de clientes. Além disso, os clientes devem ser mantidos anônimos e os valores deste campo são strings, não sendo reconhecidos pelo modelo. \n",
        " \n",
        "• **Valor da renda (“vlr_renda\")** --> A maioria dos valores para esse campo são nulos (NaN), não havendo uma quantidade suficiente de registros para que o atributo em questão influencie as predições realizadas."
      ]
    },
    {
      "cell_type": "markdown",
      "metadata": {
        "id": "3pYovDnlkR8R"
      },
      "source": [
        "# **Tratamento dos dados**"
      ]
    },
    {
      "cell_type": "markdown",
      "metadata": {
        "id": "Ym3zR3CzEZrm"
      },
      "source": [
        "## Balanceando"
      ]
    },
    {
      "cell_type": "markdown",
      "metadata": {
        "id": "7YeKiDKU3Y4H"
      },
      "source": [
        "Abaixo, está sendo realizado o tratamento dos dados, no qual é selecionada a base de dados limpa e, a partir dela, criada uma proporção entre clientes atritados e não atritados. Isso é feito porque, nos dados fornecidos, existe um volume muito elevado de clientes não atritados quando comparado ao número de clientes atritados, o que induzirá o modelo ao erro. "
      ]
    },
    {
      "cell_type": "code",
      "execution_count": null,
      "metadata": {
        "id": "9220aUNPEmit"
      },
      "outputs": [],
      "source": [
        "if Config.BALANCE_DATA:\n",
        "\t# Defino um novo daraframe somente com os clientes atritados\n",
        "\tangry_clients = df[(df.ind_atrito == 1)]\n",
        "\n",
        "\t# Multiplico o tamanho do DataFrame de clientes atritados por 1.4 para balancear a quantidade de atritados e não atitados\n",
        "\tlength_to_balence = int(len(angry_clients * 1.4))#1.4: valor definido manualmente por testes\n",
        "\n",
        "\t# Pegamos um novo DataFrame somente com clientes não atritados, pegando somente a quantidade anteriormente definida\n",
        "\tnot_angry_clients = df[(df.ind_atrito == 0)].head(length_to_balence)\n",
        "\n",
        "\t# Concateno os dataframes de não atritados e atritados, ficando assim balanceado e não enviesando o modelo\n",
        "\tframes = [angry_clients, not_angry_clients]\n",
        "\tdf = pd.concat(frames)\n",
        "\n",
        "if Config.SHUFFLE_DATA:\n",
        "\t# Misturando os dados para que não fiquem ordenados por atritados e não atritados.\n",
        "\t# O random_state é para garantir que a amostra seja sempre a mesma.\n",
        "\tdf = df.sample(frac = 1, random_state = Config.SHUFFLE_CONFIG['random_state'])\n",
        "\n",
        "if Config.BALANCE_DATA or Config.SHUFFLE_DATA:\n",
        "\t# Verificando o dataframe\n",
        "\tdf.head()"
      ]
    },
    {
      "cell_type": "markdown",
      "metadata": {
        "id": "4Fi5AJHFYH7g"
      },
      "source": [
        "## **Tratamento de dados - parte 2**"
      ]
    },
    {
      "cell_type": "markdown",
      "metadata": {
        "id": "tGZxMtxStcPU"
      },
      "source": [
        "* Agora, com os nulos tratados, confere-se a existência de algum dado no data frame que permaneça nulo, a fim de corrirgir caso o resultado seja diferente de zero. "
      ]
    },
    {
      "cell_type": "markdown",
      "metadata": {
        "id": "qZIU_ivE6fwq"
      },
      "source": [
        "# **Normalização e padronização dos dados**\n",
        "\n"
      ]
    },
    {
      "cell_type": "markdown",
      "metadata": {
        "id": "3jg5yT_N--LD"
      },
      "source": [
        "A normalização precisa ser feita após a realização da separação de treinamento e teste. Após essa etapa, é preciso realizar a normalização apenas no conjunto de treinamento para que, posteriormente, ela seja aplicada no conjunto de teste. \n",
        "* Fit: Treinamento\n",
        "* Transformação: treinamento e teste"
      ]
    },
    {
      "cell_type": "markdown",
      "metadata": {
        "id": "jHp06OtL66Kn"
      },
      "source": [
        "### Remoção de extremos:\n",
        "Para normalizar os dados, em alguns casos é necessário remover os dados de extremos, pois eles podem distorcer a normalização. Para isso, é utilizado a classe de Outliers criada abaixo:"
      ]
    },
    {
      "cell_type": "code",
      "execution_count": null,
      "metadata": {
        "id": "wUR7SBoQ7BKC"
      },
      "outputs": [],
      "source": [
        "# Cria a classe que remove outliers do dataframe\n",
        "class Outliers:\n",
        "    def __init__(self, df) -> None:\n",
        "        self.df = df\n",
        "\n",
        "    # Método que remove os outliers do dataframe\n",
        "    def remove_outliers(self, columns_to_remove_outliers: list) -> pd.DataFrame:\n",
        "        # Itera sobre as colunas de interesse\n",
        "        for column in columns_to_remove_outliers:\n",
        "            quantile_value = Config.DROP_OUTLIERS_CONFIG['percentile'] / 100\n",
        "            # Calcula o valor do primeiro quartil\n",
        "            Q1 = self.df[column].quantile(quantile_value)\n",
        "            # Calcula o valor do terceiro quartil\n",
        "            Q3 = self.df[column].quantile(1 - quantile_value)\n",
        "\n",
        "            # Calcula o valor do intervalo interquartil\n",
        "            IQR = Q3 - Q1\n",
        "\n",
        "            # Calcula o valor mínimo\n",
        "            minimum = Q1 - (IQR * 1.5)\n",
        "\n",
        "            # Calcula o valor máximo\n",
        "            maximum = Q3 + (IQR * 1.5)\n",
        "\n",
        "            # Remove os outliers\n",
        "            self.df = self.df[(self.df[column] >= minimum) & (self.df[column] <= maximum)]\n",
        "\n",
        "        # Retorna o dataframe sem os outliers\n",
        "        return self.df"
      ]
    },
    {
      "cell_type": "code",
      "execution_count": null,
      "metadata": {
        "id": "TrMm8KKH7UD_"
      },
      "outputs": [],
      "source": [
        "if Config.DROP_OUTLIERS:\n",
        "\t# Instancia a classe que remove outliers\n",
        "\toutliers = Outliers(df)\n",
        "\n",
        "\t# Remove os outliers\n",
        "\tdf = outliers.remove_outliers(Config.DROP_OUTLIERS_CONFIG['columns'])\n",
        "\n",
        "\t# Verificando o dataframe\n",
        "\tdf.head()"
      ]
    },
    {
      "cell_type": "markdown",
      "metadata": {
        "id": "SKZjlvSksSXl"
      },
      "source": [
        "### Normalização de valores da tabela "
      ]
    },
    {
      "cell_type": "markdown",
      "metadata": {
        "id": "5umIsZPjkiV6"
      },
      "source": [
        "Nos campos seguintes é possível visualizar a normalização vetorial dos valores das colunas 'vlr_credito' e 'vlr_saldo'.\n",
        "Isso se dá pelo fato de que valores de credito e saldo são, geralmente, redundantes e, para melhor processamento e desempenho do sistema, é adotado o processo de normalização, a partir do cálculo da média e da classificação desses pelos seus respectivos desvios padrões."
      ]
    },
    {
      "cell_type": "code",
      "execution_count": null,
      "metadata": {
        "id": "cbn1wWZX7Y8Y"
      },
      "outputs": [],
      "source": [
        "# Criando o objeto que será utilizado para converter os valores\n",
        "scaler = MinMaxScaler()\n",
        "\n",
        "# Seleciona os dados a serem normalizados pelo dataframe principal\n",
        "dados_pendentes = df[['vlr_credito', 'vlr_saldo']]\n",
        "\n",
        "# Dados formatados ( normalizados ), resgatados do método de transformação do MinMaxScaler\n",
        "scaler_data = scaler.fit_transform(dados_pendentes)"
      ]
    },
    {
      "cell_type": "code",
      "execution_count": null,
      "metadata": {
        "colab": {
          "base_uri": "https://localhost:8080/"
        },
        "id": "7_pLkwq57dB_",
        "outputId": "69b935a0-eb65-44ef-89cc-bc62b6026c8e"
      },
      "outputs": [
        {
          "output_type": "execute_result",
          "data": {
            "text/plain": [
              "   vlr_credito  vlr_saldo\n",
              "0     0.018128   0.003289\n",
              "1     0.000000   0.003734\n",
              "2     0.000033   0.000945\n",
              "3     0.006205   0.000521\n",
              "4     0.017931   0.000273"
            ],
            "text/html": [
              "\n",
              "  <div id=\"df-4c06a32a-7a37-4eb4-9de2-42dd9cf64d22\">\n",
              "    <div class=\"colab-df-container\">\n",
              "      <div>\n",
              "<style scoped>\n",
              "    .dataframe tbody tr th:only-of-type {\n",
              "        vertical-align: middle;\n",
              "    }\n",
              "\n",
              "    .dataframe tbody tr th {\n",
              "        vertical-align: top;\n",
              "    }\n",
              "\n",
              "    .dataframe thead th {\n",
              "        text-align: right;\n",
              "    }\n",
              "</style>\n",
              "<table border=\"1\" class=\"dataframe\">\n",
              "  <thead>\n",
              "    <tr style=\"text-align: right;\">\n",
              "      <th></th>\n",
              "      <th>vlr_credito</th>\n",
              "      <th>vlr_saldo</th>\n",
              "    </tr>\n",
              "  </thead>\n",
              "  <tbody>\n",
              "    <tr>\n",
              "      <th>0</th>\n",
              "      <td>0.018128</td>\n",
              "      <td>0.003289</td>\n",
              "    </tr>\n",
              "    <tr>\n",
              "      <th>1</th>\n",
              "      <td>0.000000</td>\n",
              "      <td>0.003734</td>\n",
              "    </tr>\n",
              "    <tr>\n",
              "      <th>2</th>\n",
              "      <td>0.000033</td>\n",
              "      <td>0.000945</td>\n",
              "    </tr>\n",
              "    <tr>\n",
              "      <th>3</th>\n",
              "      <td>0.006205</td>\n",
              "      <td>0.000521</td>\n",
              "    </tr>\n",
              "    <tr>\n",
              "      <th>4</th>\n",
              "      <td>0.017931</td>\n",
              "      <td>0.000273</td>\n",
              "    </tr>\n",
              "  </tbody>\n",
              "</table>\n",
              "</div>\n",
              "      <button class=\"colab-df-convert\" onclick=\"convertToInteractive('df-4c06a32a-7a37-4eb4-9de2-42dd9cf64d22')\"\n",
              "              title=\"Convert this dataframe to an interactive table.\"\n",
              "              style=\"display:none;\">\n",
              "        \n",
              "  <svg xmlns=\"http://www.w3.org/2000/svg\" height=\"24px\"viewBox=\"0 0 24 24\"\n",
              "       width=\"24px\">\n",
              "    <path d=\"M0 0h24v24H0V0z\" fill=\"none\"/>\n",
              "    <path d=\"M18.56 5.44l.94 2.06.94-2.06 2.06-.94-2.06-.94-.94-2.06-.94 2.06-2.06.94zm-11 1L8.5 8.5l.94-2.06 2.06-.94-2.06-.94L8.5 2.5l-.94 2.06-2.06.94zm10 10l.94 2.06.94-2.06 2.06-.94-2.06-.94-.94-2.06-.94 2.06-2.06.94z\"/><path d=\"M17.41 7.96l-1.37-1.37c-.4-.4-.92-.59-1.43-.59-.52 0-1.04.2-1.43.59L10.3 9.45l-7.72 7.72c-.78.78-.78 2.05 0 2.83L4 21.41c.39.39.9.59 1.41.59.51 0 1.02-.2 1.41-.59l7.78-7.78 2.81-2.81c.8-.78.8-2.07 0-2.86zM5.41 20L4 18.59l7.72-7.72 1.47 1.35L5.41 20z\"/>\n",
              "  </svg>\n",
              "      </button>\n",
              "      \n",
              "  <style>\n",
              "    .colab-df-container {\n",
              "      display:flex;\n",
              "      flex-wrap:wrap;\n",
              "      gap: 12px;\n",
              "    }\n",
              "\n",
              "    .colab-df-convert {\n",
              "      background-color: #E8F0FE;\n",
              "      border: none;\n",
              "      border-radius: 50%;\n",
              "      cursor: pointer;\n",
              "      display: none;\n",
              "      fill: #1967D2;\n",
              "      height: 32px;\n",
              "      padding: 0 0 0 0;\n",
              "      width: 32px;\n",
              "    }\n",
              "\n",
              "    .colab-df-convert:hover {\n",
              "      background-color: #E2EBFA;\n",
              "      box-shadow: 0px 1px 2px rgba(60, 64, 67, 0.3), 0px 1px 3px 1px rgba(60, 64, 67, 0.15);\n",
              "      fill: #174EA6;\n",
              "    }\n",
              "\n",
              "    [theme=dark] .colab-df-convert {\n",
              "      background-color: #3B4455;\n",
              "      fill: #D2E3FC;\n",
              "    }\n",
              "\n",
              "    [theme=dark] .colab-df-convert:hover {\n",
              "      background-color: #434B5C;\n",
              "      box-shadow: 0px 1px 3px 1px rgba(0, 0, 0, 0.15);\n",
              "      filter: drop-shadow(0px 1px 2px rgba(0, 0, 0, 0.3));\n",
              "      fill: #FFFFFF;\n",
              "    }\n",
              "  </style>\n",
              "\n",
              "      <script>\n",
              "        const buttonEl =\n",
              "          document.querySelector('#df-4c06a32a-7a37-4eb4-9de2-42dd9cf64d22 button.colab-df-convert');\n",
              "        buttonEl.style.display =\n",
              "          google.colab.kernel.accessAllowed ? 'block' : 'none';\n",
              "\n",
              "        async function convertToInteractive(key) {\n",
              "          const element = document.querySelector('#df-4c06a32a-7a37-4eb4-9de2-42dd9cf64d22');\n",
              "          const dataTable =\n",
              "            await google.colab.kernel.invokeFunction('convertToInteractive',\n",
              "                                                     [key], {});\n",
              "          if (!dataTable) return;\n",
              "\n",
              "          const docLinkHtml = 'Like what you see? Visit the ' +\n",
              "            '<a target=\"_blank\" href=https://colab.research.google.com/notebooks/data_table.ipynb>data table notebook</a>'\n",
              "            + ' to learn more about interactive tables.';\n",
              "          element.innerHTML = '';\n",
              "          dataTable['output_type'] = 'display_data';\n",
              "          await google.colab.output.renderOutput(dataTable, element);\n",
              "          const docLink = document.createElement('div');\n",
              "          docLink.innerHTML = docLinkHtml;\n",
              "          element.appendChild(docLink);\n",
              "        }\n",
              "      </script>\n",
              "    </div>\n",
              "  </div>\n",
              "  "
            ]
          },
          "metadata": {},
          "execution_count": 15
        }
      ],
      "source": [
        "# Criamos o dataframe para utilização dos dados normalizados, utilizando como base, as colunas dos dados anteriores a serem formatados.\n",
        "numeric_df_scaled = pd.DataFrame(scaler_data, columns = dados_pendentes.columns)\n",
        "\n",
        "numeric_df_scaled.head()"
      ]
    },
    {
      "cell_type": "markdown",
      "source": [
        "# Testando modelo"
      ],
      "metadata": {
        "id": "0S6IfKOLunaZ"
      }
    },
    {
      "cell_type": "markdown",
      "source": [
        "## Verificando os dados"
      ],
      "metadata": {
        "id": "Nyspdr8DwgtA"
      }
    },
    {
      "cell_type": "code",
      "source": [
        "# Olhando o estado atual do dataframe\n",
        "df"
      ],
      "metadata": {
        "colab": {
          "base_uri": "https://localhost:8080/",
          "height": 424
        },
        "id": "9xWdGgkfupyO",
        "outputId": "71631fd9-e3ef-4fad-ed9b-5a4c16afd787"
      },
      "execution_count": null,
      "outputs": [
        {
          "output_type": "execute_result",
          "data": {
            "text/plain": [
              "          anomes  vlr_credito    vlr_saldo  num_atend_atrs  vlr_score  \\\n",
              "5516350   202109    187585.58  7000.000000             0.0      743.0   \n",
              "979505    202104         0.00  7946.794542             0.0        0.0   \n",
              "1597862   202105       344.06  2010.000000             0.0      693.0   \n",
              "7448257   202111     64210.85  1109.000000             0.0        0.0   \n",
              "5661274   202109    185553.38   580.290000             0.0      380.0   \n",
              "...          ...          ...          ...             ...        ...   \n",
              "1351922   202105     53760.10  3199.180000             0.0      512.0   \n",
              "6408995   202110      4150.03   535.560000             0.0      173.0   \n",
              "6162867   202110     11479.15  2098.780000             0.0      693.0   \n",
              "1879250   202105      8371.52   118.560000             0.0        0.0   \n",
              "11819918  202204     85012.81  9019.710000             0.0      440.0   \n",
              "\n",
              "          num_produtos  num_atend  qtd_oper  qtd_reclm  qtd_restr  cod_rating  \\\n",
              "5516350            1.0        0.0      16.0        0.0        0.0           0   \n",
              "979505             0.0        0.0       0.0        0.0        0.0           9   \n",
              "1597862            1.0        0.0       3.0        0.0        0.0           0   \n",
              "7448257            1.0        0.0      19.0        0.0        5.0           0   \n",
              "5661274            2.0        0.0       5.0        0.0        1.0           0   \n",
              "...                ...        ...       ...        ...        ...         ...   \n",
              "1351922            1.0        0.0       6.0        0.0        0.0           0   \n",
              "6408995            2.0        0.0       3.0        0.0        2.0           4   \n",
              "6162867            2.0        0.0      15.0        0.0        0.0           0   \n",
              "1879250            0.0        0.0       5.0        0.0        5.0           9   \n",
              "11819918           6.0        0.0      26.0        0.0        0.0           0   \n",
              "\n",
              "          ind_atrito  ind_engaj  ind_novo_cli  \n",
              "5516350          0.0        0.0           0.0  \n",
              "979505           0.0        0.0           0.0  \n",
              "1597862          0.0        0.0           0.0  \n",
              "7448257          0.0        0.0           0.0  \n",
              "5661274          0.0        0.0           0.0  \n",
              "...              ...        ...           ...  \n",
              "1351922          0.0        1.0           0.0  \n",
              "6408995          0.0        0.0           0.0  \n",
              "6162867          0.0        1.0           0.0  \n",
              "1879250          0.0        0.0           0.0  \n",
              "11819918         0.0        1.0           0.0  \n",
              "\n",
              "[5654598 rows x 14 columns]"
            ],
            "text/html": [
              "\n",
              "  <div id=\"df-1a82bbec-ccd9-4e0d-a19b-7b0c1a54ed7b\">\n",
              "    <div class=\"colab-df-container\">\n",
              "      <div>\n",
              "<style scoped>\n",
              "    .dataframe tbody tr th:only-of-type {\n",
              "        vertical-align: middle;\n",
              "    }\n",
              "\n",
              "    .dataframe tbody tr th {\n",
              "        vertical-align: top;\n",
              "    }\n",
              "\n",
              "    .dataframe thead th {\n",
              "        text-align: right;\n",
              "    }\n",
              "</style>\n",
              "<table border=\"1\" class=\"dataframe\">\n",
              "  <thead>\n",
              "    <tr style=\"text-align: right;\">\n",
              "      <th></th>\n",
              "      <th>anomes</th>\n",
              "      <th>vlr_credito</th>\n",
              "      <th>vlr_saldo</th>\n",
              "      <th>num_atend_atrs</th>\n",
              "      <th>vlr_score</th>\n",
              "      <th>num_produtos</th>\n",
              "      <th>num_atend</th>\n",
              "      <th>qtd_oper</th>\n",
              "      <th>qtd_reclm</th>\n",
              "      <th>qtd_restr</th>\n",
              "      <th>cod_rating</th>\n",
              "      <th>ind_atrito</th>\n",
              "      <th>ind_engaj</th>\n",
              "      <th>ind_novo_cli</th>\n",
              "    </tr>\n",
              "  </thead>\n",
              "  <tbody>\n",
              "    <tr>\n",
              "      <th>5516350</th>\n",
              "      <td>202109</td>\n",
              "      <td>187585.58</td>\n",
              "      <td>7000.000000</td>\n",
              "      <td>0.0</td>\n",
              "      <td>743.0</td>\n",
              "      <td>1.0</td>\n",
              "      <td>0.0</td>\n",
              "      <td>16.0</td>\n",
              "      <td>0.0</td>\n",
              "      <td>0.0</td>\n",
              "      <td>0</td>\n",
              "      <td>0.0</td>\n",
              "      <td>0.0</td>\n",
              "      <td>0.0</td>\n",
              "    </tr>\n",
              "    <tr>\n",
              "      <th>979505</th>\n",
              "      <td>202104</td>\n",
              "      <td>0.00</td>\n",
              "      <td>7946.794542</td>\n",
              "      <td>0.0</td>\n",
              "      <td>0.0</td>\n",
              "      <td>0.0</td>\n",
              "      <td>0.0</td>\n",
              "      <td>0.0</td>\n",
              "      <td>0.0</td>\n",
              "      <td>0.0</td>\n",
              "      <td>9</td>\n",
              "      <td>0.0</td>\n",
              "      <td>0.0</td>\n",
              "      <td>0.0</td>\n",
              "    </tr>\n",
              "    <tr>\n",
              "      <th>1597862</th>\n",
              "      <td>202105</td>\n",
              "      <td>344.06</td>\n",
              "      <td>2010.000000</td>\n",
              "      <td>0.0</td>\n",
              "      <td>693.0</td>\n",
              "      <td>1.0</td>\n",
              "      <td>0.0</td>\n",
              "      <td>3.0</td>\n",
              "      <td>0.0</td>\n",
              "      <td>0.0</td>\n",
              "      <td>0</td>\n",
              "      <td>0.0</td>\n",
              "      <td>0.0</td>\n",
              "      <td>0.0</td>\n",
              "    </tr>\n",
              "    <tr>\n",
              "      <th>7448257</th>\n",
              "      <td>202111</td>\n",
              "      <td>64210.85</td>\n",
              "      <td>1109.000000</td>\n",
              "      <td>0.0</td>\n",
              "      <td>0.0</td>\n",
              "      <td>1.0</td>\n",
              "      <td>0.0</td>\n",
              "      <td>19.0</td>\n",
              "      <td>0.0</td>\n",
              "      <td>5.0</td>\n",
              "      <td>0</td>\n",
              "      <td>0.0</td>\n",
              "      <td>0.0</td>\n",
              "      <td>0.0</td>\n",
              "    </tr>\n",
              "    <tr>\n",
              "      <th>5661274</th>\n",
              "      <td>202109</td>\n",
              "      <td>185553.38</td>\n",
              "      <td>580.290000</td>\n",
              "      <td>0.0</td>\n",
              "      <td>380.0</td>\n",
              "      <td>2.0</td>\n",
              "      <td>0.0</td>\n",
              "      <td>5.0</td>\n",
              "      <td>0.0</td>\n",
              "      <td>1.0</td>\n",
              "      <td>0</td>\n",
              "      <td>0.0</td>\n",
              "      <td>0.0</td>\n",
              "      <td>0.0</td>\n",
              "    </tr>\n",
              "    <tr>\n",
              "      <th>...</th>\n",
              "      <td>...</td>\n",
              "      <td>...</td>\n",
              "      <td>...</td>\n",
              "      <td>...</td>\n",
              "      <td>...</td>\n",
              "      <td>...</td>\n",
              "      <td>...</td>\n",
              "      <td>...</td>\n",
              "      <td>...</td>\n",
              "      <td>...</td>\n",
              "      <td>...</td>\n",
              "      <td>...</td>\n",
              "      <td>...</td>\n",
              "      <td>...</td>\n",
              "    </tr>\n",
              "    <tr>\n",
              "      <th>1351922</th>\n",
              "      <td>202105</td>\n",
              "      <td>53760.10</td>\n",
              "      <td>3199.180000</td>\n",
              "      <td>0.0</td>\n",
              "      <td>512.0</td>\n",
              "      <td>1.0</td>\n",
              "      <td>0.0</td>\n",
              "      <td>6.0</td>\n",
              "      <td>0.0</td>\n",
              "      <td>0.0</td>\n",
              "      <td>0</td>\n",
              "      <td>0.0</td>\n",
              "      <td>1.0</td>\n",
              "      <td>0.0</td>\n",
              "    </tr>\n",
              "    <tr>\n",
              "      <th>6408995</th>\n",
              "      <td>202110</td>\n",
              "      <td>4150.03</td>\n",
              "      <td>535.560000</td>\n",
              "      <td>0.0</td>\n",
              "      <td>173.0</td>\n",
              "      <td>2.0</td>\n",
              "      <td>0.0</td>\n",
              "      <td>3.0</td>\n",
              "      <td>0.0</td>\n",
              "      <td>2.0</td>\n",
              "      <td>4</td>\n",
              "      <td>0.0</td>\n",
              "      <td>0.0</td>\n",
              "      <td>0.0</td>\n",
              "    </tr>\n",
              "    <tr>\n",
              "      <th>6162867</th>\n",
              "      <td>202110</td>\n",
              "      <td>11479.15</td>\n",
              "      <td>2098.780000</td>\n",
              "      <td>0.0</td>\n",
              "      <td>693.0</td>\n",
              "      <td>2.0</td>\n",
              "      <td>0.0</td>\n",
              "      <td>15.0</td>\n",
              "      <td>0.0</td>\n",
              "      <td>0.0</td>\n",
              "      <td>0</td>\n",
              "      <td>0.0</td>\n",
              "      <td>1.0</td>\n",
              "      <td>0.0</td>\n",
              "    </tr>\n",
              "    <tr>\n",
              "      <th>1879250</th>\n",
              "      <td>202105</td>\n",
              "      <td>8371.52</td>\n",
              "      <td>118.560000</td>\n",
              "      <td>0.0</td>\n",
              "      <td>0.0</td>\n",
              "      <td>0.0</td>\n",
              "      <td>0.0</td>\n",
              "      <td>5.0</td>\n",
              "      <td>0.0</td>\n",
              "      <td>5.0</td>\n",
              "      <td>9</td>\n",
              "      <td>0.0</td>\n",
              "      <td>0.0</td>\n",
              "      <td>0.0</td>\n",
              "    </tr>\n",
              "    <tr>\n",
              "      <th>11819918</th>\n",
              "      <td>202204</td>\n",
              "      <td>85012.81</td>\n",
              "      <td>9019.710000</td>\n",
              "      <td>0.0</td>\n",
              "      <td>440.0</td>\n",
              "      <td>6.0</td>\n",
              "      <td>0.0</td>\n",
              "      <td>26.0</td>\n",
              "      <td>0.0</td>\n",
              "      <td>0.0</td>\n",
              "      <td>0</td>\n",
              "      <td>0.0</td>\n",
              "      <td>1.0</td>\n",
              "      <td>0.0</td>\n",
              "    </tr>\n",
              "  </tbody>\n",
              "</table>\n",
              "<p>5654598 rows × 14 columns</p>\n",
              "</div>\n",
              "      <button class=\"colab-df-convert\" onclick=\"convertToInteractive('df-1a82bbec-ccd9-4e0d-a19b-7b0c1a54ed7b')\"\n",
              "              title=\"Convert this dataframe to an interactive table.\"\n",
              "              style=\"display:none;\">\n",
              "        \n",
              "  <svg xmlns=\"http://www.w3.org/2000/svg\" height=\"24px\"viewBox=\"0 0 24 24\"\n",
              "       width=\"24px\">\n",
              "    <path d=\"M0 0h24v24H0V0z\" fill=\"none\"/>\n",
              "    <path d=\"M18.56 5.44l.94 2.06.94-2.06 2.06-.94-2.06-.94-.94-2.06-.94 2.06-2.06.94zm-11 1L8.5 8.5l.94-2.06 2.06-.94-2.06-.94L8.5 2.5l-.94 2.06-2.06.94zm10 10l.94 2.06.94-2.06 2.06-.94-2.06-.94-.94-2.06-.94 2.06-2.06.94z\"/><path d=\"M17.41 7.96l-1.37-1.37c-.4-.4-.92-.59-1.43-.59-.52 0-1.04.2-1.43.59L10.3 9.45l-7.72 7.72c-.78.78-.78 2.05 0 2.83L4 21.41c.39.39.9.59 1.41.59.51 0 1.02-.2 1.41-.59l7.78-7.78 2.81-2.81c.8-.78.8-2.07 0-2.86zM5.41 20L4 18.59l7.72-7.72 1.47 1.35L5.41 20z\"/>\n",
              "  </svg>\n",
              "      </button>\n",
              "      \n",
              "  <style>\n",
              "    .colab-df-container {\n",
              "      display:flex;\n",
              "      flex-wrap:wrap;\n",
              "      gap: 12px;\n",
              "    }\n",
              "\n",
              "    .colab-df-convert {\n",
              "      background-color: #E8F0FE;\n",
              "      border: none;\n",
              "      border-radius: 50%;\n",
              "      cursor: pointer;\n",
              "      display: none;\n",
              "      fill: #1967D2;\n",
              "      height: 32px;\n",
              "      padding: 0 0 0 0;\n",
              "      width: 32px;\n",
              "    }\n",
              "\n",
              "    .colab-df-convert:hover {\n",
              "      background-color: #E2EBFA;\n",
              "      box-shadow: 0px 1px 2px rgba(60, 64, 67, 0.3), 0px 1px 3px 1px rgba(60, 64, 67, 0.15);\n",
              "      fill: #174EA6;\n",
              "    }\n",
              "\n",
              "    [theme=dark] .colab-df-convert {\n",
              "      background-color: #3B4455;\n",
              "      fill: #D2E3FC;\n",
              "    }\n",
              "\n",
              "    [theme=dark] .colab-df-convert:hover {\n",
              "      background-color: #434B5C;\n",
              "      box-shadow: 0px 1px 3px 1px rgba(0, 0, 0, 0.15);\n",
              "      filter: drop-shadow(0px 1px 2px rgba(0, 0, 0, 0.3));\n",
              "      fill: #FFFFFF;\n",
              "    }\n",
              "  </style>\n",
              "\n",
              "      <script>\n",
              "        const buttonEl =\n",
              "          document.querySelector('#df-1a82bbec-ccd9-4e0d-a19b-7b0c1a54ed7b button.colab-df-convert');\n",
              "        buttonEl.style.display =\n",
              "          google.colab.kernel.accessAllowed ? 'block' : 'none';\n",
              "\n",
              "        async function convertToInteractive(key) {\n",
              "          const element = document.querySelector('#df-1a82bbec-ccd9-4e0d-a19b-7b0c1a54ed7b');\n",
              "          const dataTable =\n",
              "            await google.colab.kernel.invokeFunction('convertToInteractive',\n",
              "                                                     [key], {});\n",
              "          if (!dataTable) return;\n",
              "\n",
              "          const docLinkHtml = 'Like what you see? Visit the ' +\n",
              "            '<a target=\"_blank\" href=https://colab.research.google.com/notebooks/data_table.ipynb>data table notebook</a>'\n",
              "            + ' to learn more about interactive tables.';\n",
              "          element.innerHTML = '';\n",
              "          dataTable['output_type'] = 'display_data';\n",
              "          await google.colab.output.renderOutput(dataTable, element);\n",
              "          const docLink = document.createElement('div');\n",
              "          docLink.innerHTML = docLinkHtml;\n",
              "          element.appendChild(docLink);\n",
              "        }\n",
              "      </script>\n",
              "    </div>\n",
              "  </div>\n",
              "  "
            ]
          },
          "metadata": {},
          "execution_count": 16
        }
      ]
    },
    {
      "cell_type": "code",
      "source": [
        "# Clientes\n",
        "print('Cliente atritados: %i' % len(df[(df['ind_atrito'] == 1)]))\n",
        "print('Cliente não atritados: %i' % len(df[(df['ind_atrito'] == 0)]))"
      ],
      "metadata": {
        "colab": {
          "base_uri": "https://localhost:8080/"
        },
        "id": "4BQV8uVev3Lp",
        "outputId": "683f9611-d0d4-47e2-8491-fd831b6d63b2"
      },
      "execution_count": null,
      "outputs": [
        {
          "output_type": "stream",
          "name": "stdout",
          "text": [
            "Cliente atritados: 2948\n",
            "Cliente não atritados: 5651650\n"
          ]
        }
      ]
    },
    {
      "cell_type": "markdown",
      "source": [
        "## Aplicando o modelo no dataframe"
      ],
      "metadata": {
        "id": "p0a7mH5Lwi4a"
      }
    },
    {
      "cell_type": "code",
      "source": [
        "df_to_predict = df.drop(columns = ['ind_atrito', 'ind_engaj', 'ind_novo_cli'])"
      ],
      "metadata": {
        "id": "jVDAZFCgxL97"
      },
      "execution_count": null,
      "outputs": []
    },
    {
      "cell_type": "code",
      "source": [
        "result_model = deploy_model_loaded.predict(df_to_predict)\n",
        "\n",
        "print('Cliente atritados gerado pelo modelo: %i' % len(df[(result_model == 1)]))\n",
        "print('Cliente não atritados gerado pelo modelo: %i' % len(df[(result_model == 0)]))"
      ],
      "metadata": {
        "colab": {
          "base_uri": "https://localhost:8080/"
        },
        "id": "t8QimkHxwnkp",
        "outputId": "2f815268-840c-4c57-925c-8fdb501c5c65"
      },
      "execution_count": null,
      "outputs": [
        {
          "output_type": "stream",
          "name": "stdout",
          "text": [
            "Cliente atritados gerado pelo modelo: 23070\n",
            "Cliente não atritados gerado pelo modelo: 5631528\n"
          ]
        }
      ]
    }
  ],
  "metadata": {
    "colab": {
      "collapsed_sections": [
        "ptDs20bV_ocy",
        "aLVMLzkZf4JH",
        "7TnLU74I_UI8",
        "RBB2ZoR3gIWG",
        "zsbKF_RUkLQO",
        "AJlGcxQAJ9VY",
        "tVzRRt6kLKFP",
        "3pYovDnlkR8R",
        "qZIU_ivE6fwq",
        "SKZjlvSksSXl",
        "n4W7FuF_3kUL",
        "vR9BpEew32Bd",
        "9TloWkrIDWBZ",
        "N7A_dYZ7EGlj",
        "YP9IcyJRE2k7",
        "23TvnsFLjaDj",
        "7A8yCvYrjp1q",
        "zwS82aXGZwi_"
      ],
      "provenance": []
    },
    "kernelspec": {
      "display_name": "Python 3.7.14 64-bit",
      "language": "python",
      "name": "python3"
    },
    "language_info": {
      "codemirror_mode": {
        "name": "ipython",
        "version": 3
      },
      "file_extension": ".py",
      "mimetype": "text/x-python",
      "name": "python",
      "nbconvert_exporter": "python",
      "pygments_lexer": "ipython3",
      "version": "3.7.14"
    },
    "vscode": {
      "interpreter": {
        "hash": "e5030792b3492f6b12d94f1f48beca3d8e59ec05fd59d0aaaa48e684281ed297"
      }
    }
  },
  "nbformat": 4,
  "nbformat_minor": 0
}