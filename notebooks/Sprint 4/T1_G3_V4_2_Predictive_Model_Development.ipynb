{
  "cells": [
    {
      "cell_type": "markdown",
      "metadata": {
        "id": "aLVMLzkZf4JH"
      },
      "source": [
        "# Importando bibliotecas"
      ]
    },
    {
      "cell_type": "markdown",
      "metadata": {
        "id": "lRZIgXtxR7zO"
      },
      "source": [
        "Primeiramente, é preciso importar, para o Jupyter Notebook, as bibliotecas necessárias para o funcionamento dos processos realizados. Os pacotes Pandas e Numpy são de uso fundamental em Python e serão utilizados na análise exploratória dos dados, bem como em sua posterior limpeza e tratamento. Scikit-Learn, por outro lado, é uma biblioteca Python aplicada a Machine Learning, e suas ferramentas serão essenciais para o desenvolvovimento do modelo preditivo."
      ]
    },
    {
      "cell_type": "code",
      "execution_count": null,
      "metadata": {
        "id": "LF4u_ym7gGSZ"
      },
      "outputs": [],
      "source": [
        "!pip install -U -q PyDrive"
      ]
    },
    {
      "cell_type": "code",
      "execution_count": null,
      "metadata": {
        "id": "m-8YwVx_cYyE"
      },
      "outputs": [],
      "source": [
        "import pandas as pd\n",
        "import numpy as np\n",
        "from pydrive.auth import GoogleAuth\n",
        "from pydrive.drive import GoogleDrive\n",
        "from google.colab import auth\n",
        "from oauth2client.client import GoogleCredentials\n",
        "from sklearn.model_selection import train_test_split\n",
        "from sklearn.metrics import r2_score\n",
        "from sklearn import metrics\n",
        "from sklearn.preprocessing import LabelEncoder\n",
        "from sklearn.naive_bayes import GaussianNB\n",
        "from sklearn.neighbors import NearestNeighbors\n",
        "from sklearn.neighbors import KNeighborsClassifier\n",
        "from sklearn.tree import DecisionTreeClassifier\n",
        "from sklearn.ensemble import GradientBoostingClassifier\n",
        "from sklearn.linear_model import LogisticRegression\n",
        "from sklearn.feature_selection import RFE\n",
        "from sklearn.preprocessing import MinMaxScaler\n",
        "\n",
        "import warnings\n",
        "warnings.filterwarnings('ignore')"
      ]
    },
    {
      "cell_type": "markdown",
      "metadata": {
        "id": "W7l2Cg2MyjFR"
      },
      "source": [
        "# Safra Artificial"
      ]
    },
    {
      "cell_type": "markdown",
      "metadata": {
        "id": "8bwCXv14j5MX"
      },
      "source": [
        "A primeira opção para a qual foram aplicados os modelos preditivos desenvolvidos se refere aos registros de uma safra artificial. A partir disso, foram selecionados todos os registros contidos no dataframe, de modo que as proporções relacionadas a determinadas features (colunas) fossem devidamente balanceadas. Assim, ao invés de selecionar uma única safra para basear o modelo preditivo, todas as safras existentes foram consideradas."
      ]
    },
    {
      "cell_type": "markdown",
      "metadata": {
        "id": "RBB2ZoR3gIWG"
      },
      "source": [
        "# Carregando dados"
      ]
    },
    {
      "cell_type": "code",
      "execution_count": null,
      "metadata": {
        "id": "TirIpZ5Uc7sJ"
      },
      "outputs": [],
      "source": [
        "# Autenticação para acesso aos dados\n",
        "auth.authenticate_user()\n",
        "gauth = GoogleAuth()\n",
        "gauth.credentials = GoogleCredentials.get_application_default()\n",
        "drive = GoogleDrive(gauth)"
      ]
    },
    {
      "cell_type": "code",
      "execution_count": null,
      "metadata": {
        "id": "rIc7X8KzlA3J"
      },
      "outputs": [],
      "source": [
        "# Download dos dados para esta máquina virtual\n",
        "downloaded = drive.CreateFile({'id': '1DUV-TOm5NhiaDfBgewwh26Ky7jgoC1mU'})\n",
        "downloaded.GetContentFile('data.csv')"
      ]
    },
    {
      "cell_type": "code",
      "execution_count": null,
      "metadata": {
        "colab": {
          "base_uri": "https://localhost:8080/",
          "height": 270
        },
        "id": "rMggpa8UimvR",
        "outputId": "12567849-0e4f-4922-96fa-8eebed3a0224"
      },
      "outputs": [
        {
          "data": {
            "text/html": [
              "\n",
              "  <div id=\"df-9e4a3624-4ba0-4739-8a4c-7a5428a693d4\">\n",
              "    <div class=\"colab-df-container\">\n",
              "      <div>\n",
              "<style scoped>\n",
              "    .dataframe tbody tr th:only-of-type {\n",
              "        vertical-align: middle;\n",
              "    }\n",
              "\n",
              "    .dataframe tbody tr th {\n",
              "        vertical-align: top;\n",
              "    }\n",
              "\n",
              "    .dataframe thead th {\n",
              "        text-align: right;\n",
              "    }\n",
              "</style>\n",
              "<table border=\"1\" class=\"dataframe\">\n",
              "  <thead>\n",
              "    <tr style=\"text-align: right;\">\n",
              "      <th></th>\n",
              "      <th>anomes</th>\n",
              "      <th>num_cpf_hash</th>\n",
              "      <th>vlr_credito</th>\n",
              "      <th>vlr_saldo</th>\n",
              "      <th>num_atend_atrs</th>\n",
              "      <th>vlr_score</th>\n",
              "      <th>num_produtos</th>\n",
              "      <th>num_atend</th>\n",
              "      <th>qtd_oper</th>\n",
              "      <th>qtd_reclm</th>\n",
              "      <th>qtd_restr</th>\n",
              "      <th>vlr_renda</th>\n",
              "      <th>cod_rating</th>\n",
              "      <th>ind_atrito</th>\n",
              "      <th>ind_engaj</th>\n",
              "      <th>ind_novo_cli</th>\n",
              "    </tr>\n",
              "  </thead>\n",
              "  <tbody>\n",
              "    <tr>\n",
              "      <th>0</th>\n",
              "      <td>202104</td>\n",
              "      <td>fffff8b0db8eff291be8b83f8885f52c52782bb42c3c4b...</td>\n",
              "      <td>NaN</td>\n",
              "      <td>NaN</td>\n",
              "      <td>NaN</td>\n",
              "      <td>NaN</td>\n",
              "      <td>NaN</td>\n",
              "      <td>NaN</td>\n",
              "      <td>NaN</td>\n",
              "      <td>NaN</td>\n",
              "      <td>1.0</td>\n",
              "      <td>NaN</td>\n",
              "      <td>NaN</td>\n",
              "      <td>NaN</td>\n",
              "      <td>NaN</td>\n",
              "      <td>NaN</td>\n",
              "    </tr>\n",
              "    <tr>\n",
              "      <th>1</th>\n",
              "      <td>202104</td>\n",
              "      <td>ffffd54b45ec46113523184fc07185a0d5cbfa876a07ba...</td>\n",
              "      <td>35943.74</td>\n",
              "      <td>5815.5</td>\n",
              "      <td>NaN</td>\n",
              "      <td>377.0</td>\n",
              "      <td>1.0</td>\n",
              "      <td>NaN</td>\n",
              "      <td>24.0</td>\n",
              "      <td>NaN</td>\n",
              "      <td>10.0</td>\n",
              "      <td>NaN</td>\n",
              "      <td>A</td>\n",
              "      <td>NaN</td>\n",
              "      <td>1.0</td>\n",
              "      <td>NaN</td>\n",
              "    </tr>\n",
              "    <tr>\n",
              "      <th>2</th>\n",
              "      <td>202104</td>\n",
              "      <td>ffffd47a92b3e4291c013033ae528708a19eaede50f78e...</td>\n",
              "      <td>6288.22</td>\n",
              "      <td>NaN</td>\n",
              "      <td>NaN</td>\n",
              "      <td>257.0</td>\n",
              "      <td>NaN</td>\n",
              "      <td>NaN</td>\n",
              "      <td>22.0</td>\n",
              "      <td>NaN</td>\n",
              "      <td>4.0</td>\n",
              "      <td>NaN</td>\n",
              "      <td>NaN</td>\n",
              "      <td>NaN</td>\n",
              "      <td>NaN</td>\n",
              "      <td>NaN</td>\n",
              "    </tr>\n",
              "    <tr>\n",
              "      <th>3</th>\n",
              "      <td>202104</td>\n",
              "      <td>ffffc102ddd37ec29e985a4564e85a2bace79a85ebff5e...</td>\n",
              "      <td>NaN</td>\n",
              "      <td>NaN</td>\n",
              "      <td>NaN</td>\n",
              "      <td>NaN</td>\n",
              "      <td>NaN</td>\n",
              "      <td>NaN</td>\n",
              "      <td>NaN</td>\n",
              "      <td>NaN</td>\n",
              "      <td>2.0</td>\n",
              "      <td>NaN</td>\n",
              "      <td>NaN</td>\n",
              "      <td>NaN</td>\n",
              "      <td>NaN</td>\n",
              "      <td>NaN</td>\n",
              "    </tr>\n",
              "    <tr>\n",
              "      <th>4</th>\n",
              "      <td>202104</td>\n",
              "      <td>ffffbd4a3d42a12e07b1202d68c33d43220c42c8a55160...</td>\n",
              "      <td>1238.93</td>\n",
              "      <td>1400.0</td>\n",
              "      <td>NaN</td>\n",
              "      <td>773.0</td>\n",
              "      <td>2.0</td>\n",
              "      <td>NaN</td>\n",
              "      <td>21.0</td>\n",
              "      <td>NaN</td>\n",
              "      <td>NaN</td>\n",
              "      <td>NaN</td>\n",
              "      <td>A</td>\n",
              "      <td>NaN</td>\n",
              "      <td>1.0</td>\n",
              "      <td>NaN</td>\n",
              "    </tr>\n",
              "  </tbody>\n",
              "</table>\n",
              "</div>\n",
              "      <button class=\"colab-df-convert\" onclick=\"convertToInteractive('df-9e4a3624-4ba0-4739-8a4c-7a5428a693d4')\"\n",
              "              title=\"Convert this dataframe to an interactive table.\"\n",
              "              style=\"display:none;\">\n",
              "        \n",
              "  <svg xmlns=\"http://www.w3.org/2000/svg\" height=\"24px\"viewBox=\"0 0 24 24\"\n",
              "       width=\"24px\">\n",
              "    <path d=\"M0 0h24v24H0V0z\" fill=\"none\"/>\n",
              "    <path d=\"M18.56 5.44l.94 2.06.94-2.06 2.06-.94-2.06-.94-.94-2.06-.94 2.06-2.06.94zm-11 1L8.5 8.5l.94-2.06 2.06-.94-2.06-.94L8.5 2.5l-.94 2.06-2.06.94zm10 10l.94 2.06.94-2.06 2.06-.94-2.06-.94-.94-2.06-.94 2.06-2.06.94z\"/><path d=\"M17.41 7.96l-1.37-1.37c-.4-.4-.92-.59-1.43-.59-.52 0-1.04.2-1.43.59L10.3 9.45l-7.72 7.72c-.78.78-.78 2.05 0 2.83L4 21.41c.39.39.9.59 1.41.59.51 0 1.02-.2 1.41-.59l7.78-7.78 2.81-2.81c.8-.78.8-2.07 0-2.86zM5.41 20L4 18.59l7.72-7.72 1.47 1.35L5.41 20z\"/>\n",
              "  </svg>\n",
              "      </button>\n",
              "      \n",
              "  <style>\n",
              "    .colab-df-container {\n",
              "      display:flex;\n",
              "      flex-wrap:wrap;\n",
              "      gap: 12px;\n",
              "    }\n",
              "\n",
              "    .colab-df-convert {\n",
              "      background-color: #E8F0FE;\n",
              "      border: none;\n",
              "      border-radius: 50%;\n",
              "      cursor: pointer;\n",
              "      display: none;\n",
              "      fill: #1967D2;\n",
              "      height: 32px;\n",
              "      padding: 0 0 0 0;\n",
              "      width: 32px;\n",
              "    }\n",
              "\n",
              "    .colab-df-convert:hover {\n",
              "      background-color: #E2EBFA;\n",
              "      box-shadow: 0px 1px 2px rgba(60, 64, 67, 0.3), 0px 1px 3px 1px rgba(60, 64, 67, 0.15);\n",
              "      fill: #174EA6;\n",
              "    }\n",
              "\n",
              "    [theme=dark] .colab-df-convert {\n",
              "      background-color: #3B4455;\n",
              "      fill: #D2E3FC;\n",
              "    }\n",
              "\n",
              "    [theme=dark] .colab-df-convert:hover {\n",
              "      background-color: #434B5C;\n",
              "      box-shadow: 0px 1px 3px 1px rgba(0, 0, 0, 0.15);\n",
              "      filter: drop-shadow(0px 1px 2px rgba(0, 0, 0, 0.3));\n",
              "      fill: #FFFFFF;\n",
              "    }\n",
              "  </style>\n",
              "\n",
              "      <script>\n",
              "        const buttonEl =\n",
              "          document.querySelector('#df-9e4a3624-4ba0-4739-8a4c-7a5428a693d4 button.colab-df-convert');\n",
              "        buttonEl.style.display =\n",
              "          google.colab.kernel.accessAllowed ? 'block' : 'none';\n",
              "\n",
              "        async function convertToInteractive(key) {\n",
              "          const element = document.querySelector('#df-9e4a3624-4ba0-4739-8a4c-7a5428a693d4');\n",
              "          const dataTable =\n",
              "            await google.colab.kernel.invokeFunction('convertToInteractive',\n",
              "                                                     [key], {});\n",
              "          if (!dataTable) return;\n",
              "\n",
              "          const docLinkHtml = 'Like what you see? Visit the ' +\n",
              "            '<a target=\"_blank\" href=https://colab.research.google.com/notebooks/data_table.ipynb>data table notebook</a>'\n",
              "            + ' to learn more about interactive tables.';\n",
              "          element.innerHTML = '';\n",
              "          dataTable['output_type'] = 'display_data';\n",
              "          await google.colab.output.renderOutput(dataTable, element);\n",
              "          const docLink = document.createElement('div');\n",
              "          docLink.innerHTML = docLinkHtml;\n",
              "          element.appendChild(docLink);\n",
              "        }\n",
              "      </script>\n",
              "    </div>\n",
              "  </div>\n",
              "  "
            ],
            "text/plain": [
              "   anomes                                       num_cpf_hash  vlr_credito  \\\n",
              "0  202104  fffff8b0db8eff291be8b83f8885f52c52782bb42c3c4b...          NaN   \n",
              "1  202104  ffffd54b45ec46113523184fc07185a0d5cbfa876a07ba...     35943.74   \n",
              "2  202104  ffffd47a92b3e4291c013033ae528708a19eaede50f78e...      6288.22   \n",
              "3  202104  ffffc102ddd37ec29e985a4564e85a2bace79a85ebff5e...          NaN   \n",
              "4  202104  ffffbd4a3d42a12e07b1202d68c33d43220c42c8a55160...      1238.93   \n",
              "\n",
              "   vlr_saldo  num_atend_atrs  vlr_score  num_produtos  num_atend  qtd_oper  \\\n",
              "0        NaN             NaN        NaN           NaN        NaN       NaN   \n",
              "1     5815.5             NaN      377.0           1.0        NaN      24.0   \n",
              "2        NaN             NaN      257.0           NaN        NaN      22.0   \n",
              "3        NaN             NaN        NaN           NaN        NaN       NaN   \n",
              "4     1400.0             NaN      773.0           2.0        NaN      21.0   \n",
              "\n",
              "   qtd_reclm  qtd_restr vlr_renda cod_rating  ind_atrito  ind_engaj  \\\n",
              "0        NaN        1.0       NaN        NaN         NaN        NaN   \n",
              "1        NaN       10.0       NaN          A         NaN        1.0   \n",
              "2        NaN        4.0       NaN        NaN         NaN        NaN   \n",
              "3        NaN        2.0       NaN        NaN         NaN        NaN   \n",
              "4        NaN        NaN       NaN          A         NaN        1.0   \n",
              "\n",
              "   ind_novo_cli  \n",
              "0           NaN  \n",
              "1           NaN  \n",
              "2           NaN  \n",
              "3           NaN  \n",
              "4           NaN  "
            ]
          },
          "execution_count": 5,
          "metadata": {},
          "output_type": "execute_result"
        }
      ],
      "source": [
        "# Carregamento dos dados baixados em um dataframe \n",
        "df = pd.read_csv('data.csv')\n",
        "df.head()"
      ]
    },
    {
      "cell_type": "markdown",
      "metadata": {
        "id": "9QpmmTpgJter"
      },
      "source": [
        "# Análise exploratória dos dados"
      ]
    },
    {
      "cell_type": "code",
      "execution_count": null,
      "metadata": {
        "id": "-Kkc0eLYNlMP"
      },
      "outputs": [],
      "source": [
        "# Importação da biblioteca Plotly, que cria gráficos interativos para a visualização dos dados\n",
        "import plotly.express as px"
      ]
    },
    {
      "cell_type": "markdown",
      "metadata": {
        "id": "VdG0FMu9Jpwm"
      },
      "source": [
        "A seguir, estamos calculando as médias de algumas features que podem ser relevantes para o posterior treinamento do nosso modelo preditivo, a fim de melhor entender a situação dos clientes como um todo.\n"
      ]
    },
    {
      "cell_type": "code",
      "execution_count": null,
      "metadata": {
        "colab": {
          "base_uri": "https://localhost:8080/",
          "height": 526
        },
        "id": "Ng0o1RHoJ0Qm",
        "outputId": "dae863ce-5f32-4f43-fcf4-e40e3678c08b"
      },
      "outputs": [
        {
          "name": "stdout",
          "output_type": "stream",
          "text": [
            "vlr_credito       17473.173800\n",
            "vlr_saldo          3020.682365\n",
            "vlr_score           329.011591\n",
            "num_atend_atrs        0.000579\n",
            "num_produtos          0.837787\n",
            "dtype: float64\n"
          ]
        },
        {
          "data": {
            "text/html": [
              "<html>\n",
              "<head><meta charset=\"utf-8\" /></head>\n",
              "<body>\n",
              "    <div>            <script src=\"https://cdnjs.cloudflare.com/ajax/libs/mathjax/2.7.5/MathJax.js?config=TeX-AMS-MML_SVG\"></script><script type=\"text/javascript\">if (window.MathJax) {MathJax.Hub.Config({SVG: {font: \"STIX-Web\"}});}</script>                <script type=\"text/javascript\">window.PlotlyConfig = {MathJaxConfig: 'local'};</script>\n",
              "        <script src=\"https://cdn.plot.ly/plotly-2.8.3.min.js\"></script>                <div id=\"6bed8cb2-432d-4eba-b7ef-72e7f2524428\" class=\"plotly-graph-div\" style=\"height:400px; width:700px;\"></div>            <script type=\"text/javascript\">                                    window.PLOTLYENV=window.PLOTLYENV || {};                                    if (document.getElementById(\"6bed8cb2-432d-4eba-b7ef-72e7f2524428\")) {                    Plotly.newPlot(                        \"6bed8cb2-432d-4eba-b7ef-72e7f2524428\",                        [{\"alignmentgroup\":\"True\",\"hovertemplate\":\"index=%{x}<br>0=%{y}<extra></extra>\",\"legendgroup\":\"\",\"marker\":{\"color\":\"#636efa\",\"pattern\":{\"shape\":\"\"}},\"name\":\"\",\"offsetgroup\":\"\",\"orientation\":\"v\",\"showlegend\":false,\"textposition\":\"auto\",\"x\":[\"vlr_credito\",\"vlr_saldo\",\"vlr_score\",\"num_atend_atrs\",\"num_produtos\"],\"xaxis\":\"x\",\"y\":[17473.173800150966,3020.682365496271,329.0115905324026,0.0005785999626178881,0.8377872316235713],\"yaxis\":\"y\",\"type\":\"bar\"}],                        {\"template\":{\"data\":{\"bar\":[{\"error_x\":{\"color\":\"#2a3f5f\"},\"error_y\":{\"color\":\"#2a3f5f\"},\"marker\":{\"line\":{\"color\":\"#E5ECF6\",\"width\":0.5},\"pattern\":{\"fillmode\":\"overlay\",\"size\":10,\"solidity\":0.2}},\"type\":\"bar\"}],\"barpolar\":[{\"marker\":{\"line\":{\"color\":\"#E5ECF6\",\"width\":0.5},\"pattern\":{\"fillmode\":\"overlay\",\"size\":10,\"solidity\":0.2}},\"type\":\"barpolar\"}],\"carpet\":[{\"aaxis\":{\"endlinecolor\":\"#2a3f5f\",\"gridcolor\":\"white\",\"linecolor\":\"white\",\"minorgridcolor\":\"white\",\"startlinecolor\":\"#2a3f5f\"},\"baxis\":{\"endlinecolor\":\"#2a3f5f\",\"gridcolor\":\"white\",\"linecolor\":\"white\",\"minorgridcolor\":\"white\",\"startlinecolor\":\"#2a3f5f\"},\"type\":\"carpet\"}],\"choropleth\":[{\"colorbar\":{\"outlinewidth\":0,\"ticks\":\"\"},\"type\":\"choropleth\"}],\"contour\":[{\"colorbar\":{\"outlinewidth\":0,\"ticks\":\"\"},\"colorscale\":[[0.0,\"#0d0887\"],[0.1111111111111111,\"#46039f\"],[0.2222222222222222,\"#7201a8\"],[0.3333333333333333,\"#9c179e\"],[0.4444444444444444,\"#bd3786\"],[0.5555555555555556,\"#d8576b\"],[0.6666666666666666,\"#ed7953\"],[0.7777777777777778,\"#fb9f3a\"],[0.8888888888888888,\"#fdca26\"],[1.0,\"#f0f921\"]],\"type\":\"contour\"}],\"contourcarpet\":[{\"colorbar\":{\"outlinewidth\":0,\"ticks\":\"\"},\"type\":\"contourcarpet\"}],\"heatmap\":[{\"colorbar\":{\"outlinewidth\":0,\"ticks\":\"\"},\"colorscale\":[[0.0,\"#0d0887\"],[0.1111111111111111,\"#46039f\"],[0.2222222222222222,\"#7201a8\"],[0.3333333333333333,\"#9c179e\"],[0.4444444444444444,\"#bd3786\"],[0.5555555555555556,\"#d8576b\"],[0.6666666666666666,\"#ed7953\"],[0.7777777777777778,\"#fb9f3a\"],[0.8888888888888888,\"#fdca26\"],[1.0,\"#f0f921\"]],\"type\":\"heatmap\"}],\"heatmapgl\":[{\"colorbar\":{\"outlinewidth\":0,\"ticks\":\"\"},\"colorscale\":[[0.0,\"#0d0887\"],[0.1111111111111111,\"#46039f\"],[0.2222222222222222,\"#7201a8\"],[0.3333333333333333,\"#9c179e\"],[0.4444444444444444,\"#bd3786\"],[0.5555555555555556,\"#d8576b\"],[0.6666666666666666,\"#ed7953\"],[0.7777777777777778,\"#fb9f3a\"],[0.8888888888888888,\"#fdca26\"],[1.0,\"#f0f921\"]],\"type\":\"heatmapgl\"}],\"histogram\":[{\"marker\":{\"pattern\":{\"fillmode\":\"overlay\",\"size\":10,\"solidity\":0.2}},\"type\":\"histogram\"}],\"histogram2d\":[{\"colorbar\":{\"outlinewidth\":0,\"ticks\":\"\"},\"colorscale\":[[0.0,\"#0d0887\"],[0.1111111111111111,\"#46039f\"],[0.2222222222222222,\"#7201a8\"],[0.3333333333333333,\"#9c179e\"],[0.4444444444444444,\"#bd3786\"],[0.5555555555555556,\"#d8576b\"],[0.6666666666666666,\"#ed7953\"],[0.7777777777777778,\"#fb9f3a\"],[0.8888888888888888,\"#fdca26\"],[1.0,\"#f0f921\"]],\"type\":\"histogram2d\"}],\"histogram2dcontour\":[{\"colorbar\":{\"outlinewidth\":0,\"ticks\":\"\"},\"colorscale\":[[0.0,\"#0d0887\"],[0.1111111111111111,\"#46039f\"],[0.2222222222222222,\"#7201a8\"],[0.3333333333333333,\"#9c179e\"],[0.4444444444444444,\"#bd3786\"],[0.5555555555555556,\"#d8576b\"],[0.6666666666666666,\"#ed7953\"],[0.7777777777777778,\"#fb9f3a\"],[0.8888888888888888,\"#fdca26\"],[1.0,\"#f0f921\"]],\"type\":\"histogram2dcontour\"}],\"mesh3d\":[{\"colorbar\":{\"outlinewidth\":0,\"ticks\":\"\"},\"type\":\"mesh3d\"}],\"parcoords\":[{\"line\":{\"colorbar\":{\"outlinewidth\":0,\"ticks\":\"\"}},\"type\":\"parcoords\"}],\"pie\":[{\"automargin\":true,\"type\":\"pie\"}],\"scatter\":[{\"marker\":{\"colorbar\":{\"outlinewidth\":0,\"ticks\":\"\"}},\"type\":\"scatter\"}],\"scatter3d\":[{\"line\":{\"colorbar\":{\"outlinewidth\":0,\"ticks\":\"\"}},\"marker\":{\"colorbar\":{\"outlinewidth\":0,\"ticks\":\"\"}},\"type\":\"scatter3d\"}],\"scattercarpet\":[{\"marker\":{\"colorbar\":{\"outlinewidth\":0,\"ticks\":\"\"}},\"type\":\"scattercarpet\"}],\"scattergeo\":[{\"marker\":{\"colorbar\":{\"outlinewidth\":0,\"ticks\":\"\"}},\"type\":\"scattergeo\"}],\"scattergl\":[{\"marker\":{\"colorbar\":{\"outlinewidth\":0,\"ticks\":\"\"}},\"type\":\"scattergl\"}],\"scattermapbox\":[{\"marker\":{\"colorbar\":{\"outlinewidth\":0,\"ticks\":\"\"}},\"type\":\"scattermapbox\"}],\"scatterpolar\":[{\"marker\":{\"colorbar\":{\"outlinewidth\":0,\"ticks\":\"\"}},\"type\":\"scatterpolar\"}],\"scatterpolargl\":[{\"marker\":{\"colorbar\":{\"outlinewidth\":0,\"ticks\":\"\"}},\"type\":\"scatterpolargl\"}],\"scatterternary\":[{\"marker\":{\"colorbar\":{\"outlinewidth\":0,\"ticks\":\"\"}},\"type\":\"scatterternary\"}],\"surface\":[{\"colorbar\":{\"outlinewidth\":0,\"ticks\":\"\"},\"colorscale\":[[0.0,\"#0d0887\"],[0.1111111111111111,\"#46039f\"],[0.2222222222222222,\"#7201a8\"],[0.3333333333333333,\"#9c179e\"],[0.4444444444444444,\"#bd3786\"],[0.5555555555555556,\"#d8576b\"],[0.6666666666666666,\"#ed7953\"],[0.7777777777777778,\"#fb9f3a\"],[0.8888888888888888,\"#fdca26\"],[1.0,\"#f0f921\"]],\"type\":\"surface\"}],\"table\":[{\"cells\":{\"fill\":{\"color\":\"#EBF0F8\"},\"line\":{\"color\":\"white\"}},\"header\":{\"fill\":{\"color\":\"#C8D4E3\"},\"line\":{\"color\":\"white\"}},\"type\":\"table\"}]},\"layout\":{\"annotationdefaults\":{\"arrowcolor\":\"#2a3f5f\",\"arrowhead\":0,\"arrowwidth\":1},\"autotypenumbers\":\"strict\",\"coloraxis\":{\"colorbar\":{\"outlinewidth\":0,\"ticks\":\"\"}},\"colorscale\":{\"diverging\":[[0,\"#8e0152\"],[0.1,\"#c51b7d\"],[0.2,\"#de77ae\"],[0.3,\"#f1b6da\"],[0.4,\"#fde0ef\"],[0.5,\"#f7f7f7\"],[0.6,\"#e6f5d0\"],[0.7,\"#b8e186\"],[0.8,\"#7fbc41\"],[0.9,\"#4d9221\"],[1,\"#276419\"]],\"sequential\":[[0.0,\"#0d0887\"],[0.1111111111111111,\"#46039f\"],[0.2222222222222222,\"#7201a8\"],[0.3333333333333333,\"#9c179e\"],[0.4444444444444444,\"#bd3786\"],[0.5555555555555556,\"#d8576b\"],[0.6666666666666666,\"#ed7953\"],[0.7777777777777778,\"#fb9f3a\"],[0.8888888888888888,\"#fdca26\"],[1.0,\"#f0f921\"]],\"sequentialminus\":[[0.0,\"#0d0887\"],[0.1111111111111111,\"#46039f\"],[0.2222222222222222,\"#7201a8\"],[0.3333333333333333,\"#9c179e\"],[0.4444444444444444,\"#bd3786\"],[0.5555555555555556,\"#d8576b\"],[0.6666666666666666,\"#ed7953\"],[0.7777777777777778,\"#fb9f3a\"],[0.8888888888888888,\"#fdca26\"],[1.0,\"#f0f921\"]]},\"colorway\":[\"#636efa\",\"#EF553B\",\"#00cc96\",\"#ab63fa\",\"#FFA15A\",\"#19d3f3\",\"#FF6692\",\"#B6E880\",\"#FF97FF\",\"#FECB52\"],\"font\":{\"color\":\"#2a3f5f\"},\"geo\":{\"bgcolor\":\"white\",\"lakecolor\":\"white\",\"landcolor\":\"#E5ECF6\",\"showlakes\":true,\"showland\":true,\"subunitcolor\":\"white\"},\"hoverlabel\":{\"align\":\"left\"},\"hovermode\":\"closest\",\"mapbox\":{\"style\":\"light\"},\"paper_bgcolor\":\"white\",\"plot_bgcolor\":\"#E5ECF6\",\"polar\":{\"angularaxis\":{\"gridcolor\":\"white\",\"linecolor\":\"white\",\"ticks\":\"\"},\"bgcolor\":\"#E5ECF6\",\"radialaxis\":{\"gridcolor\":\"white\",\"linecolor\":\"white\",\"ticks\":\"\"}},\"scene\":{\"xaxis\":{\"backgroundcolor\":\"#E5ECF6\",\"gridcolor\":\"white\",\"gridwidth\":2,\"linecolor\":\"white\",\"showbackground\":true,\"ticks\":\"\",\"zerolinecolor\":\"white\"},\"yaxis\":{\"backgroundcolor\":\"#E5ECF6\",\"gridcolor\":\"white\",\"gridwidth\":2,\"linecolor\":\"white\",\"showbackground\":true,\"ticks\":\"\",\"zerolinecolor\":\"white\"},\"zaxis\":{\"backgroundcolor\":\"#E5ECF6\",\"gridcolor\":\"white\",\"gridwidth\":2,\"linecolor\":\"white\",\"showbackground\":true,\"ticks\":\"\",\"zerolinecolor\":\"white\"}},\"shapedefaults\":{\"line\":{\"color\":\"#2a3f5f\"}},\"ternary\":{\"aaxis\":{\"gridcolor\":\"white\",\"linecolor\":\"white\",\"ticks\":\"\"},\"baxis\":{\"gridcolor\":\"white\",\"linecolor\":\"white\",\"ticks\":\"\"},\"bgcolor\":\"#E5ECF6\",\"caxis\":{\"gridcolor\":\"white\",\"linecolor\":\"white\",\"ticks\":\"\"}},\"title\":{\"x\":0.05},\"xaxis\":{\"automargin\":true,\"gridcolor\":\"white\",\"linecolor\":\"white\",\"ticks\":\"\",\"title\":{\"standoff\":15},\"zerolinecolor\":\"white\",\"zerolinewidth\":2},\"yaxis\":{\"automargin\":true,\"gridcolor\":\"white\",\"linecolor\":\"white\",\"ticks\":\"\",\"title\":{\"standoff\":15},\"zerolinecolor\":\"white\",\"zerolinewidth\":2}}},\"xaxis\":{\"anchor\":\"y\",\"domain\":[0.0,1.0],\"title\":{\"text\":\"index\"},\"type\":\"category\"},\"yaxis\":{\"anchor\":\"x\",\"domain\":[0.0,1.0],\"title\":{\"text\":\"0\"}},\"legend\":{\"tracegroupgap\":0},\"title\":{\"text\":\"M\\u00e9dia de cr\\u00e9dito, saldo, score, atendimentos atrasados e produtos\"},\"barmode\":\"relative\",\"height\":400,\"width\":700},                        {\"responsive\": true}                    ).then(function(){\n",
              "                            \n",
              "var gd = document.getElementById('6bed8cb2-432d-4eba-b7ef-72e7f2524428');\n",
              "var x = new MutationObserver(function (mutations, observer) {{\n",
              "        var display = window.getComputedStyle(gd).display;\n",
              "        if (!display || display === 'none') {{\n",
              "            console.log([gd, 'removed!']);\n",
              "            Plotly.purge(gd);\n",
              "            observer.disconnect();\n",
              "        }}\n",
              "}});\n",
              "\n",
              "// Listen for the removal of the full notebook cells\n",
              "var notebookContainer = gd.closest('#notebook-container');\n",
              "if (notebookContainer) {{\n",
              "    x.observe(notebookContainer, {childList: true});\n",
              "}}\n",
              "\n",
              "// Listen for the clearing of the current output cell\n",
              "var outputEl = gd.closest('.output');\n",
              "if (outputEl) {{\n",
              "    x.observe(outputEl, {childList: true});\n",
              "}}\n",
              "\n",
              "                        })                };                            </script>        </div>\n",
              "</body>\n",
              "</html>"
            ]
          },
          "metadata": {},
          "output_type": "display_data"
        }
      ],
      "source": [
        "# Cálculo de médias\n",
        "medias = df[['vlr_credito', 'vlr_saldo', 'vlr_score', 'num_atend_atrs', 'num_produtos']].sum()/len(df)\n",
        "print(medias)\n",
        "medias.dtypes\n",
        "\n",
        "medias = pd.DataFrame(medias)\n",
        "\n",
        "# Criação de gráfico para a visualização das médias obtidas\n",
        "fig = px.bar(medias, y=medias[0], height=400, width=700, title='Média de crédito, saldo, score, atendimentos atrasados e produtos')\n",
        "fig.update_xaxes(type='category')\n",
        "fig.show()"
      ]
    },
    {
      "cell_type": "markdown",
      "metadata": {
        "id": "84XyTTsJKAbm"
      },
      "source": [
        "Aqui, comparamos a quantidade de atendimentos existentes com a quantidade de atendimentos que se encontram atrasados.\n"
      ]
    },
    {
      "cell_type": "code",
      "execution_count": null,
      "metadata": {
        "colab": {
          "base_uri": "https://localhost:8080/",
          "height": 417
        },
        "id": "KSD0f9AvKFRl",
        "outputId": "6ff352b3-b09b-459f-962f-80e40b6ff4b6"
      },
      "outputs": [
        {
          "data": {
            "text/html": [
              "<html>\n",
              "<head><meta charset=\"utf-8\" /></head>\n",
              "<body>\n",
              "    <div>            <script src=\"https://cdnjs.cloudflare.com/ajax/libs/mathjax/2.7.5/MathJax.js?config=TeX-AMS-MML_SVG\"></script><script type=\"text/javascript\">if (window.MathJax) {MathJax.Hub.Config({SVG: {font: \"STIX-Web\"}});}</script>                <script type=\"text/javascript\">window.PlotlyConfig = {MathJaxConfig: 'local'};</script>\n",
              "        <script src=\"https://cdn.plot.ly/plotly-2.8.3.min.js\"></script>                <div id=\"b9ec0e5a-fdf2-49c8-a714-e6d1a5bfe6ef\" class=\"plotly-graph-div\" style=\"height:400px; width:600px;\"></div>            <script type=\"text/javascript\">                                    window.PLOTLYENV=window.PLOTLYENV || {};                                    if (document.getElementById(\"b9ec0e5a-fdf2-49c8-a714-e6d1a5bfe6ef\")) {                    Plotly.newPlot(                        \"b9ec0e5a-fdf2-49c8-a714-e6d1a5bfe6ef\",                        [{\"alignmentgroup\":\"True\",\"hovertemplate\":\"index=%{x}<br>0=%{y}<extra></extra>\",\"legendgroup\":\"\",\"marker\":{\"color\":\"#636efa\",\"pattern\":{\"shape\":\"\"}},\"name\":\"\",\"offsetgroup\":\"\",\"orientation\":\"v\",\"showlegend\":false,\"textposition\":\"auto\",\"x\":[\"num_atend\",\"num_atend_atrs\"],\"xaxis\":\"x\",\"y\":[0.0028127171983395294,0.0005785999626178881],\"yaxis\":\"y\",\"type\":\"bar\"}],                        {\"template\":{\"data\":{\"bar\":[{\"error_x\":{\"color\":\"#2a3f5f\"},\"error_y\":{\"color\":\"#2a3f5f\"},\"marker\":{\"line\":{\"color\":\"#E5ECF6\",\"width\":0.5},\"pattern\":{\"fillmode\":\"overlay\",\"size\":10,\"solidity\":0.2}},\"type\":\"bar\"}],\"barpolar\":[{\"marker\":{\"line\":{\"color\":\"#E5ECF6\",\"width\":0.5},\"pattern\":{\"fillmode\":\"overlay\",\"size\":10,\"solidity\":0.2}},\"type\":\"barpolar\"}],\"carpet\":[{\"aaxis\":{\"endlinecolor\":\"#2a3f5f\",\"gridcolor\":\"white\",\"linecolor\":\"white\",\"minorgridcolor\":\"white\",\"startlinecolor\":\"#2a3f5f\"},\"baxis\":{\"endlinecolor\":\"#2a3f5f\",\"gridcolor\":\"white\",\"linecolor\":\"white\",\"minorgridcolor\":\"white\",\"startlinecolor\":\"#2a3f5f\"},\"type\":\"carpet\"}],\"choropleth\":[{\"colorbar\":{\"outlinewidth\":0,\"ticks\":\"\"},\"type\":\"choropleth\"}],\"contour\":[{\"colorbar\":{\"outlinewidth\":0,\"ticks\":\"\"},\"colorscale\":[[0.0,\"#0d0887\"],[0.1111111111111111,\"#46039f\"],[0.2222222222222222,\"#7201a8\"],[0.3333333333333333,\"#9c179e\"],[0.4444444444444444,\"#bd3786\"],[0.5555555555555556,\"#d8576b\"],[0.6666666666666666,\"#ed7953\"],[0.7777777777777778,\"#fb9f3a\"],[0.8888888888888888,\"#fdca26\"],[1.0,\"#f0f921\"]],\"type\":\"contour\"}],\"contourcarpet\":[{\"colorbar\":{\"outlinewidth\":0,\"ticks\":\"\"},\"type\":\"contourcarpet\"}],\"heatmap\":[{\"colorbar\":{\"outlinewidth\":0,\"ticks\":\"\"},\"colorscale\":[[0.0,\"#0d0887\"],[0.1111111111111111,\"#46039f\"],[0.2222222222222222,\"#7201a8\"],[0.3333333333333333,\"#9c179e\"],[0.4444444444444444,\"#bd3786\"],[0.5555555555555556,\"#d8576b\"],[0.6666666666666666,\"#ed7953\"],[0.7777777777777778,\"#fb9f3a\"],[0.8888888888888888,\"#fdca26\"],[1.0,\"#f0f921\"]],\"type\":\"heatmap\"}],\"heatmapgl\":[{\"colorbar\":{\"outlinewidth\":0,\"ticks\":\"\"},\"colorscale\":[[0.0,\"#0d0887\"],[0.1111111111111111,\"#46039f\"],[0.2222222222222222,\"#7201a8\"],[0.3333333333333333,\"#9c179e\"],[0.4444444444444444,\"#bd3786\"],[0.5555555555555556,\"#d8576b\"],[0.6666666666666666,\"#ed7953\"],[0.7777777777777778,\"#fb9f3a\"],[0.8888888888888888,\"#fdca26\"],[1.0,\"#f0f921\"]],\"type\":\"heatmapgl\"}],\"histogram\":[{\"marker\":{\"pattern\":{\"fillmode\":\"overlay\",\"size\":10,\"solidity\":0.2}},\"type\":\"histogram\"}],\"histogram2d\":[{\"colorbar\":{\"outlinewidth\":0,\"ticks\":\"\"},\"colorscale\":[[0.0,\"#0d0887\"],[0.1111111111111111,\"#46039f\"],[0.2222222222222222,\"#7201a8\"],[0.3333333333333333,\"#9c179e\"],[0.4444444444444444,\"#bd3786\"],[0.5555555555555556,\"#d8576b\"],[0.6666666666666666,\"#ed7953\"],[0.7777777777777778,\"#fb9f3a\"],[0.8888888888888888,\"#fdca26\"],[1.0,\"#f0f921\"]],\"type\":\"histogram2d\"}],\"histogram2dcontour\":[{\"colorbar\":{\"outlinewidth\":0,\"ticks\":\"\"},\"colorscale\":[[0.0,\"#0d0887\"],[0.1111111111111111,\"#46039f\"],[0.2222222222222222,\"#7201a8\"],[0.3333333333333333,\"#9c179e\"],[0.4444444444444444,\"#bd3786\"],[0.5555555555555556,\"#d8576b\"],[0.6666666666666666,\"#ed7953\"],[0.7777777777777778,\"#fb9f3a\"],[0.8888888888888888,\"#fdca26\"],[1.0,\"#f0f921\"]],\"type\":\"histogram2dcontour\"}],\"mesh3d\":[{\"colorbar\":{\"outlinewidth\":0,\"ticks\":\"\"},\"type\":\"mesh3d\"}],\"parcoords\":[{\"line\":{\"colorbar\":{\"outlinewidth\":0,\"ticks\":\"\"}},\"type\":\"parcoords\"}],\"pie\":[{\"automargin\":true,\"type\":\"pie\"}],\"scatter\":[{\"marker\":{\"colorbar\":{\"outlinewidth\":0,\"ticks\":\"\"}},\"type\":\"scatter\"}],\"scatter3d\":[{\"line\":{\"colorbar\":{\"outlinewidth\":0,\"ticks\":\"\"}},\"marker\":{\"colorbar\":{\"outlinewidth\":0,\"ticks\":\"\"}},\"type\":\"scatter3d\"}],\"scattercarpet\":[{\"marker\":{\"colorbar\":{\"outlinewidth\":0,\"ticks\":\"\"}},\"type\":\"scattercarpet\"}],\"scattergeo\":[{\"marker\":{\"colorbar\":{\"outlinewidth\":0,\"ticks\":\"\"}},\"type\":\"scattergeo\"}],\"scattergl\":[{\"marker\":{\"colorbar\":{\"outlinewidth\":0,\"ticks\":\"\"}},\"type\":\"scattergl\"}],\"scattermapbox\":[{\"marker\":{\"colorbar\":{\"outlinewidth\":0,\"ticks\":\"\"}},\"type\":\"scattermapbox\"}],\"scatterpolar\":[{\"marker\":{\"colorbar\":{\"outlinewidth\":0,\"ticks\":\"\"}},\"type\":\"scatterpolar\"}],\"scatterpolargl\":[{\"marker\":{\"colorbar\":{\"outlinewidth\":0,\"ticks\":\"\"}},\"type\":\"scatterpolargl\"}],\"scatterternary\":[{\"marker\":{\"colorbar\":{\"outlinewidth\":0,\"ticks\":\"\"}},\"type\":\"scatterternary\"}],\"surface\":[{\"colorbar\":{\"outlinewidth\":0,\"ticks\":\"\"},\"colorscale\":[[0.0,\"#0d0887\"],[0.1111111111111111,\"#46039f\"],[0.2222222222222222,\"#7201a8\"],[0.3333333333333333,\"#9c179e\"],[0.4444444444444444,\"#bd3786\"],[0.5555555555555556,\"#d8576b\"],[0.6666666666666666,\"#ed7953\"],[0.7777777777777778,\"#fb9f3a\"],[0.8888888888888888,\"#fdca26\"],[1.0,\"#f0f921\"]],\"type\":\"surface\"}],\"table\":[{\"cells\":{\"fill\":{\"color\":\"#EBF0F8\"},\"line\":{\"color\":\"white\"}},\"header\":{\"fill\":{\"color\":\"#C8D4E3\"},\"line\":{\"color\":\"white\"}},\"type\":\"table\"}]},\"layout\":{\"annotationdefaults\":{\"arrowcolor\":\"#2a3f5f\",\"arrowhead\":0,\"arrowwidth\":1},\"autotypenumbers\":\"strict\",\"coloraxis\":{\"colorbar\":{\"outlinewidth\":0,\"ticks\":\"\"}},\"colorscale\":{\"diverging\":[[0,\"#8e0152\"],[0.1,\"#c51b7d\"],[0.2,\"#de77ae\"],[0.3,\"#f1b6da\"],[0.4,\"#fde0ef\"],[0.5,\"#f7f7f7\"],[0.6,\"#e6f5d0\"],[0.7,\"#b8e186\"],[0.8,\"#7fbc41\"],[0.9,\"#4d9221\"],[1,\"#276419\"]],\"sequential\":[[0.0,\"#0d0887\"],[0.1111111111111111,\"#46039f\"],[0.2222222222222222,\"#7201a8\"],[0.3333333333333333,\"#9c179e\"],[0.4444444444444444,\"#bd3786\"],[0.5555555555555556,\"#d8576b\"],[0.6666666666666666,\"#ed7953\"],[0.7777777777777778,\"#fb9f3a\"],[0.8888888888888888,\"#fdca26\"],[1.0,\"#f0f921\"]],\"sequentialminus\":[[0.0,\"#0d0887\"],[0.1111111111111111,\"#46039f\"],[0.2222222222222222,\"#7201a8\"],[0.3333333333333333,\"#9c179e\"],[0.4444444444444444,\"#bd3786\"],[0.5555555555555556,\"#d8576b\"],[0.6666666666666666,\"#ed7953\"],[0.7777777777777778,\"#fb9f3a\"],[0.8888888888888888,\"#fdca26\"],[1.0,\"#f0f921\"]]},\"colorway\":[\"#636efa\",\"#EF553B\",\"#00cc96\",\"#ab63fa\",\"#FFA15A\",\"#19d3f3\",\"#FF6692\",\"#B6E880\",\"#FF97FF\",\"#FECB52\"],\"font\":{\"color\":\"#2a3f5f\"},\"geo\":{\"bgcolor\":\"white\",\"lakecolor\":\"white\",\"landcolor\":\"#E5ECF6\",\"showlakes\":true,\"showland\":true,\"subunitcolor\":\"white\"},\"hoverlabel\":{\"align\":\"left\"},\"hovermode\":\"closest\",\"mapbox\":{\"style\":\"light\"},\"paper_bgcolor\":\"white\",\"plot_bgcolor\":\"#E5ECF6\",\"polar\":{\"angularaxis\":{\"gridcolor\":\"white\",\"linecolor\":\"white\",\"ticks\":\"\"},\"bgcolor\":\"#E5ECF6\",\"radialaxis\":{\"gridcolor\":\"white\",\"linecolor\":\"white\",\"ticks\":\"\"}},\"scene\":{\"xaxis\":{\"backgroundcolor\":\"#E5ECF6\",\"gridcolor\":\"white\",\"gridwidth\":2,\"linecolor\":\"white\",\"showbackground\":true,\"ticks\":\"\",\"zerolinecolor\":\"white\"},\"yaxis\":{\"backgroundcolor\":\"#E5ECF6\",\"gridcolor\":\"white\",\"gridwidth\":2,\"linecolor\":\"white\",\"showbackground\":true,\"ticks\":\"\",\"zerolinecolor\":\"white\"},\"zaxis\":{\"backgroundcolor\":\"#E5ECF6\",\"gridcolor\":\"white\",\"gridwidth\":2,\"linecolor\":\"white\",\"showbackground\":true,\"ticks\":\"\",\"zerolinecolor\":\"white\"}},\"shapedefaults\":{\"line\":{\"color\":\"#2a3f5f\"}},\"ternary\":{\"aaxis\":{\"gridcolor\":\"white\",\"linecolor\":\"white\",\"ticks\":\"\"},\"baxis\":{\"gridcolor\":\"white\",\"linecolor\":\"white\",\"ticks\":\"\"},\"bgcolor\":\"#E5ECF6\",\"caxis\":{\"gridcolor\":\"white\",\"linecolor\":\"white\",\"ticks\":\"\"}},\"title\":{\"x\":0.05},\"xaxis\":{\"automargin\":true,\"gridcolor\":\"white\",\"linecolor\":\"white\",\"ticks\":\"\",\"title\":{\"standoff\":15},\"zerolinecolor\":\"white\",\"zerolinewidth\":2},\"yaxis\":{\"automargin\":true,\"gridcolor\":\"white\",\"linecolor\":\"white\",\"ticks\":\"\",\"title\":{\"standoff\":15},\"zerolinecolor\":\"white\",\"zerolinewidth\":2}}},\"xaxis\":{\"anchor\":\"y\",\"domain\":[0.0,1.0],\"title\":{\"text\":\"index\"},\"type\":\"category\"},\"yaxis\":{\"anchor\":\"x\",\"domain\":[0.0,1.0],\"title\":{\"text\":\"0\"}},\"legend\":{\"tracegroupgap\":0},\"margin\":{\"t\":60},\"barmode\":\"relative\",\"height\":400,\"width\":600},                        {\"responsive\": true}                    ).then(function(){\n",
              "                            \n",
              "var gd = document.getElementById('b9ec0e5a-fdf2-49c8-a714-e6d1a5bfe6ef');\n",
              "var x = new MutationObserver(function (mutations, observer) {{\n",
              "        var display = window.getComputedStyle(gd).display;\n",
              "        if (!display || display === 'none') {{\n",
              "            console.log([gd, 'removed!']);\n",
              "            Plotly.purge(gd);\n",
              "            observer.disconnect();\n",
              "        }}\n",
              "}});\n",
              "\n",
              "// Listen for the removal of the full notebook cells\n",
              "var notebookContainer = gd.closest('#notebook-container');\n",
              "if (notebookContainer) {{\n",
              "    x.observe(notebookContainer, {childList: true});\n",
              "}}\n",
              "\n",
              "// Listen for the clearing of the current output cell\n",
              "var outputEl = gd.closest('.output');\n",
              "if (outputEl) {{\n",
              "    x.observe(outputEl, {childList: true});\n",
              "}}\n",
              "\n",
              "                        })                };                            </script>        </div>\n",
              "</body>\n",
              "</html>"
            ]
          },
          "metadata": {},
          "output_type": "display_data"
        }
      ],
      "source": [
        "# Média de atendimentos e atendimentos atrasados\n",
        "atends = df[['num_atend', 'num_atend_atrs']].sum()/len(df)\n",
        "df_atends = pd.DataFrame(atends)\n",
        "\n",
        "# Geração de gráfico com as médias obtidas anteriormente\n",
        "fig = px.bar(df_atends, y=df_atends[0], height=400, width=600)\n",
        "fig.update_xaxes(type='category')\n",
        "fig.show()"
      ]
    },
    {
      "cell_type": "code",
      "execution_count": null,
      "metadata": {
        "id": "KO-g7hIiKSOa"
      },
      "outputs": [],
      "source": [
        "# Descrição da quantidade de reclamações\n",
        "num_reclm = df['qtd_reclm'].describe()\n",
        "\n",
        "# Criação de um data frame com os números encontrados anteriormente.\n",
        "num_reclm_1 = pd.DataFrame(num_reclm)\n",
        "\n",
        "# Retirada do parâmtro count desse df (data frame) criado\n",
        "num_reclm_1 = num_reclm_1.drop('count')\n",
        "\n",
        "# Criação de um gráfico para a melhor visualização desses valores\n",
        "figReclm = px.bar(num_reclm_1, y=num_reclm_1['qtd_reclm'], height=400, width=600)\n",
        "figReclm.update_xaxes(type='category')\n",
        "figReclm.show()"
      ]
    },
    {
      "cell_type": "code",
      "execution_count": null,
      "metadata": {
        "id": "Ylfe8BU9KdLy"
      },
      "outputs": [],
      "source": [
        "# Análise de clientes que buscam novos produtos/atritados\n",
        "\n",
        "# NAN das colunas vlr_credito, vlr_saldo e num_produtos sendo trocados por 0;\n",
        "data= df[['vlr_credito', 'vlr_saldo', 'num_produtos']].replace(np.nan, 0)\n",
        "\n",
        "# Gera-se um novo dataframe com as informações específicas\n",
        "data = pd.DataFrame(data);\n",
        "\n",
        "# Pega-se as pessoas que possuem um saldo bem maior do que o crédito e que possuem produtos no banco.\n",
        "data[(data.vlr_credito < 1500) & (data.vlr_saldo > data.vlr_credito) & (data.vlr_saldo > 10000) & (data.num_produtos >= 1) & (data.vlr_credito > 0)]"
      ]
    },
    {
      "cell_type": "code",
      "execution_count": null,
      "metadata": {
        "id": "wzlM9vyXKkjn"
      },
      "outputs": [],
      "source": [
        "# Análise de cliente a partir do score e do cod_rating\n",
        "\n",
        "# NAN das colunas cod_rating, vlr_score e num_produtos sendo trocados por 0;\n",
        "data_score = df[['cod_rating', 'vlr_score', 'num_produtos']].replace(np.nan, 0);\n",
        "\n",
        "# Gera-se um novo dataframe com as informações específicas\n",
        "data_score = pd.DataFrame(data_score);\n",
        "\n",
        "# Selecionando pessoas que têm produtos, possuem score maior do que 400, e que não estejam com rating E, F ou G\n",
        "print(\"Quantidade de pessoas com métricas normais: \")\n",
        "print(len(data_score[(data_score.vlr_score > 400) & (data_score.vlr_score != 0) & ((data_score.cod_rating != 'E') | (data_score.cod_rating != 'F') | (data_score.cod_rating != 'G') | (data_score.cod_rating != 0)) & (data_score.num_produtos >= 1)]))\n",
        "\n",
        "# Selecionando pessoas que têm produtos, possuem score menor do que 400, e que estejam com rating E, F ou G\n",
        "print(\"Quantidade de pessoas com métricas anormais: \")\n",
        "len(data_score[(data_score.vlr_score < 400) & (data_score.vlr_score != 0) & ((data_score.cod_rating == 'E') | (data_score.cod_rating == 'F') | (data_score.cod_rating == 'G')) & (data_score.num_produtos >= 1)])"
      ]
    },
    {
      "cell_type": "code",
      "execution_count": null,
      "metadata": {
        "id": "WQhAH85_Kq5i"
      },
      "outputs": [],
      "source": [
        "# NAN das colunas num_atend, num_atend_atrs sendo trocados por 0;\n",
        "data = df[['num_atend', 'num_atend_atrs']].replace(np.nan, 0);\n",
        "\n",
        "# Gera-se um novo dataframe com as informações específicas\n",
        "data = pd.DataFrame(data)\n",
        "\n",
        "# Pega-se a quantidade de atendimentos que foram feitos e estão em dia.\n",
        "length_nao_atrs = len(data[(data.num_atend > 0) & (data.num_atend_atrs == 0)])\n",
        "\n",
        "print('Quantidade de atendimentos que foram feitos mas não estão em atraso: ', length_nao_atrs)\n",
        "\n",
        "# Pega-se a quantidade de atendimentos que foram feitos e não estão em dia.\n",
        "length_atrs = len(data[(data.num_atend > 0) & (data.num_atend_atrs > 0)])\n",
        "\n",
        "print('========================================================================')\n",
        "\n",
        "print('Quantidade de atendimentos que foram feitos e estão em atraso: ', length_atrs)"
      ]
    },
    {
      "cell_type": "code",
      "execution_count": null,
      "metadata": {
        "id": "P7q1oIJmN2OU"
      },
      "outputs": [],
      "source": [
        "lenght_nao_atritado = (len(df[df.ind_atrito == 0]))\n",
        "\n",
        "lenght_atritado = (len(df[df.ind_atrito == 1]))\n",
        "\n",
        "print(lenght_nao_atritado)\n",
        "print(lenght_atritado)"
      ]
    },
    {
      "cell_type": "code",
      "execution_count": null,
      "metadata": {
        "id": "x0k78nN8K0nt"
      },
      "outputs": [],
      "source": [
        "df"
      ]
    },
    {
      "cell_type": "markdown",
      "metadata": {
        "id": "AJlGcxQAJ9VY"
      },
      "source": [
        "# **Limpeza dos dados - parte 1**\n",
        "\n",
        "* Em primeiro lugar, é necessário retirar as linhas que não possuem cod_rating (parâmetro utilizado internamente pelo banco para classificar seus clientes), a fim de facilitar o aprendizado do modelo preditivo, visto que, se não há registro de cod_rating, a linha não pertence, necessariamente, a um cliente do banco.\n",
        "\n",
        "* Após a resolução desse primeiro empecilho, todos os valores nulos das colunas \"num_atend\", \"num_atend_atrs\", \"qtd_reclm\", \"qtd_restr\", \"ind_atrito\", \"ind_engaj\", \"ind_novo_client\" e \"vlr_score\" foram trocados para o valor zero (0), porque o modelo preditivo não consegue identificar, tampouco manipular dados diferentes de números.\n",
        "\n",
        "* Finalizando essa primeira parte, mudamos os parâmetros do cod_rating de letras (A, B, C, D, E, F, G, H e HH) para números (0, 1, 2, 3, 4, 5, 6, 7, 8 e 9, respectivamente)"
      ]
    },
    {
      "cell_type": "code",
      "execution_count": null,
      "metadata": {
        "colab": {
          "base_uri": "https://localhost:8080/",
          "height": 524
        },
        "id": "ocN04_ug3blP",
        "outputId": "1ea78606-64e9-4834-bd82-6f1fc8b56019"
      },
      "outputs": [
        {
          "name": "stdout",
          "output_type": "stream",
          "text": [
            "12032493\n",
            "6186773\n"
          ]
        },
        {
          "data": {
            "text/html": [
              "\n",
              "  <div id=\"df-3b22fec3-5379-466e-9076-a56d61da7e2c\">\n",
              "    <div class=\"colab-df-container\">\n",
              "      <div>\n",
              "<style scoped>\n",
              "    .dataframe tbody tr th:only-of-type {\n",
              "        vertical-align: middle;\n",
              "    }\n",
              "\n",
              "    .dataframe tbody tr th {\n",
              "        vertical-align: top;\n",
              "    }\n",
              "\n",
              "    .dataframe thead th {\n",
              "        text-align: right;\n",
              "    }\n",
              "</style>\n",
              "<table border=\"1\" class=\"dataframe\">\n",
              "  <thead>\n",
              "    <tr style=\"text-align: right;\">\n",
              "      <th></th>\n",
              "      <th>anomes</th>\n",
              "      <th>num_cpf_hash</th>\n",
              "      <th>vlr_credito</th>\n",
              "      <th>vlr_saldo</th>\n",
              "      <th>num_atend_atrs</th>\n",
              "      <th>vlr_score</th>\n",
              "      <th>num_produtos</th>\n",
              "      <th>num_atend</th>\n",
              "      <th>qtd_oper</th>\n",
              "      <th>qtd_reclm</th>\n",
              "      <th>qtd_restr</th>\n",
              "      <th>vlr_renda</th>\n",
              "      <th>cod_rating</th>\n",
              "      <th>ind_atrito</th>\n",
              "      <th>ind_engaj</th>\n",
              "      <th>ind_novo_cli</th>\n",
              "    </tr>\n",
              "  </thead>\n",
              "  <tbody>\n",
              "    <tr>\n",
              "      <th>1</th>\n",
              "      <td>202104</td>\n",
              "      <td>ffffd54b45ec46113523184fc07185a0d5cbfa876a07ba...</td>\n",
              "      <td>35943.74</td>\n",
              "      <td>5815.50</td>\n",
              "      <td>0.0</td>\n",
              "      <td>377.0</td>\n",
              "      <td>1.0</td>\n",
              "      <td>0.0</td>\n",
              "      <td>24.0</td>\n",
              "      <td>0.0</td>\n",
              "      <td>10.0</td>\n",
              "      <td>NaN</td>\n",
              "      <td>0</td>\n",
              "      <td>0.0</td>\n",
              "      <td>1.0</td>\n",
              "      <td>0.0</td>\n",
              "    </tr>\n",
              "    <tr>\n",
              "      <th>4</th>\n",
              "      <td>202104</td>\n",
              "      <td>ffffbd4a3d42a12e07b1202d68c33d43220c42c8a55160...</td>\n",
              "      <td>1238.93</td>\n",
              "      <td>1400.00</td>\n",
              "      <td>0.0</td>\n",
              "      <td>773.0</td>\n",
              "      <td>2.0</td>\n",
              "      <td>0.0</td>\n",
              "      <td>21.0</td>\n",
              "      <td>0.0</td>\n",
              "      <td>0.0</td>\n",
              "      <td>NaN</td>\n",
              "      <td>0</td>\n",
              "      <td>0.0</td>\n",
              "      <td>1.0</td>\n",
              "      <td>0.0</td>\n",
              "    </tr>\n",
              "    <tr>\n",
              "      <th>7</th>\n",
              "      <td>202104</td>\n",
              "      <td>ffff6070251f9e50f54190b914ed6fd735e11064d661ab...</td>\n",
              "      <td>12607.75</td>\n",
              "      <td>31.70</td>\n",
              "      <td>0.0</td>\n",
              "      <td>0.0</td>\n",
              "      <td>0.0</td>\n",
              "      <td>0.0</td>\n",
              "      <td>9.0</td>\n",
              "      <td>0.0</td>\n",
              "      <td>0.0</td>\n",
              "      <td>NaN</td>\n",
              "      <td>9</td>\n",
              "      <td>0.0</td>\n",
              "      <td>0.0</td>\n",
              "      <td>0.0</td>\n",
              "    </tr>\n",
              "    <tr>\n",
              "      <th>8</th>\n",
              "      <td>202104</td>\n",
              "      <td>ffff4ef886c28af8029c6b7d504942e6c9ef13021e9a35...</td>\n",
              "      <td>81506.54</td>\n",
              "      <td>5243.45</td>\n",
              "      <td>0.0</td>\n",
              "      <td>560.0</td>\n",
              "      <td>1.0</td>\n",
              "      <td>0.0</td>\n",
              "      <td>14.0</td>\n",
              "      <td>0.0</td>\n",
              "      <td>0.0</td>\n",
              "      <td>NaN</td>\n",
              "      <td>0</td>\n",
              "      <td>0.0</td>\n",
              "      <td>0.0</td>\n",
              "      <td>0.0</td>\n",
              "    </tr>\n",
              "    <tr>\n",
              "      <th>9</th>\n",
              "      <td>202104</td>\n",
              "      <td>ffff4bbb4074d7894174fd94c685edb3fd7fc9b7b1e3c1...</td>\n",
              "      <td>112918.62</td>\n",
              "      <td>7252.64</td>\n",
              "      <td>0.0</td>\n",
              "      <td>374.0</td>\n",
              "      <td>2.0</td>\n",
              "      <td>0.0</td>\n",
              "      <td>23.0</td>\n",
              "      <td>0.0</td>\n",
              "      <td>0.0</td>\n",
              "      <td>NaN</td>\n",
              "      <td>0</td>\n",
              "      <td>0.0</td>\n",
              "      <td>1.0</td>\n",
              "      <td>0.0</td>\n",
              "    </tr>\n",
              "    <tr>\n",
              "      <th>...</th>\n",
              "      <td>...</td>\n",
              "      <td>...</td>\n",
              "      <td>...</td>\n",
              "      <td>...</td>\n",
              "      <td>...</td>\n",
              "      <td>...</td>\n",
              "      <td>...</td>\n",
              "      <td>...</td>\n",
              "      <td>...</td>\n",
              "      <td>...</td>\n",
              "      <td>...</td>\n",
              "      <td>...</td>\n",
              "      <td>...</td>\n",
              "      <td>...</td>\n",
              "      <td>...</td>\n",
              "      <td>...</td>\n",
              "    </tr>\n",
              "    <tr>\n",
              "      <th>12032484</th>\n",
              "      <td>202204</td>\n",
              "      <td>00008503efab22c4b17633da58b19557d135887e01db0e...</td>\n",
              "      <td>36333.58</td>\n",
              "      <td>5942.14</td>\n",
              "      <td>0.0</td>\n",
              "      <td>538.0</td>\n",
              "      <td>4.0</td>\n",
              "      <td>0.0</td>\n",
              "      <td>40.0</td>\n",
              "      <td>0.0</td>\n",
              "      <td>1.0</td>\n",
              "      <td>NaN</td>\n",
              "      <td>2</td>\n",
              "      <td>0.0</td>\n",
              "      <td>1.0</td>\n",
              "      <td>0.0</td>\n",
              "    </tr>\n",
              "    <tr>\n",
              "      <th>12032485</th>\n",
              "      <td>202204</td>\n",
              "      <td>00008166c6d8213d5372a4a6336322f14e7f15b982cf5d...</td>\n",
              "      <td>43054.69</td>\n",
              "      <td>2620.89</td>\n",
              "      <td>0.0</td>\n",
              "      <td>437.0</td>\n",
              "      <td>2.0</td>\n",
              "      <td>0.0</td>\n",
              "      <td>17.0</td>\n",
              "      <td>0.0</td>\n",
              "      <td>8.0</td>\n",
              "      <td>NaN</td>\n",
              "      <td>0</td>\n",
              "      <td>0.0</td>\n",
              "      <td>0.0</td>\n",
              "      <td>0.0</td>\n",
              "    </tr>\n",
              "    <tr>\n",
              "      <th>12032486</th>\n",
              "      <td>202204</td>\n",
              "      <td>00006b833ab2b4c8220f61fdd90c5833040030ff1b015e...</td>\n",
              "      <td>NaN</td>\n",
              "      <td>11239.24</td>\n",
              "      <td>0.0</td>\n",
              "      <td>0.0</td>\n",
              "      <td>0.0</td>\n",
              "      <td>0.0</td>\n",
              "      <td>NaN</td>\n",
              "      <td>0.0</td>\n",
              "      <td>0.0</td>\n",
              "      <td>NaN</td>\n",
              "      <td>9</td>\n",
              "      <td>0.0</td>\n",
              "      <td>0.0</td>\n",
              "      <td>0.0</td>\n",
              "    </tr>\n",
              "    <tr>\n",
              "      <th>12032487</th>\n",
              "      <td>202204</td>\n",
              "      <td>0000567d0d7f3813befdc85b65838d685ec6d89bb067bd...</td>\n",
              "      <td>21959.05</td>\n",
              "      <td>4017.00</td>\n",
              "      <td>0.0</td>\n",
              "      <td>410.0</td>\n",
              "      <td>1.0</td>\n",
              "      <td>0.0</td>\n",
              "      <td>15.0</td>\n",
              "      <td>0.0</td>\n",
              "      <td>4.0</td>\n",
              "      <td>NaN</td>\n",
              "      <td>8</td>\n",
              "      <td>0.0</td>\n",
              "      <td>0.0</td>\n",
              "      <td>0.0</td>\n",
              "    </tr>\n",
              "    <tr>\n",
              "      <th>12032490</th>\n",
              "      <td>202204</td>\n",
              "      <td>000038baed6e8076adec7272523211faaec7bf8b30b1e1...</td>\n",
              "      <td>30268.92</td>\n",
              "      <td>1631.88</td>\n",
              "      <td>0.0</td>\n",
              "      <td>359.0</td>\n",
              "      <td>1.0</td>\n",
              "      <td>0.0</td>\n",
              "      <td>17.0</td>\n",
              "      <td>0.0</td>\n",
              "      <td>6.0</td>\n",
              "      <td>NaN</td>\n",
              "      <td>0</td>\n",
              "      <td>0.0</td>\n",
              "      <td>1.0</td>\n",
              "      <td>0.0</td>\n",
              "    </tr>\n",
              "  </tbody>\n",
              "</table>\n",
              "<p>6186773 rows × 16 columns</p>\n",
              "</div>\n",
              "      <button class=\"colab-df-convert\" onclick=\"convertToInteractive('df-3b22fec3-5379-466e-9076-a56d61da7e2c')\"\n",
              "              title=\"Convert this dataframe to an interactive table.\"\n",
              "              style=\"display:none;\">\n",
              "        \n",
              "  <svg xmlns=\"http://www.w3.org/2000/svg\" height=\"24px\"viewBox=\"0 0 24 24\"\n",
              "       width=\"24px\">\n",
              "    <path d=\"M0 0h24v24H0V0z\" fill=\"none\"/>\n",
              "    <path d=\"M18.56 5.44l.94 2.06.94-2.06 2.06-.94-2.06-.94-.94-2.06-.94 2.06-2.06.94zm-11 1L8.5 8.5l.94-2.06 2.06-.94-2.06-.94L8.5 2.5l-.94 2.06-2.06.94zm10 10l.94 2.06.94-2.06 2.06-.94-2.06-.94-.94-2.06-.94 2.06-2.06.94z\"/><path d=\"M17.41 7.96l-1.37-1.37c-.4-.4-.92-.59-1.43-.59-.52 0-1.04.2-1.43.59L10.3 9.45l-7.72 7.72c-.78.78-.78 2.05 0 2.83L4 21.41c.39.39.9.59 1.41.59.51 0 1.02-.2 1.41-.59l7.78-7.78 2.81-2.81c.8-.78.8-2.07 0-2.86zM5.41 20L4 18.59l7.72-7.72 1.47 1.35L5.41 20z\"/>\n",
              "  </svg>\n",
              "      </button>\n",
              "      \n",
              "  <style>\n",
              "    .colab-df-container {\n",
              "      display:flex;\n",
              "      flex-wrap:wrap;\n",
              "      gap: 12px;\n",
              "    }\n",
              "\n",
              "    .colab-df-convert {\n",
              "      background-color: #E8F0FE;\n",
              "      border: none;\n",
              "      border-radius: 50%;\n",
              "      cursor: pointer;\n",
              "      display: none;\n",
              "      fill: #1967D2;\n",
              "      height: 32px;\n",
              "      padding: 0 0 0 0;\n",
              "      width: 32px;\n",
              "    }\n",
              "\n",
              "    .colab-df-convert:hover {\n",
              "      background-color: #E2EBFA;\n",
              "      box-shadow: 0px 1px 2px rgba(60, 64, 67, 0.3), 0px 1px 3px 1px rgba(60, 64, 67, 0.15);\n",
              "      fill: #174EA6;\n",
              "    }\n",
              "\n",
              "    [theme=dark] .colab-df-convert {\n",
              "      background-color: #3B4455;\n",
              "      fill: #D2E3FC;\n",
              "    }\n",
              "\n",
              "    [theme=dark] .colab-df-convert:hover {\n",
              "      background-color: #434B5C;\n",
              "      box-shadow: 0px 1px 3px 1px rgba(0, 0, 0, 0.15);\n",
              "      filter: drop-shadow(0px 1px 2px rgba(0, 0, 0, 0.3));\n",
              "      fill: #FFFFFF;\n",
              "    }\n",
              "  </style>\n",
              "\n",
              "      <script>\n",
              "        const buttonEl =\n",
              "          document.querySelector('#df-3b22fec3-5379-466e-9076-a56d61da7e2c button.colab-df-convert');\n",
              "        buttonEl.style.display =\n",
              "          google.colab.kernel.accessAllowed ? 'block' : 'none';\n",
              "\n",
              "        async function convertToInteractive(key) {\n",
              "          const element = document.querySelector('#df-3b22fec3-5379-466e-9076-a56d61da7e2c');\n",
              "          const dataTable =\n",
              "            await google.colab.kernel.invokeFunction('convertToInteractive',\n",
              "                                                     [key], {});\n",
              "          if (!dataTable) return;\n",
              "\n",
              "          const docLinkHtml = 'Like what you see? Visit the ' +\n",
              "            '<a target=\"_blank\" href=https://colab.research.google.com/notebooks/data_table.ipynb>data table notebook</a>'\n",
              "            + ' to learn more about interactive tables.';\n",
              "          element.innerHTML = '';\n",
              "          dataTable['output_type'] = 'display_data';\n",
              "          await google.colab.output.renderOutput(dataTable, element);\n",
              "          const docLink = document.createElement('div');\n",
              "          docLink.innerHTML = docLinkHtml;\n",
              "          element.appendChild(docLink);\n",
              "        }\n",
              "      </script>\n",
              "    </div>\n",
              "  </div>\n",
              "  "
            ],
            "text/plain": [
              "          anomes                                       num_cpf_hash  \\\n",
              "1         202104  ffffd54b45ec46113523184fc07185a0d5cbfa876a07ba...   \n",
              "4         202104  ffffbd4a3d42a12e07b1202d68c33d43220c42c8a55160...   \n",
              "7         202104  ffff6070251f9e50f54190b914ed6fd735e11064d661ab...   \n",
              "8         202104  ffff4ef886c28af8029c6b7d504942e6c9ef13021e9a35...   \n",
              "9         202104  ffff4bbb4074d7894174fd94c685edb3fd7fc9b7b1e3c1...   \n",
              "...          ...                                                ...   \n",
              "12032484  202204  00008503efab22c4b17633da58b19557d135887e01db0e...   \n",
              "12032485  202204  00008166c6d8213d5372a4a6336322f14e7f15b982cf5d...   \n",
              "12032486  202204  00006b833ab2b4c8220f61fdd90c5833040030ff1b015e...   \n",
              "12032487  202204  0000567d0d7f3813befdc85b65838d685ec6d89bb067bd...   \n",
              "12032490  202204  000038baed6e8076adec7272523211faaec7bf8b30b1e1...   \n",
              "\n",
              "          vlr_credito  vlr_saldo  num_atend_atrs  vlr_score  num_produtos  \\\n",
              "1            35943.74    5815.50             0.0      377.0           1.0   \n",
              "4             1238.93    1400.00             0.0      773.0           2.0   \n",
              "7            12607.75      31.70             0.0        0.0           0.0   \n",
              "8            81506.54    5243.45             0.0      560.0           1.0   \n",
              "9           112918.62    7252.64             0.0      374.0           2.0   \n",
              "...               ...        ...             ...        ...           ...   \n",
              "12032484     36333.58    5942.14             0.0      538.0           4.0   \n",
              "12032485     43054.69    2620.89             0.0      437.0           2.0   \n",
              "12032486          NaN   11239.24             0.0        0.0           0.0   \n",
              "12032487     21959.05    4017.00             0.0      410.0           1.0   \n",
              "12032490     30268.92    1631.88             0.0      359.0           1.0   \n",
              "\n",
              "          num_atend  qtd_oper  qtd_reclm  qtd_restr vlr_renda  cod_rating  \\\n",
              "1               0.0      24.0        0.0       10.0       NaN           0   \n",
              "4               0.0      21.0        0.0        0.0       NaN           0   \n",
              "7               0.0       9.0        0.0        0.0       NaN           9   \n",
              "8               0.0      14.0        0.0        0.0       NaN           0   \n",
              "9               0.0      23.0        0.0        0.0       NaN           0   \n",
              "...             ...       ...        ...        ...       ...         ...   \n",
              "12032484        0.0      40.0        0.0        1.0       NaN           2   \n",
              "12032485        0.0      17.0        0.0        8.0       NaN           0   \n",
              "12032486        0.0       NaN        0.0        0.0       NaN           9   \n",
              "12032487        0.0      15.0        0.0        4.0       NaN           8   \n",
              "12032490        0.0      17.0        0.0        6.0       NaN           0   \n",
              "\n",
              "          ind_atrito  ind_engaj  ind_novo_cli  \n",
              "1                0.0        1.0           0.0  \n",
              "4                0.0        1.0           0.0  \n",
              "7                0.0        0.0           0.0  \n",
              "8                0.0        0.0           0.0  \n",
              "9                0.0        1.0           0.0  \n",
              "...              ...        ...           ...  \n",
              "12032484         0.0        1.0           0.0  \n",
              "12032485         0.0        0.0           0.0  \n",
              "12032486         0.0        0.0           0.0  \n",
              "12032487         0.0        0.0           0.0  \n",
              "12032490         0.0        1.0           0.0  \n",
              "\n",
              "[6186773 rows x 16 columns]"
            ]
          },
          "execution_count": 7,
          "metadata": {},
          "output_type": "execute_result"
        }
      ],
      "source": [
        "print(len(df))\n",
        "df = df[~df.cod_rating.isnull()]\n",
        "print(len(df))\n",
        "df[['num_atend', 'num_atend_atrs', 'qtd_reclm', 'qtd_restr', 'ind_atrito', 'ind_engaj', 'ind_novo_cli', 'vlr_score', 'num_produtos']] = df[['num_atend','num_atend_atrs','qtd_reclm', 'qtd_restr', 'ind_atrito', 'ind_engaj', 'ind_novo_cli', 'vlr_score', 'num_produtos']].fillna(0)\n",
        "\n",
        "le = LabelEncoder()\n",
        "df['cod_rating'] = le.fit_transform(df['cod_rating'])\n",
        "\n",
        "df"
      ]
    },
    {
      "cell_type": "markdown",
      "metadata": {
        "id": "HimNvvo0PuE4"
      },
      "source": [
        "## Seleção de dados\n",
        " \n",
        "**Após a de limpeza dos dados ausentes e dos dados nulos, foram definidas quais features serão utilizadas na construção do modelo preditivo. Para fazer tal escolha, os atributos relevantes no processo de análise da conduta de um cliente do Banco PAN foram considerados.**\n",
        " \n",
        "• Safra (“anomes”) --> Ao analisar a safra (ano e mês), consegue-se observar o comportamento do cliente ao longo do tempo e estimar seu comportamento futuro.\n",
        " \n",
        "• Valor de crédito (“vlr_credito”) --> O valor de crédito apresenta a situação do cliente no mercado quando esse declara seu valor total de crédito, sendo um indicador de possíveis atritos entre cliente e banco, bem como um possível indicador de novos clientes ou clientes que possam ter a intenção de adquirir novos produtos.\n",
        " \n",
        "• Valor de saldo (“vlr_saldo”) --> O valor total de saldo do cliente é uma coluna que, a depender do valor (mais baixo ou mais alto), poderá indicar a existência de atrito na relação que será predita pelo modelo. \n",
        "    \n",
        "• Número de atendimentos (“num_atend” e “num_atend_atrs”) --> O número total de atendimentos e o número de atendimentos atrasados é um dos principais indicativos de atrito de um cliente com o Banco Pan.\n",
        "    \n",
        "• Valor do score (“vlr_score”)  --> O valor do score no Serasa de um cliente é capaz de identificar a necessidade do cliente de adquirir, por exemplo, certo valor de crédito no banco.\n",
        " \n",
        "• Número de produtos (“num_produtos”) --> Quanto maior o número de serviços aderidos, maior pode ser o nível de atrito com a instituição, considerando a preferência pelo Banco PAN quanto a esses serviços.\n",
        " \n",
        "• Quantidade de operações (“qtd_oper”) --> Quando um cliente possui muitas operações referentes a um mesmo serviço, deve ser considerada a preferência pelo Banco PAN, quando comparado a outras instituições financeiras.\n",
        " \n",
        "• Quantidade de reclamações (“qtd_reclm”) --> Se um cliente possui muitas reclamações, ele se sente insatisfeito com os serviços oferecidos pela instituição em questão. \n",
        " \n",
        "• Quantidade de restritivos no mercado (“qtd_restr”) --> Considera as restrições financeiras do cliente em outras companhias.\n",
        "\n",
        "• Rating do cliente (“cod_rating”) --> Refere-se ao risco que o cliente representa para o banco, indicando se existem atritos nessa relação ou se é provável que o cliente adquira novos produtos na instituição.\n",
        " \n",
        "• Índice de atrito (“ind_atritado”) --> É uma métrica interna do banco que quantifica possíveis conflitos entre o Banco PAN e seus clientes. Se esse índice for diferente de zero, está claro que o cliente possui conflitos com o banco.\n",
        " \n",
        "• Índice de engajamento (“ind_engajado”) --> Reflete o quão engajado o cliente é com a instituição, auxiliando o modelo preditivo a analisar se é alta ou baixa a probabilidade de que o cliente contate o banco para adquirir novos produtos ou serviços.\n",
        " \n",
        "• Índice de identificação de novo cliente (“ind_novo_cliente”) --> Identifica potenciais clientes do Banco PAN, os quais serão identificados ao entrarem em contato com o atendimento da instituição, de modo que a intenção de abrir uma conta no banco seja predita pelo modelo preditivo.\n",
        " \n",
        "**Por fim, foram definidos os campos que não serão utilizados na construção da lógica do modelo preditivo, os quais encontram-se dispostos abaixo.**\n",
        " \n",
        "• Número do CPF (“num_cpf”) --> Os clientes não serão avaliados individualmente, o modelo preditivo irá considerar um conjunto de clientes. Além disso, os clientes devem ser mantidos anônimos e os valores deste campo são strings, não sendo reconhecidos pelo modelo. \n",
        " \n",
        "• Valor da renda (“vlr_renda\") --> A maioria dos valores para esse campo são nulos (NaN), não havendo uma quantidade suficiente de registros para que o atributo em questão influencie as predições realizadas."
      ]
    },
    {
      "cell_type": "code",
      "execution_count": null,
      "metadata": {
        "id": "xXnqr6Zf54Pk"
      },
      "outputs": [],
      "source": [
        "# Importando as bibliotecas que serão utilizadas \n",
        "import plotly.express as px\n",
        "import random"
      ]
    },
    {
      "cell_type": "code",
      "execution_count": null,
      "metadata": {
        "id": "9JFxijCJ6ANx"
      },
      "outputs": [],
      "source": [
        "# # Geração de um número aleatório referente à safra\n",
        "# random_number = random.randint(1,12)\n",
        "\n",
        "# # Eliminação de safras duplicadas, restando apenas 12 safras, referentes aos meses do ano\n",
        "# safra_unica= df.drop_duplicates('anomes')\n",
        "\n",
        "# # Escolha de uma safra aleatória entre as 12 existentes\n",
        "# safra_escolhida = safra_unica['anomes'].iloc[12]\n",
        "# print(safra_escolhida)\n",
        "\n",
        "# # Seleção dos cpfs que se enquadram na safra escolhida, existindo um cpf por linha, apenas\n",
        "# todos_cpfs_safra = df[df['anomes'] == safra_escolhida]"
      ]
    },
    {
      "cell_type": "code",
      "execution_count": null,
      "metadata": {
        "id": "PpirWjIM5sX4"
      },
      "outputs": [],
      "source": [
        "# # Atribuição, ao data frame antigo, do novo data frame com cpf's únicos \n",
        "# df = todos_cpfs_safra"
      ]
    },
    {
      "cell_type": "markdown",
      "metadata": {
        "id": "tVzRRt6kLKFP"
      },
      "source": [
        "# **Limpeza dos dados - parte 2**\n",
        "\n",
        "* Nessa etapa, aquelas linhas que possuem valor de crédito e saldo como **nulos** foram retiradas, devido ao fato de que há uma alta probabilidade de que essas possoas não possuam conta no Banco Pan. \n",
        "\n",
        "* Posteriormente, a partir de uma verificação, foi percebida a existência de linhas que, apesar de possuirem valores concretos de score, valor de saldo, crédito, número de atendimentos, etc. não possuem informações na coluna **renda**. Dessa forma, a fim de potencializar o funcionamento do modelo preditivo, após perceber a irrelevância dessa coluna para a construção desse, foi decidida a sua retirada da tabela. Além dela, foi excluída, também, a coluna que continha o cpf, visto que, por ter sofrido um processo de hash, possuia letras em sua composição e não era compreendido pela predição. \n",
        "\n"
      ]
    },
    {
      "cell_type": "code",
      "execution_count": null,
      "metadata": {
        "colab": {
          "base_uri": "https://localhost:8080/",
          "height": 487
        },
        "id": "vFhGN-XC-UsR",
        "outputId": "ba22b34f-64c2-4412-ea1c-f6c4c13fdf5e"
      },
      "outputs": [
        {
          "data": {
            "text/html": [
              "\n",
              "  <div id=\"df-e4154e81-2cfe-4512-a844-042f7ef10923\">\n",
              "    <div class=\"colab-df-container\">\n",
              "      <div>\n",
              "<style scoped>\n",
              "    .dataframe tbody tr th:only-of-type {\n",
              "        vertical-align: middle;\n",
              "    }\n",
              "\n",
              "    .dataframe tbody tr th {\n",
              "        vertical-align: top;\n",
              "    }\n",
              "\n",
              "    .dataframe thead th {\n",
              "        text-align: right;\n",
              "    }\n",
              "</style>\n",
              "<table border=\"1\" class=\"dataframe\">\n",
              "  <thead>\n",
              "    <tr style=\"text-align: right;\">\n",
              "      <th></th>\n",
              "      <th>anomes</th>\n",
              "      <th>vlr_credito</th>\n",
              "      <th>vlr_saldo</th>\n",
              "      <th>num_atend_atrs</th>\n",
              "      <th>vlr_score</th>\n",
              "      <th>num_produtos</th>\n",
              "      <th>num_atend</th>\n",
              "      <th>qtd_oper</th>\n",
              "      <th>qtd_reclm</th>\n",
              "      <th>qtd_restr</th>\n",
              "      <th>cod_rating</th>\n",
              "      <th>ind_atrito</th>\n",
              "      <th>ind_engaj</th>\n",
              "      <th>ind_novo_cli</th>\n",
              "    </tr>\n",
              "  </thead>\n",
              "  <tbody>\n",
              "    <tr>\n",
              "      <th>1</th>\n",
              "      <td>202104</td>\n",
              "      <td>35943.74</td>\n",
              "      <td>5815.50</td>\n",
              "      <td>0.0</td>\n",
              "      <td>377.0</td>\n",
              "      <td>1.0</td>\n",
              "      <td>0.0</td>\n",
              "      <td>24.0</td>\n",
              "      <td>0.0</td>\n",
              "      <td>10.0</td>\n",
              "      <td>0</td>\n",
              "      <td>0.0</td>\n",
              "      <td>1.0</td>\n",
              "      <td>0.0</td>\n",
              "    </tr>\n",
              "    <tr>\n",
              "      <th>4</th>\n",
              "      <td>202104</td>\n",
              "      <td>1238.93</td>\n",
              "      <td>1400.00</td>\n",
              "      <td>0.0</td>\n",
              "      <td>773.0</td>\n",
              "      <td>2.0</td>\n",
              "      <td>0.0</td>\n",
              "      <td>21.0</td>\n",
              "      <td>0.0</td>\n",
              "      <td>0.0</td>\n",
              "      <td>0</td>\n",
              "      <td>0.0</td>\n",
              "      <td>1.0</td>\n",
              "      <td>0.0</td>\n",
              "    </tr>\n",
              "    <tr>\n",
              "      <th>7</th>\n",
              "      <td>202104</td>\n",
              "      <td>12607.75</td>\n",
              "      <td>31.70</td>\n",
              "      <td>0.0</td>\n",
              "      <td>0.0</td>\n",
              "      <td>0.0</td>\n",
              "      <td>0.0</td>\n",
              "      <td>9.0</td>\n",
              "      <td>0.0</td>\n",
              "      <td>0.0</td>\n",
              "      <td>9</td>\n",
              "      <td>0.0</td>\n",
              "      <td>0.0</td>\n",
              "      <td>0.0</td>\n",
              "    </tr>\n",
              "    <tr>\n",
              "      <th>8</th>\n",
              "      <td>202104</td>\n",
              "      <td>81506.54</td>\n",
              "      <td>5243.45</td>\n",
              "      <td>0.0</td>\n",
              "      <td>560.0</td>\n",
              "      <td>1.0</td>\n",
              "      <td>0.0</td>\n",
              "      <td>14.0</td>\n",
              "      <td>0.0</td>\n",
              "      <td>0.0</td>\n",
              "      <td>0</td>\n",
              "      <td>0.0</td>\n",
              "      <td>0.0</td>\n",
              "      <td>0.0</td>\n",
              "    </tr>\n",
              "    <tr>\n",
              "      <th>9</th>\n",
              "      <td>202104</td>\n",
              "      <td>112918.62</td>\n",
              "      <td>7252.64</td>\n",
              "      <td>0.0</td>\n",
              "      <td>374.0</td>\n",
              "      <td>2.0</td>\n",
              "      <td>0.0</td>\n",
              "      <td>23.0</td>\n",
              "      <td>0.0</td>\n",
              "      <td>0.0</td>\n",
              "      <td>0</td>\n",
              "      <td>0.0</td>\n",
              "      <td>1.0</td>\n",
              "      <td>0.0</td>\n",
              "    </tr>\n",
              "    <tr>\n",
              "      <th>...</th>\n",
              "      <td>...</td>\n",
              "      <td>...</td>\n",
              "      <td>...</td>\n",
              "      <td>...</td>\n",
              "      <td>...</td>\n",
              "      <td>...</td>\n",
              "      <td>...</td>\n",
              "      <td>...</td>\n",
              "      <td>...</td>\n",
              "      <td>...</td>\n",
              "      <td>...</td>\n",
              "      <td>...</td>\n",
              "      <td>...</td>\n",
              "      <td>...</td>\n",
              "    </tr>\n",
              "    <tr>\n",
              "      <th>12032483</th>\n",
              "      <td>202204</td>\n",
              "      <td>1171.12</td>\n",
              "      <td>690.80</td>\n",
              "      <td>0.0</td>\n",
              "      <td>575.0</td>\n",
              "      <td>4.0</td>\n",
              "      <td>0.0</td>\n",
              "      <td>9.0</td>\n",
              "      <td>0.0</td>\n",
              "      <td>0.0</td>\n",
              "      <td>0</td>\n",
              "      <td>0.0</td>\n",
              "      <td>1.0</td>\n",
              "      <td>0.0</td>\n",
              "    </tr>\n",
              "    <tr>\n",
              "      <th>12032484</th>\n",
              "      <td>202204</td>\n",
              "      <td>36333.58</td>\n",
              "      <td>5942.14</td>\n",
              "      <td>0.0</td>\n",
              "      <td>538.0</td>\n",
              "      <td>4.0</td>\n",
              "      <td>0.0</td>\n",
              "      <td>40.0</td>\n",
              "      <td>0.0</td>\n",
              "      <td>1.0</td>\n",
              "      <td>2</td>\n",
              "      <td>0.0</td>\n",
              "      <td>1.0</td>\n",
              "      <td>0.0</td>\n",
              "    </tr>\n",
              "    <tr>\n",
              "      <th>12032485</th>\n",
              "      <td>202204</td>\n",
              "      <td>43054.69</td>\n",
              "      <td>2620.89</td>\n",
              "      <td>0.0</td>\n",
              "      <td>437.0</td>\n",
              "      <td>2.0</td>\n",
              "      <td>0.0</td>\n",
              "      <td>17.0</td>\n",
              "      <td>0.0</td>\n",
              "      <td>8.0</td>\n",
              "      <td>0</td>\n",
              "      <td>0.0</td>\n",
              "      <td>0.0</td>\n",
              "      <td>0.0</td>\n",
              "    </tr>\n",
              "    <tr>\n",
              "      <th>12032487</th>\n",
              "      <td>202204</td>\n",
              "      <td>21959.05</td>\n",
              "      <td>4017.00</td>\n",
              "      <td>0.0</td>\n",
              "      <td>410.0</td>\n",
              "      <td>1.0</td>\n",
              "      <td>0.0</td>\n",
              "      <td>15.0</td>\n",
              "      <td>0.0</td>\n",
              "      <td>4.0</td>\n",
              "      <td>8</td>\n",
              "      <td>0.0</td>\n",
              "      <td>0.0</td>\n",
              "      <td>0.0</td>\n",
              "    </tr>\n",
              "    <tr>\n",
              "      <th>12032490</th>\n",
              "      <td>202204</td>\n",
              "      <td>30268.92</td>\n",
              "      <td>1631.88</td>\n",
              "      <td>0.0</td>\n",
              "      <td>359.0</td>\n",
              "      <td>1.0</td>\n",
              "      <td>0.0</td>\n",
              "      <td>17.0</td>\n",
              "      <td>0.0</td>\n",
              "      <td>6.0</td>\n",
              "      <td>0</td>\n",
              "      <td>0.0</td>\n",
              "      <td>1.0</td>\n",
              "      <td>0.0</td>\n",
              "    </tr>\n",
              "  </tbody>\n",
              "</table>\n",
              "<p>5654598 rows × 14 columns</p>\n",
              "</div>\n",
              "      <button class=\"colab-df-convert\" onclick=\"convertToInteractive('df-e4154e81-2cfe-4512-a844-042f7ef10923')\"\n",
              "              title=\"Convert this dataframe to an interactive table.\"\n",
              "              style=\"display:none;\">\n",
              "        \n",
              "  <svg xmlns=\"http://www.w3.org/2000/svg\" height=\"24px\"viewBox=\"0 0 24 24\"\n",
              "       width=\"24px\">\n",
              "    <path d=\"M0 0h24v24H0V0z\" fill=\"none\"/>\n",
              "    <path d=\"M18.56 5.44l.94 2.06.94-2.06 2.06-.94-2.06-.94-.94-2.06-.94 2.06-2.06.94zm-11 1L8.5 8.5l.94-2.06 2.06-.94-2.06-.94L8.5 2.5l-.94 2.06-2.06.94zm10 10l.94 2.06.94-2.06 2.06-.94-2.06-.94-.94-2.06-.94 2.06-2.06.94z\"/><path d=\"M17.41 7.96l-1.37-1.37c-.4-.4-.92-.59-1.43-.59-.52 0-1.04.2-1.43.59L10.3 9.45l-7.72 7.72c-.78.78-.78 2.05 0 2.83L4 21.41c.39.39.9.59 1.41.59.51 0 1.02-.2 1.41-.59l7.78-7.78 2.81-2.81c.8-.78.8-2.07 0-2.86zM5.41 20L4 18.59l7.72-7.72 1.47 1.35L5.41 20z\"/>\n",
              "  </svg>\n",
              "      </button>\n",
              "      \n",
              "  <style>\n",
              "    .colab-df-container {\n",
              "      display:flex;\n",
              "      flex-wrap:wrap;\n",
              "      gap: 12px;\n",
              "    }\n",
              "\n",
              "    .colab-df-convert {\n",
              "      background-color: #E8F0FE;\n",
              "      border: none;\n",
              "      border-radius: 50%;\n",
              "      cursor: pointer;\n",
              "      display: none;\n",
              "      fill: #1967D2;\n",
              "      height: 32px;\n",
              "      padding: 0 0 0 0;\n",
              "      width: 32px;\n",
              "    }\n",
              "\n",
              "    .colab-df-convert:hover {\n",
              "      background-color: #E2EBFA;\n",
              "      box-shadow: 0px 1px 2px rgba(60, 64, 67, 0.3), 0px 1px 3px 1px rgba(60, 64, 67, 0.15);\n",
              "      fill: #174EA6;\n",
              "    }\n",
              "\n",
              "    [theme=dark] .colab-df-convert {\n",
              "      background-color: #3B4455;\n",
              "      fill: #D2E3FC;\n",
              "    }\n",
              "\n",
              "    [theme=dark] .colab-df-convert:hover {\n",
              "      background-color: #434B5C;\n",
              "      box-shadow: 0px 1px 3px 1px rgba(0, 0, 0, 0.15);\n",
              "      filter: drop-shadow(0px 1px 2px rgba(0, 0, 0, 0.3));\n",
              "      fill: #FFFFFF;\n",
              "    }\n",
              "  </style>\n",
              "\n",
              "      <script>\n",
              "        const buttonEl =\n",
              "          document.querySelector('#df-e4154e81-2cfe-4512-a844-042f7ef10923 button.colab-df-convert');\n",
              "        buttonEl.style.display =\n",
              "          google.colab.kernel.accessAllowed ? 'block' : 'none';\n",
              "\n",
              "        async function convertToInteractive(key) {\n",
              "          const element = document.querySelector('#df-e4154e81-2cfe-4512-a844-042f7ef10923');\n",
              "          const dataTable =\n",
              "            await google.colab.kernel.invokeFunction('convertToInteractive',\n",
              "                                                     [key], {});\n",
              "          if (!dataTable) return;\n",
              "\n",
              "          const docLinkHtml = 'Like what you see? Visit the ' +\n",
              "            '<a target=\"_blank\" href=https://colab.research.google.com/notebooks/data_table.ipynb>data table notebook</a>'\n",
              "            + ' to learn more about interactive tables.';\n",
              "          element.innerHTML = '';\n",
              "          dataTable['output_type'] = 'display_data';\n",
              "          await google.colab.output.renderOutput(dataTable, element);\n",
              "          const docLink = document.createElement('div');\n",
              "          docLink.innerHTML = docLinkHtml;\n",
              "          element.appendChild(docLink);\n",
              "        }\n",
              "      </script>\n",
              "    </div>\n",
              "  </div>\n",
              "  "
            ],
            "text/plain": [
              "          anomes  vlr_credito  vlr_saldo  num_atend_atrs  vlr_score  \\\n",
              "1         202104     35943.74    5815.50             0.0      377.0   \n",
              "4         202104      1238.93    1400.00             0.0      773.0   \n",
              "7         202104     12607.75      31.70             0.0        0.0   \n",
              "8         202104     81506.54    5243.45             0.0      560.0   \n",
              "9         202104    112918.62    7252.64             0.0      374.0   \n",
              "...          ...          ...        ...             ...        ...   \n",
              "12032483  202204      1171.12     690.80             0.0      575.0   \n",
              "12032484  202204     36333.58    5942.14             0.0      538.0   \n",
              "12032485  202204     43054.69    2620.89             0.0      437.0   \n",
              "12032487  202204     21959.05    4017.00             0.0      410.0   \n",
              "12032490  202204     30268.92    1631.88             0.0      359.0   \n",
              "\n",
              "          num_produtos  num_atend  qtd_oper  qtd_reclm  qtd_restr  cod_rating  \\\n",
              "1                  1.0        0.0      24.0        0.0       10.0           0   \n",
              "4                  2.0        0.0      21.0        0.0        0.0           0   \n",
              "7                  0.0        0.0       9.0        0.0        0.0           9   \n",
              "8                  1.0        0.0      14.0        0.0        0.0           0   \n",
              "9                  2.0        0.0      23.0        0.0        0.0           0   \n",
              "...                ...        ...       ...        ...        ...         ...   \n",
              "12032483           4.0        0.0       9.0        0.0        0.0           0   \n",
              "12032484           4.0        0.0      40.0        0.0        1.0           2   \n",
              "12032485           2.0        0.0      17.0        0.0        8.0           0   \n",
              "12032487           1.0        0.0      15.0        0.0        4.0           8   \n",
              "12032490           1.0        0.0      17.0        0.0        6.0           0   \n",
              "\n",
              "          ind_atrito  ind_engaj  ind_novo_cli  \n",
              "1                0.0        1.0           0.0  \n",
              "4                0.0        1.0           0.0  \n",
              "7                0.0        0.0           0.0  \n",
              "8                0.0        0.0           0.0  \n",
              "9                0.0        1.0           0.0  \n",
              "...              ...        ...           ...  \n",
              "12032483         0.0        1.0           0.0  \n",
              "12032484         0.0        1.0           0.0  \n",
              "12032485         0.0        0.0           0.0  \n",
              "12032487         0.0        0.0           0.0  \n",
              "12032490         0.0        1.0           0.0  \n",
              "\n",
              "[5654598 rows x 14 columns]"
            ]
          },
          "execution_count": 9,
          "metadata": {},
          "output_type": "execute_result"
        }
      ],
      "source": [
        "# Retirada de todos os valores de crédito e saldo que estão nulos\n",
        "df = df[~df.vlr_credito.isnull() & ~df.vlr_saldo.isnull()]\n",
        "\n",
        "# Exclusão das colunas renda e cpf\n",
        "df = df.drop('vlr_renda', axis=1)\n",
        "df = df.drop('num_cpf_hash', axis=1)\n",
        "\n",
        "# Verificação das mudanças realizadas:\n",
        "df"
      ]
    },
    {
      "cell_type": "markdown",
      "metadata": {
        "id": "oulfNSa422N7"
      },
      "source": [
        "Abaixo, é gerado um BackUp que impede, caso o dataframe seja substituído de forma errônea, a releitura do CSV."
      ]
    },
    {
      "cell_type": "code",
      "execution_count": null,
      "metadata": {
        "id": "VOXZ8SGUKb6V"
      },
      "outputs": [],
      "source": [
        "#Backup\n",
        "backup = df"
      ]
    },
    {
      "cell_type": "code",
      "execution_count": null,
      "metadata": {
        "colab": {
          "base_uri": "https://localhost:8080/",
          "height": 487
        },
        "id": "j9t1BPgiKp9U",
        "outputId": "41c7a96b-2f3e-4515-995c-af21b4923fbb"
      },
      "outputs": [
        {
          "data": {
            "text/html": [
              "\n",
              "  <div id=\"df-ec23efaa-a0c3-4dd3-9e13-bc057ac5faa1\">\n",
              "    <div class=\"colab-df-container\">\n",
              "      <div>\n",
              "<style scoped>\n",
              "    .dataframe tbody tr th:only-of-type {\n",
              "        vertical-align: middle;\n",
              "    }\n",
              "\n",
              "    .dataframe tbody tr th {\n",
              "        vertical-align: top;\n",
              "    }\n",
              "\n",
              "    .dataframe thead th {\n",
              "        text-align: right;\n",
              "    }\n",
              "</style>\n",
              "<table border=\"1\" class=\"dataframe\">\n",
              "  <thead>\n",
              "    <tr style=\"text-align: right;\">\n",
              "      <th></th>\n",
              "      <th>anomes</th>\n",
              "      <th>vlr_credito</th>\n",
              "      <th>vlr_saldo</th>\n",
              "      <th>num_atend_atrs</th>\n",
              "      <th>vlr_score</th>\n",
              "      <th>num_produtos</th>\n",
              "      <th>num_atend</th>\n",
              "      <th>qtd_oper</th>\n",
              "      <th>qtd_reclm</th>\n",
              "      <th>qtd_restr</th>\n",
              "      <th>cod_rating</th>\n",
              "      <th>ind_atrito</th>\n",
              "      <th>ind_engaj</th>\n",
              "      <th>ind_novo_cli</th>\n",
              "    </tr>\n",
              "  </thead>\n",
              "  <tbody>\n",
              "    <tr>\n",
              "      <th>1</th>\n",
              "      <td>202104</td>\n",
              "      <td>35943.74</td>\n",
              "      <td>5815.50</td>\n",
              "      <td>0.0</td>\n",
              "      <td>377.0</td>\n",
              "      <td>1.0</td>\n",
              "      <td>0.0</td>\n",
              "      <td>24.0</td>\n",
              "      <td>0.0</td>\n",
              "      <td>10.0</td>\n",
              "      <td>0</td>\n",
              "      <td>0.0</td>\n",
              "      <td>1.0</td>\n",
              "      <td>0.0</td>\n",
              "    </tr>\n",
              "    <tr>\n",
              "      <th>4</th>\n",
              "      <td>202104</td>\n",
              "      <td>1238.93</td>\n",
              "      <td>1400.00</td>\n",
              "      <td>0.0</td>\n",
              "      <td>773.0</td>\n",
              "      <td>2.0</td>\n",
              "      <td>0.0</td>\n",
              "      <td>21.0</td>\n",
              "      <td>0.0</td>\n",
              "      <td>0.0</td>\n",
              "      <td>0</td>\n",
              "      <td>0.0</td>\n",
              "      <td>1.0</td>\n",
              "      <td>0.0</td>\n",
              "    </tr>\n",
              "    <tr>\n",
              "      <th>7</th>\n",
              "      <td>202104</td>\n",
              "      <td>12607.75</td>\n",
              "      <td>31.70</td>\n",
              "      <td>0.0</td>\n",
              "      <td>0.0</td>\n",
              "      <td>0.0</td>\n",
              "      <td>0.0</td>\n",
              "      <td>9.0</td>\n",
              "      <td>0.0</td>\n",
              "      <td>0.0</td>\n",
              "      <td>9</td>\n",
              "      <td>0.0</td>\n",
              "      <td>0.0</td>\n",
              "      <td>0.0</td>\n",
              "    </tr>\n",
              "    <tr>\n",
              "      <th>8</th>\n",
              "      <td>202104</td>\n",
              "      <td>81506.54</td>\n",
              "      <td>5243.45</td>\n",
              "      <td>0.0</td>\n",
              "      <td>560.0</td>\n",
              "      <td>1.0</td>\n",
              "      <td>0.0</td>\n",
              "      <td>14.0</td>\n",
              "      <td>0.0</td>\n",
              "      <td>0.0</td>\n",
              "      <td>0</td>\n",
              "      <td>0.0</td>\n",
              "      <td>0.0</td>\n",
              "      <td>0.0</td>\n",
              "    </tr>\n",
              "    <tr>\n",
              "      <th>9</th>\n",
              "      <td>202104</td>\n",
              "      <td>112918.62</td>\n",
              "      <td>7252.64</td>\n",
              "      <td>0.0</td>\n",
              "      <td>374.0</td>\n",
              "      <td>2.0</td>\n",
              "      <td>0.0</td>\n",
              "      <td>23.0</td>\n",
              "      <td>0.0</td>\n",
              "      <td>0.0</td>\n",
              "      <td>0</td>\n",
              "      <td>0.0</td>\n",
              "      <td>1.0</td>\n",
              "      <td>0.0</td>\n",
              "    </tr>\n",
              "    <tr>\n",
              "      <th>...</th>\n",
              "      <td>...</td>\n",
              "      <td>...</td>\n",
              "      <td>...</td>\n",
              "      <td>...</td>\n",
              "      <td>...</td>\n",
              "      <td>...</td>\n",
              "      <td>...</td>\n",
              "      <td>...</td>\n",
              "      <td>...</td>\n",
              "      <td>...</td>\n",
              "      <td>...</td>\n",
              "      <td>...</td>\n",
              "      <td>...</td>\n",
              "      <td>...</td>\n",
              "    </tr>\n",
              "    <tr>\n",
              "      <th>12032483</th>\n",
              "      <td>202204</td>\n",
              "      <td>1171.12</td>\n",
              "      <td>690.80</td>\n",
              "      <td>0.0</td>\n",
              "      <td>575.0</td>\n",
              "      <td>4.0</td>\n",
              "      <td>0.0</td>\n",
              "      <td>9.0</td>\n",
              "      <td>0.0</td>\n",
              "      <td>0.0</td>\n",
              "      <td>0</td>\n",
              "      <td>0.0</td>\n",
              "      <td>1.0</td>\n",
              "      <td>0.0</td>\n",
              "    </tr>\n",
              "    <tr>\n",
              "      <th>12032484</th>\n",
              "      <td>202204</td>\n",
              "      <td>36333.58</td>\n",
              "      <td>5942.14</td>\n",
              "      <td>0.0</td>\n",
              "      <td>538.0</td>\n",
              "      <td>4.0</td>\n",
              "      <td>0.0</td>\n",
              "      <td>40.0</td>\n",
              "      <td>0.0</td>\n",
              "      <td>1.0</td>\n",
              "      <td>2</td>\n",
              "      <td>0.0</td>\n",
              "      <td>1.0</td>\n",
              "      <td>0.0</td>\n",
              "    </tr>\n",
              "    <tr>\n",
              "      <th>12032485</th>\n",
              "      <td>202204</td>\n",
              "      <td>43054.69</td>\n",
              "      <td>2620.89</td>\n",
              "      <td>0.0</td>\n",
              "      <td>437.0</td>\n",
              "      <td>2.0</td>\n",
              "      <td>0.0</td>\n",
              "      <td>17.0</td>\n",
              "      <td>0.0</td>\n",
              "      <td>8.0</td>\n",
              "      <td>0</td>\n",
              "      <td>0.0</td>\n",
              "      <td>0.0</td>\n",
              "      <td>0.0</td>\n",
              "    </tr>\n",
              "    <tr>\n",
              "      <th>12032487</th>\n",
              "      <td>202204</td>\n",
              "      <td>21959.05</td>\n",
              "      <td>4017.00</td>\n",
              "      <td>0.0</td>\n",
              "      <td>410.0</td>\n",
              "      <td>1.0</td>\n",
              "      <td>0.0</td>\n",
              "      <td>15.0</td>\n",
              "      <td>0.0</td>\n",
              "      <td>4.0</td>\n",
              "      <td>8</td>\n",
              "      <td>0.0</td>\n",
              "      <td>0.0</td>\n",
              "      <td>0.0</td>\n",
              "    </tr>\n",
              "    <tr>\n",
              "      <th>12032490</th>\n",
              "      <td>202204</td>\n",
              "      <td>30268.92</td>\n",
              "      <td>1631.88</td>\n",
              "      <td>0.0</td>\n",
              "      <td>359.0</td>\n",
              "      <td>1.0</td>\n",
              "      <td>0.0</td>\n",
              "      <td>17.0</td>\n",
              "      <td>0.0</td>\n",
              "      <td>6.0</td>\n",
              "      <td>0</td>\n",
              "      <td>0.0</td>\n",
              "      <td>1.0</td>\n",
              "      <td>0.0</td>\n",
              "    </tr>\n",
              "  </tbody>\n",
              "</table>\n",
              "<p>5654598 rows × 14 columns</p>\n",
              "</div>\n",
              "      <button class=\"colab-df-convert\" onclick=\"convertToInteractive('df-ec23efaa-a0c3-4dd3-9e13-bc057ac5faa1')\"\n",
              "              title=\"Convert this dataframe to an interactive table.\"\n",
              "              style=\"display:none;\">\n",
              "        \n",
              "  <svg xmlns=\"http://www.w3.org/2000/svg\" height=\"24px\"viewBox=\"0 0 24 24\"\n",
              "       width=\"24px\">\n",
              "    <path d=\"M0 0h24v24H0V0z\" fill=\"none\"/>\n",
              "    <path d=\"M18.56 5.44l.94 2.06.94-2.06 2.06-.94-2.06-.94-.94-2.06-.94 2.06-2.06.94zm-11 1L8.5 8.5l.94-2.06 2.06-.94-2.06-.94L8.5 2.5l-.94 2.06-2.06.94zm10 10l.94 2.06.94-2.06 2.06-.94-2.06-.94-.94-2.06-.94 2.06-2.06.94z\"/><path d=\"M17.41 7.96l-1.37-1.37c-.4-.4-.92-.59-1.43-.59-.52 0-1.04.2-1.43.59L10.3 9.45l-7.72 7.72c-.78.78-.78 2.05 0 2.83L4 21.41c.39.39.9.59 1.41.59.51 0 1.02-.2 1.41-.59l7.78-7.78 2.81-2.81c.8-.78.8-2.07 0-2.86zM5.41 20L4 18.59l7.72-7.72 1.47 1.35L5.41 20z\"/>\n",
              "  </svg>\n",
              "      </button>\n",
              "      \n",
              "  <style>\n",
              "    .colab-df-container {\n",
              "      display:flex;\n",
              "      flex-wrap:wrap;\n",
              "      gap: 12px;\n",
              "    }\n",
              "\n",
              "    .colab-df-convert {\n",
              "      background-color: #E8F0FE;\n",
              "      border: none;\n",
              "      border-radius: 50%;\n",
              "      cursor: pointer;\n",
              "      display: none;\n",
              "      fill: #1967D2;\n",
              "      height: 32px;\n",
              "      padding: 0 0 0 0;\n",
              "      width: 32px;\n",
              "    }\n",
              "\n",
              "    .colab-df-convert:hover {\n",
              "      background-color: #E2EBFA;\n",
              "      box-shadow: 0px 1px 2px rgba(60, 64, 67, 0.3), 0px 1px 3px 1px rgba(60, 64, 67, 0.15);\n",
              "      fill: #174EA6;\n",
              "    }\n",
              "\n",
              "    [theme=dark] .colab-df-convert {\n",
              "      background-color: #3B4455;\n",
              "      fill: #D2E3FC;\n",
              "    }\n",
              "\n",
              "    [theme=dark] .colab-df-convert:hover {\n",
              "      background-color: #434B5C;\n",
              "      box-shadow: 0px 1px 3px 1px rgba(0, 0, 0, 0.15);\n",
              "      filter: drop-shadow(0px 1px 2px rgba(0, 0, 0, 0.3));\n",
              "      fill: #FFFFFF;\n",
              "    }\n",
              "  </style>\n",
              "\n",
              "      <script>\n",
              "        const buttonEl =\n",
              "          document.querySelector('#df-ec23efaa-a0c3-4dd3-9e13-bc057ac5faa1 button.colab-df-convert');\n",
              "        buttonEl.style.display =\n",
              "          google.colab.kernel.accessAllowed ? 'block' : 'none';\n",
              "\n",
              "        async function convertToInteractive(key) {\n",
              "          const element = document.querySelector('#df-ec23efaa-a0c3-4dd3-9e13-bc057ac5faa1');\n",
              "          const dataTable =\n",
              "            await google.colab.kernel.invokeFunction('convertToInteractive',\n",
              "                                                     [key], {});\n",
              "          if (!dataTable) return;\n",
              "\n",
              "          const docLinkHtml = 'Like what you see? Visit the ' +\n",
              "            '<a target=\"_blank\" href=https://colab.research.google.com/notebooks/data_table.ipynb>data table notebook</a>'\n",
              "            + ' to learn more about interactive tables.';\n",
              "          element.innerHTML = '';\n",
              "          dataTable['output_type'] = 'display_data';\n",
              "          await google.colab.output.renderOutput(dataTable, element);\n",
              "          const docLink = document.createElement('div');\n",
              "          docLink.innerHTML = docLinkHtml;\n",
              "          element.appendChild(docLink);\n",
              "        }\n",
              "      </script>\n",
              "    </div>\n",
              "  </div>\n",
              "  "
            ],
            "text/plain": [
              "          anomes  vlr_credito  vlr_saldo  num_atend_atrs  vlr_score  \\\n",
              "1         202104     35943.74    5815.50             0.0      377.0   \n",
              "4         202104      1238.93    1400.00             0.0      773.0   \n",
              "7         202104     12607.75      31.70             0.0        0.0   \n",
              "8         202104     81506.54    5243.45             0.0      560.0   \n",
              "9         202104    112918.62    7252.64             0.0      374.0   \n",
              "...          ...          ...        ...             ...        ...   \n",
              "12032483  202204      1171.12     690.80             0.0      575.0   \n",
              "12032484  202204     36333.58    5942.14             0.0      538.0   \n",
              "12032485  202204     43054.69    2620.89             0.0      437.0   \n",
              "12032487  202204     21959.05    4017.00             0.0      410.0   \n",
              "12032490  202204     30268.92    1631.88             0.0      359.0   \n",
              "\n",
              "          num_produtos  num_atend  qtd_oper  qtd_reclm  qtd_restr  cod_rating  \\\n",
              "1                  1.0        0.0      24.0        0.0       10.0           0   \n",
              "4                  2.0        0.0      21.0        0.0        0.0           0   \n",
              "7                  0.0        0.0       9.0        0.0        0.0           9   \n",
              "8                  1.0        0.0      14.0        0.0        0.0           0   \n",
              "9                  2.0        0.0      23.0        0.0        0.0           0   \n",
              "...                ...        ...       ...        ...        ...         ...   \n",
              "12032483           4.0        0.0       9.0        0.0        0.0           0   \n",
              "12032484           4.0        0.0      40.0        0.0        1.0           2   \n",
              "12032485           2.0        0.0      17.0        0.0        8.0           0   \n",
              "12032487           1.0        0.0      15.0        0.0        4.0           8   \n",
              "12032490           1.0        0.0      17.0        0.0        6.0           0   \n",
              "\n",
              "          ind_atrito  ind_engaj  ind_novo_cli  \n",
              "1                0.0        1.0           0.0  \n",
              "4                0.0        1.0           0.0  \n",
              "7                0.0        0.0           0.0  \n",
              "8                0.0        0.0           0.0  \n",
              "9                0.0        1.0           0.0  \n",
              "...              ...        ...           ...  \n",
              "12032483         0.0        1.0           0.0  \n",
              "12032484         0.0        1.0           0.0  \n",
              "12032485         0.0        0.0           0.0  \n",
              "12032487         0.0        0.0           0.0  \n",
              "12032490         0.0        1.0           0.0  \n",
              "\n",
              "[5654598 rows x 14 columns]"
            ]
          },
          "execution_count": 11,
          "metadata": {},
          "output_type": "execute_result"
        }
      ],
      "source": [
        "df = backup\n",
        "df"
      ]
    },
    {
      "cell_type": "markdown",
      "metadata": {
        "id": "Ym3zR3CzEZrm"
      },
      "source": [
        "# **Tratamento de dados - parte 1** "
      ]
    },
    {
      "cell_type": "markdown",
      "metadata": {
        "id": "7YeKiDKU3Y4H"
      },
      "source": [
        "Abaixo, está sendo realizado o tratamento dos dados, no qual é selecionada a base de dados limpa e, a partir dela, criada uma proporção entre clientes atritados e não atritados. Isso é feito porque, nos dados fornecidos, existe um volume muito elevado de clientes não atritados quando comparado ao número de clientes atritados, o que induzirá o modelo ao erro. "
      ]
    },
    {
      "cell_type": "code",
      "execution_count": null,
      "metadata": {
        "colab": {
          "base_uri": "https://localhost:8080/",
          "height": 487
        },
        "id": "9220aUNPEmit",
        "outputId": "ee5d6aca-f880-46a9-b42e-19b3818eaab1"
      },
      "outputs": [
        {
          "data": {
            "text/html": [
              "\n",
              "  <div id=\"df-06d6f216-541b-41b0-80a6-6f3385d61653\">\n",
              "    <div class=\"colab-df-container\">\n",
              "      <div>\n",
              "<style scoped>\n",
              "    .dataframe tbody tr th:only-of-type {\n",
              "        vertical-align: middle;\n",
              "    }\n",
              "\n",
              "    .dataframe tbody tr th {\n",
              "        vertical-align: top;\n",
              "    }\n",
              "\n",
              "    .dataframe thead th {\n",
              "        text-align: right;\n",
              "    }\n",
              "</style>\n",
              "<table border=\"1\" class=\"dataframe\">\n",
              "  <thead>\n",
              "    <tr style=\"text-align: right;\">\n",
              "      <th></th>\n",
              "      <th>anomes</th>\n",
              "      <th>vlr_credito</th>\n",
              "      <th>vlr_saldo</th>\n",
              "      <th>num_atend_atrs</th>\n",
              "      <th>vlr_score</th>\n",
              "      <th>num_produtos</th>\n",
              "      <th>num_atend</th>\n",
              "      <th>qtd_oper</th>\n",
              "      <th>qtd_reclm</th>\n",
              "      <th>qtd_restr</th>\n",
              "      <th>cod_rating</th>\n",
              "      <th>ind_atrito</th>\n",
              "      <th>ind_engaj</th>\n",
              "      <th>ind_novo_cli</th>\n",
              "    </tr>\n",
              "  </thead>\n",
              "  <tbody>\n",
              "    <tr>\n",
              "      <th>6629</th>\n",
              "      <td>202104</td>\n",
              "      <td>14473.49</td>\n",
              "      <td>3403.19</td>\n",
              "      <td>0.0</td>\n",
              "      <td>873.0</td>\n",
              "      <td>1.0</td>\n",
              "      <td>0.0</td>\n",
              "      <td>10.0</td>\n",
              "      <td>0.0</td>\n",
              "      <td>0.0</td>\n",
              "      <td>0</td>\n",
              "      <td>0.0</td>\n",
              "      <td>1.0</td>\n",
              "      <td>0.0</td>\n",
              "    </tr>\n",
              "    <tr>\n",
              "      <th>11654623</th>\n",
              "      <td>202204</td>\n",
              "      <td>256033.01</td>\n",
              "      <td>35334.78</td>\n",
              "      <td>0.0</td>\n",
              "      <td>962.0</td>\n",
              "      <td>2.0</td>\n",
              "      <td>0.0</td>\n",
              "      <td>34.0</td>\n",
              "      <td>1.0</td>\n",
              "      <td>0.0</td>\n",
              "      <td>0</td>\n",
              "      <td>1.0</td>\n",
              "      <td>1.0</td>\n",
              "      <td>0.0</td>\n",
              "    </tr>\n",
              "    <tr>\n",
              "      <th>6781</th>\n",
              "      <td>202104</td>\n",
              "      <td>39407.38</td>\n",
              "      <td>1578.94</td>\n",
              "      <td>0.0</td>\n",
              "      <td>0.0</td>\n",
              "      <td>1.0</td>\n",
              "      <td>0.0</td>\n",
              "      <td>20.0</td>\n",
              "      <td>0.0</td>\n",
              "      <td>2.0</td>\n",
              "      <td>0</td>\n",
              "      <td>0.0</td>\n",
              "      <td>0.0</td>\n",
              "      <td>0.0</td>\n",
              "    </tr>\n",
              "    <tr>\n",
              "      <th>6987512</th>\n",
              "      <td>202111</td>\n",
              "      <td>36166.10</td>\n",
              "      <td>7228.19</td>\n",
              "      <td>0.0</td>\n",
              "      <td>653.0</td>\n",
              "      <td>3.0</td>\n",
              "      <td>0.0</td>\n",
              "      <td>14.0</td>\n",
              "      <td>1.0</td>\n",
              "      <td>0.0</td>\n",
              "      <td>0</td>\n",
              "      <td>1.0</td>\n",
              "      <td>1.0</td>\n",
              "      <td>0.0</td>\n",
              "    </tr>\n",
              "    <tr>\n",
              "      <th>4474</th>\n",
              "      <td>202104</td>\n",
              "      <td>25724.91</td>\n",
              "      <td>23183.99</td>\n",
              "      <td>0.0</td>\n",
              "      <td>327.0</td>\n",
              "      <td>2.0</td>\n",
              "      <td>0.0</td>\n",
              "      <td>10.0</td>\n",
              "      <td>0.0</td>\n",
              "      <td>3.0</td>\n",
              "      <td>3</td>\n",
              "      <td>0.0</td>\n",
              "      <td>0.0</td>\n",
              "      <td>0.0</td>\n",
              "    </tr>\n",
              "    <tr>\n",
              "      <th>...</th>\n",
              "      <td>...</td>\n",
              "      <td>...</td>\n",
              "      <td>...</td>\n",
              "      <td>...</td>\n",
              "      <td>...</td>\n",
              "      <td>...</td>\n",
              "      <td>...</td>\n",
              "      <td>...</td>\n",
              "      <td>...</td>\n",
              "      <td>...</td>\n",
              "      <td>...</td>\n",
              "      <td>...</td>\n",
              "      <td>...</td>\n",
              "      <td>...</td>\n",
              "    </tr>\n",
              "    <tr>\n",
              "      <th>7831539</th>\n",
              "      <td>202112</td>\n",
              "      <td>17804.55</td>\n",
              "      <td>1903.55</td>\n",
              "      <td>0.0</td>\n",
              "      <td>433.0</td>\n",
              "      <td>1.0</td>\n",
              "      <td>0.0</td>\n",
              "      <td>9.0</td>\n",
              "      <td>1.0</td>\n",
              "      <td>0.0</td>\n",
              "      <td>0</td>\n",
              "      <td>1.0</td>\n",
              "      <td>1.0</td>\n",
              "      <td>0.0</td>\n",
              "    </tr>\n",
              "    <tr>\n",
              "      <th>5956909</th>\n",
              "      <td>202110</td>\n",
              "      <td>10060.38</td>\n",
              "      <td>7978.24</td>\n",
              "      <td>0.0</td>\n",
              "      <td>446.0</td>\n",
              "      <td>3.0</td>\n",
              "      <td>0.0</td>\n",
              "      <td>6.0</td>\n",
              "      <td>0.0</td>\n",
              "      <td>3.0</td>\n",
              "      <td>0</td>\n",
              "      <td>1.0</td>\n",
              "      <td>1.0</td>\n",
              "      <td>0.0</td>\n",
              "    </tr>\n",
              "    <tr>\n",
              "      <th>5860</th>\n",
              "      <td>202104</td>\n",
              "      <td>18733.97</td>\n",
              "      <td>1049.09</td>\n",
              "      <td>0.0</td>\n",
              "      <td>724.0</td>\n",
              "      <td>1.0</td>\n",
              "      <td>0.0</td>\n",
              "      <td>14.0</td>\n",
              "      <td>0.0</td>\n",
              "      <td>0.0</td>\n",
              "      <td>0</td>\n",
              "      <td>0.0</td>\n",
              "      <td>0.0</td>\n",
              "      <td>0.0</td>\n",
              "    </tr>\n",
              "    <tr>\n",
              "      <th>4968</th>\n",
              "      <td>202104</td>\n",
              "      <td>3178.65</td>\n",
              "      <td>5002.27</td>\n",
              "      <td>0.0</td>\n",
              "      <td>552.0</td>\n",
              "      <td>3.0</td>\n",
              "      <td>0.0</td>\n",
              "      <td>14.0</td>\n",
              "      <td>0.0</td>\n",
              "      <td>0.0</td>\n",
              "      <td>0</td>\n",
              "      <td>0.0</td>\n",
              "      <td>1.0</td>\n",
              "      <td>0.0</td>\n",
              "    </tr>\n",
              "    <tr>\n",
              "      <th>3881</th>\n",
              "      <td>202104</td>\n",
              "      <td>828.16</td>\n",
              "      <td>979.16</td>\n",
              "      <td>0.0</td>\n",
              "      <td>691.0</td>\n",
              "      <td>2.0</td>\n",
              "      <td>0.0</td>\n",
              "      <td>5.0</td>\n",
              "      <td>0.0</td>\n",
              "      <td>0.0</td>\n",
              "      <td>0</td>\n",
              "      <td>0.0</td>\n",
              "      <td>1.0</td>\n",
              "      <td>0.0</td>\n",
              "    </tr>\n",
              "  </tbody>\n",
              "</table>\n",
              "<p>7075 rows × 14 columns</p>\n",
              "</div>\n",
              "      <button class=\"colab-df-convert\" onclick=\"convertToInteractive('df-06d6f216-541b-41b0-80a6-6f3385d61653')\"\n",
              "              title=\"Convert this dataframe to an interactive table.\"\n",
              "              style=\"display:none;\">\n",
              "        \n",
              "  <svg xmlns=\"http://www.w3.org/2000/svg\" height=\"24px\"viewBox=\"0 0 24 24\"\n",
              "       width=\"24px\">\n",
              "    <path d=\"M0 0h24v24H0V0z\" fill=\"none\"/>\n",
              "    <path d=\"M18.56 5.44l.94 2.06.94-2.06 2.06-.94-2.06-.94-.94-2.06-.94 2.06-2.06.94zm-11 1L8.5 8.5l.94-2.06 2.06-.94-2.06-.94L8.5 2.5l-.94 2.06-2.06.94zm10 10l.94 2.06.94-2.06 2.06-.94-2.06-.94-.94-2.06-.94 2.06-2.06.94z\"/><path d=\"M17.41 7.96l-1.37-1.37c-.4-.4-.92-.59-1.43-.59-.52 0-1.04.2-1.43.59L10.3 9.45l-7.72 7.72c-.78.78-.78 2.05 0 2.83L4 21.41c.39.39.9.59 1.41.59.51 0 1.02-.2 1.41-.59l7.78-7.78 2.81-2.81c.8-.78.8-2.07 0-2.86zM5.41 20L4 18.59l7.72-7.72 1.47 1.35L5.41 20z\"/>\n",
              "  </svg>\n",
              "      </button>\n",
              "      \n",
              "  <style>\n",
              "    .colab-df-container {\n",
              "      display:flex;\n",
              "      flex-wrap:wrap;\n",
              "      gap: 12px;\n",
              "    }\n",
              "\n",
              "    .colab-df-convert {\n",
              "      background-color: #E8F0FE;\n",
              "      border: none;\n",
              "      border-radius: 50%;\n",
              "      cursor: pointer;\n",
              "      display: none;\n",
              "      fill: #1967D2;\n",
              "      height: 32px;\n",
              "      padding: 0 0 0 0;\n",
              "      width: 32px;\n",
              "    }\n",
              "\n",
              "    .colab-df-convert:hover {\n",
              "      background-color: #E2EBFA;\n",
              "      box-shadow: 0px 1px 2px rgba(60, 64, 67, 0.3), 0px 1px 3px 1px rgba(60, 64, 67, 0.15);\n",
              "      fill: #174EA6;\n",
              "    }\n",
              "\n",
              "    [theme=dark] .colab-df-convert {\n",
              "      background-color: #3B4455;\n",
              "      fill: #D2E3FC;\n",
              "    }\n",
              "\n",
              "    [theme=dark] .colab-df-convert:hover {\n",
              "      background-color: #434B5C;\n",
              "      box-shadow: 0px 1px 3px 1px rgba(0, 0, 0, 0.15);\n",
              "      filter: drop-shadow(0px 1px 2px rgba(0, 0, 0, 0.3));\n",
              "      fill: #FFFFFF;\n",
              "    }\n",
              "  </style>\n",
              "\n",
              "      <script>\n",
              "        const buttonEl =\n",
              "          document.querySelector('#df-06d6f216-541b-41b0-80a6-6f3385d61653 button.colab-df-convert');\n",
              "        buttonEl.style.display =\n",
              "          google.colab.kernel.accessAllowed ? 'block' : 'none';\n",
              "\n",
              "        async function convertToInteractive(key) {\n",
              "          const element = document.querySelector('#df-06d6f216-541b-41b0-80a6-6f3385d61653');\n",
              "          const dataTable =\n",
              "            await google.colab.kernel.invokeFunction('convertToInteractive',\n",
              "                                                     [key], {});\n",
              "          if (!dataTable) return;\n",
              "\n",
              "          const docLinkHtml = 'Like what you see? Visit the ' +\n",
              "            '<a target=\"_blank\" href=https://colab.research.google.com/notebooks/data_table.ipynb>data table notebook</a>'\n",
              "            + ' to learn more about interactive tables.';\n",
              "          element.innerHTML = '';\n",
              "          dataTable['output_type'] = 'display_data';\n",
              "          await google.colab.output.renderOutput(dataTable, element);\n",
              "          const docLink = document.createElement('div');\n",
              "          docLink.innerHTML = docLinkHtml;\n",
              "          element.appendChild(docLink);\n",
              "        }\n",
              "      </script>\n",
              "    </div>\n",
              "  </div>\n",
              "  "
            ],
            "text/plain": [
              "          anomes  vlr_credito  vlr_saldo  num_atend_atrs  vlr_score  \\\n",
              "6629      202104     14473.49    3403.19             0.0      873.0   \n",
              "11654623  202204    256033.01   35334.78             0.0      962.0   \n",
              "6781      202104     39407.38    1578.94             0.0        0.0   \n",
              "6987512   202111     36166.10    7228.19             0.0      653.0   \n",
              "4474      202104     25724.91   23183.99             0.0      327.0   \n",
              "...          ...          ...        ...             ...        ...   \n",
              "7831539   202112     17804.55    1903.55             0.0      433.0   \n",
              "5956909   202110     10060.38    7978.24             0.0      446.0   \n",
              "5860      202104     18733.97    1049.09             0.0      724.0   \n",
              "4968      202104      3178.65    5002.27             0.0      552.0   \n",
              "3881      202104       828.16     979.16             0.0      691.0   \n",
              "\n",
              "          num_produtos  num_atend  qtd_oper  qtd_reclm  qtd_restr  cod_rating  \\\n",
              "6629               1.0        0.0      10.0        0.0        0.0           0   \n",
              "11654623           2.0        0.0      34.0        1.0        0.0           0   \n",
              "6781               1.0        0.0      20.0        0.0        2.0           0   \n",
              "6987512            3.0        0.0      14.0        1.0        0.0           0   \n",
              "4474               2.0        0.0      10.0        0.0        3.0           3   \n",
              "...                ...        ...       ...        ...        ...         ...   \n",
              "7831539            1.0        0.0       9.0        1.0        0.0           0   \n",
              "5956909            3.0        0.0       6.0        0.0        3.0           0   \n",
              "5860               1.0        0.0      14.0        0.0        0.0           0   \n",
              "4968               3.0        0.0      14.0        0.0        0.0           0   \n",
              "3881               2.0        0.0       5.0        0.0        0.0           0   \n",
              "\n",
              "          ind_atrito  ind_engaj  ind_novo_cli  \n",
              "6629             0.0        1.0           0.0  \n",
              "11654623         1.0        1.0           0.0  \n",
              "6781             0.0        0.0           0.0  \n",
              "6987512          1.0        1.0           0.0  \n",
              "4474             0.0        0.0           0.0  \n",
              "...              ...        ...           ...  \n",
              "7831539          1.0        1.0           0.0  \n",
              "5956909          1.0        1.0           0.0  \n",
              "5860             0.0        0.0           0.0  \n",
              "4968             0.0        1.0           0.0  \n",
              "3881             0.0        1.0           0.0  \n",
              "\n",
              "[7075 rows x 14 columns]"
            ]
          },
          "execution_count": 12,
          "metadata": {},
          "output_type": "execute_result"
        }
      ],
      "source": [
        "# Defino um novo DataFrame somente com os clientes atritados \n",
        "new_teste = df[(df.ind_atrito == 1)]\n",
        "length_n_atrito = len(new_teste)\n",
        "\n",
        "# Multiplico o tamanho do DataFrame de clientes atritados por 1.4 para balancear a quantidade de atritados e não atitados\n",
        "length_to_balence = int(length_n_atrito * 1.4) #1.4: valor definido manualmente por testes\n",
        "\n",
        "# Pego um novo DataFrame somente com clientes não atritados, pegando somente a quantidade anteriormente definida\n",
        "new_nao_atrito = df[(df.ind_atrito == 0)].head(length_to_balence)\n",
        "length_atrito = len(new_nao_atrito)\n",
        "\n",
        "# Concateno os dataframes de não atritados e atritados, ficando assim balanceado e não enviesando o modelo\n",
        "frames = [new_teste, new_nao_atrito]\n",
        "df = pd.concat(frames)\n",
        "df = df.sample(frac=1, random_state=26)\n",
        "df"
      ]
    },
    {
      "cell_type": "markdown",
      "metadata": {
        "id": "4Fi5AJHFYH7g"
      },
      "source": [
        "#**Tratamento de dados - parte 2**\n",
        "\n",
        "Abaixo, está ocorrendo a verificação das melhores váriaveis para a construção do modelo."
      ]
    },
    {
      "cell_type": "code",
      "execution_count": null,
      "metadata": {
        "id": "ejns7lPsYX0I"
      },
      "outputs": [],
      "source": [
        "# model = LogisticRegression(max_iter=2000)\n",
        "\n",
        "# x = df.drop(columns = ['ind_atrito', 'ind_engaj', 'ind_novo_cli']).values\n",
        "# y = df[['ind_atrito']].values\n",
        "\n",
        "# rfe = RFE(model, n_features_to_select=9)\n",
        "\n",
        "# fit = rfe.fit(x, y)\n",
        "\n",
        "# print(\"Número de features: {}\".format(fit.n_features_))\n",
        "\n",
        "# cols = fit.get_support(indices=True)\n",
        "# best_cols = df.iloc[:, cols]\n",
        "# df[best_cols.columns]\n",
        "\n",
        "# Verifica as melhores váriaveis do dataframe"
      ]
    },
    {
      "cell_type": "markdown",
      "metadata": {
        "id": "tGZxMtxStcPU"
      },
      "source": [
        "* Agora, com os nulos tratados, confere-se a existência de algum dado no data frame que permaneça nulo, a fim de corrirgir caso o resultado seja diferente de zero. "
      ]
    },
    {
      "cell_type": "code",
      "execution_count": null,
      "metadata": {
        "colab": {
          "base_uri": "https://localhost:8080/"
        },
        "id": "gE9hiokvDYqD",
        "outputId": "289638eb-e1f9-4c80-e665-18e93d058144"
      },
      "outputs": [
        {
          "data": {
            "text/plain": [
              "anomes            0\n",
              "vlr_credito       0\n",
              "vlr_saldo         0\n",
              "num_atend_atrs    0\n",
              "vlr_score         0\n",
              "num_produtos      0\n",
              "num_atend         0\n",
              "qtd_oper          0\n",
              "qtd_reclm         0\n",
              "qtd_restr         0\n",
              "cod_rating        0\n",
              "ind_atrito        0\n",
              "ind_engaj         0\n",
              "ind_novo_cli      0\n",
              "dtype: int64"
            ]
          },
          "execution_count": 14,
          "metadata": {},
          "output_type": "execute_result"
        }
      ],
      "source": [
        "# Conferindo a existência de dados nulos\n",
        "df.isnull().sum()"
      ]
    },
    {
      "cell_type": "markdown",
      "metadata": {
        "id": "qZIU_ivE6fwq"
      },
      "source": [
        "# Normalização e padronização dos dados\n",
        "\n"
      ]
    },
    {
      "cell_type": "markdown",
      "metadata": {
        "id": "3jg5yT_N--LD"
      },
      "source": [
        "A normalização precisa ser feita após a realização da separação de treinamento e teste. Após essa etapa, é preciso realizar a normalização apenas no conjunto de treinamento para que, posteriormente, ela seja aplicada no conjunto de teste. \n",
        "* Fit: Treinamento\n",
        "* Tranformação: treinamento e teste"
      ]
    },
    {
      "cell_type": "markdown",
      "metadata": {
        "id": "jHp06OtL66Kn"
      },
      "source": [
        "### Normalização:\n"
      ]
    },
    {
      "cell_type": "code",
      "execution_count": null,
      "metadata": {
        "id": "wUR7SBoQ7BKC"
      },
      "outputs": [],
      "source": [
        "def drop_outliers(df_to_change, column, percent):\n",
        "    percentage = int(len(df_to_change) * percent)\n",
        "\n",
        "    df_to_change = df_to_change.sort_values(column, ascending = True)\n",
        "    df_to_change = df_to_change.iloc[percentage: ]\n",
        "    df_to_change = df_to_change.sort_values(column, ascending = False)\n",
        "    df_to_change = df_to_change.iloc[percentage: ]\n",
        "    return df_to_change"
      ]
    },
    {
      "cell_type": "code",
      "execution_count": null,
      "metadata": {
        "colab": {
          "base_uri": "https://localhost:8080/",
          "height": 487
        },
        "id": "TrMm8KKH7UD_",
        "outputId": "59cd4576-0e61-43e8-edce-a49a78399a00"
      },
      "outputs": [
        {
          "data": {
            "text/html": [
              "\n",
              "  <div id=\"df-62a314dc-1925-4457-9148-884f46455046\">\n",
              "    <div class=\"colab-df-container\">\n",
              "      <div>\n",
              "<style scoped>\n",
              "    .dataframe tbody tr th:only-of-type {\n",
              "        vertical-align: middle;\n",
              "    }\n",
              "\n",
              "    .dataframe tbody tr th {\n",
              "        vertical-align: top;\n",
              "    }\n",
              "\n",
              "    .dataframe thead th {\n",
              "        text-align: right;\n",
              "    }\n",
              "</style>\n",
              "<table border=\"1\" class=\"dataframe\">\n",
              "  <thead>\n",
              "    <tr style=\"text-align: right;\">\n",
              "      <th></th>\n",
              "      <th>anomes</th>\n",
              "      <th>vlr_credito</th>\n",
              "      <th>vlr_saldo</th>\n",
              "      <th>num_atend_atrs</th>\n",
              "      <th>vlr_score</th>\n",
              "      <th>num_produtos</th>\n",
              "      <th>num_atend</th>\n",
              "      <th>qtd_oper</th>\n",
              "      <th>qtd_reclm</th>\n",
              "      <th>qtd_restr</th>\n",
              "      <th>cod_rating</th>\n",
              "      <th>ind_atrito</th>\n",
              "      <th>ind_engaj</th>\n",
              "      <th>ind_novo_cli</th>\n",
              "    </tr>\n",
              "  </thead>\n",
              "  <tbody>\n",
              "    <tr>\n",
              "      <th>4006</th>\n",
              "      <td>202104</td>\n",
              "      <td>12937.40</td>\n",
              "      <td>4105.22</td>\n",
              "      <td>0.0</td>\n",
              "      <td>0.0</td>\n",
              "      <td>0.0</td>\n",
              "      <td>0.0</td>\n",
              "      <td>15.0</td>\n",
              "      <td>0.0</td>\n",
              "      <td>8.0</td>\n",
              "      <td>9</td>\n",
              "      <td>0.0</td>\n",
              "      <td>0.0</td>\n",
              "      <td>0.0</td>\n",
              "    </tr>\n",
              "    <tr>\n",
              "      <th>2877</th>\n",
              "      <td>202104</td>\n",
              "      <td>15494.38</td>\n",
              "      <td>1141.18</td>\n",
              "      <td>0.0</td>\n",
              "      <td>148.0</td>\n",
              "      <td>1.0</td>\n",
              "      <td>0.0</td>\n",
              "      <td>20.0</td>\n",
              "      <td>0.0</td>\n",
              "      <td>8.0</td>\n",
              "      <td>5</td>\n",
              "      <td>0.0</td>\n",
              "      <td>0.0</td>\n",
              "      <td>0.0</td>\n",
              "    </tr>\n",
              "    <tr>\n",
              "      <th>8202836</th>\n",
              "      <td>202112</td>\n",
              "      <td>120381.48</td>\n",
              "      <td>11423.26</td>\n",
              "      <td>0.0</td>\n",
              "      <td>425.0</td>\n",
              "      <td>1.0</td>\n",
              "      <td>0.0</td>\n",
              "      <td>19.0</td>\n",
              "      <td>0.0</td>\n",
              "      <td>8.0</td>\n",
              "      <td>0</td>\n",
              "      <td>1.0</td>\n",
              "      <td>0.0</td>\n",
              "      <td>0.0</td>\n",
              "    </tr>\n",
              "    <tr>\n",
              "      <th>7804</th>\n",
              "      <td>202104</td>\n",
              "      <td>102171.41</td>\n",
              "      <td>2552.06</td>\n",
              "      <td>0.0</td>\n",
              "      <td>220.0</td>\n",
              "      <td>3.0</td>\n",
              "      <td>0.0</td>\n",
              "      <td>12.0</td>\n",
              "      <td>0.0</td>\n",
              "      <td>8.0</td>\n",
              "      <td>0</td>\n",
              "      <td>0.0</td>\n",
              "      <td>0.0</td>\n",
              "      <td>0.0</td>\n",
              "    </tr>\n",
              "    <tr>\n",
              "      <th>5768</th>\n",
              "      <td>202104</td>\n",
              "      <td>8726.60</td>\n",
              "      <td>2190.80</td>\n",
              "      <td>0.0</td>\n",
              "      <td>293.0</td>\n",
              "      <td>2.0</td>\n",
              "      <td>0.0</td>\n",
              "      <td>11.0</td>\n",
              "      <td>0.0</td>\n",
              "      <td>8.0</td>\n",
              "      <td>0</td>\n",
              "      <td>0.0</td>\n",
              "      <td>1.0</td>\n",
              "      <td>0.0</td>\n",
              "    </tr>\n",
              "    <tr>\n",
              "      <th>...</th>\n",
              "      <td>...</td>\n",
              "      <td>...</td>\n",
              "      <td>...</td>\n",
              "      <td>...</td>\n",
              "      <td>...</td>\n",
              "      <td>...</td>\n",
              "      <td>...</td>\n",
              "      <td>...</td>\n",
              "      <td>...</td>\n",
              "      <td>...</td>\n",
              "      <td>...</td>\n",
              "      <td>...</td>\n",
              "      <td>...</td>\n",
              "      <td>...</td>\n",
              "    </tr>\n",
              "    <tr>\n",
              "      <th>5347</th>\n",
              "      <td>202104</td>\n",
              "      <td>36976.21</td>\n",
              "      <td>3132.96</td>\n",
              "      <td>0.0</td>\n",
              "      <td>374.0</td>\n",
              "      <td>1.0</td>\n",
              "      <td>0.0</td>\n",
              "      <td>25.0</td>\n",
              "      <td>0.0</td>\n",
              "      <td>0.0</td>\n",
              "      <td>0</td>\n",
              "      <td>0.0</td>\n",
              "      <td>1.0</td>\n",
              "      <td>0.0</td>\n",
              "    </tr>\n",
              "    <tr>\n",
              "      <th>3583</th>\n",
              "      <td>202104</td>\n",
              "      <td>102192.50</td>\n",
              "      <td>500.00</td>\n",
              "      <td>0.0</td>\n",
              "      <td>0.0</td>\n",
              "      <td>1.0</td>\n",
              "      <td>0.0</td>\n",
              "      <td>13.0</td>\n",
              "      <td>0.0</td>\n",
              "      <td>0.0</td>\n",
              "      <td>0</td>\n",
              "      <td>0.0</td>\n",
              "      <td>0.0</td>\n",
              "      <td>0.0</td>\n",
              "    </tr>\n",
              "    <tr>\n",
              "      <th>7438</th>\n",
              "      <td>202104</td>\n",
              "      <td>93423.19</td>\n",
              "      <td>5875.70</td>\n",
              "      <td>0.0</td>\n",
              "      <td>552.0</td>\n",
              "      <td>1.0</td>\n",
              "      <td>0.0</td>\n",
              "      <td>33.0</td>\n",
              "      <td>0.0</td>\n",
              "      <td>0.0</td>\n",
              "      <td>0</td>\n",
              "      <td>0.0</td>\n",
              "      <td>1.0</td>\n",
              "      <td>0.0</td>\n",
              "    </tr>\n",
              "    <tr>\n",
              "      <th>6113</th>\n",
              "      <td>202104</td>\n",
              "      <td>12121.71</td>\n",
              "      <td>9430.13</td>\n",
              "      <td>0.0</td>\n",
              "      <td>611.0</td>\n",
              "      <td>2.0</td>\n",
              "      <td>0.0</td>\n",
              "      <td>13.0</td>\n",
              "      <td>0.0</td>\n",
              "      <td>0.0</td>\n",
              "      <td>0</td>\n",
              "      <td>0.0</td>\n",
              "      <td>0.0</td>\n",
              "      <td>0.0</td>\n",
              "    </tr>\n",
              "    <tr>\n",
              "      <th>7208</th>\n",
              "      <td>202104</td>\n",
              "      <td>2869.70</td>\n",
              "      <td>1317.85</td>\n",
              "      <td>0.0</td>\n",
              "      <td>655.0</td>\n",
              "      <td>1.0</td>\n",
              "      <td>0.0</td>\n",
              "      <td>2.0</td>\n",
              "      <td>0.0</td>\n",
              "      <td>0.0</td>\n",
              "      <td>0</td>\n",
              "      <td>0.0</td>\n",
              "      <td>0.0</td>\n",
              "      <td>0.0</td>\n",
              "    </tr>\n",
              "  </tbody>\n",
              "</table>\n",
              "<p>4701 rows × 14 columns</p>\n",
              "</div>\n",
              "      <button class=\"colab-df-convert\" onclick=\"convertToInteractive('df-62a314dc-1925-4457-9148-884f46455046')\"\n",
              "              title=\"Convert this dataframe to an interactive table.\"\n",
              "              style=\"display:none;\">\n",
              "        \n",
              "  <svg xmlns=\"http://www.w3.org/2000/svg\" height=\"24px\"viewBox=\"0 0 24 24\"\n",
              "       width=\"24px\">\n",
              "    <path d=\"M0 0h24v24H0V0z\" fill=\"none\"/>\n",
              "    <path d=\"M18.56 5.44l.94 2.06.94-2.06 2.06-.94-2.06-.94-.94-2.06-.94 2.06-2.06.94zm-11 1L8.5 8.5l.94-2.06 2.06-.94-2.06-.94L8.5 2.5l-.94 2.06-2.06.94zm10 10l.94 2.06.94-2.06 2.06-.94-2.06-.94-.94-2.06-.94 2.06-2.06.94z\"/><path d=\"M17.41 7.96l-1.37-1.37c-.4-.4-.92-.59-1.43-.59-.52 0-1.04.2-1.43.59L10.3 9.45l-7.72 7.72c-.78.78-.78 2.05 0 2.83L4 21.41c.39.39.9.59 1.41.59.51 0 1.02-.2 1.41-.59l7.78-7.78 2.81-2.81c.8-.78.8-2.07 0-2.86zM5.41 20L4 18.59l7.72-7.72 1.47 1.35L5.41 20z\"/>\n",
              "  </svg>\n",
              "      </button>\n",
              "      \n",
              "  <style>\n",
              "    .colab-df-container {\n",
              "      display:flex;\n",
              "      flex-wrap:wrap;\n",
              "      gap: 12px;\n",
              "    }\n",
              "\n",
              "    .colab-df-convert {\n",
              "      background-color: #E8F0FE;\n",
              "      border: none;\n",
              "      border-radius: 50%;\n",
              "      cursor: pointer;\n",
              "      display: none;\n",
              "      fill: #1967D2;\n",
              "      height: 32px;\n",
              "      padding: 0 0 0 0;\n",
              "      width: 32px;\n",
              "    }\n",
              "\n",
              "    .colab-df-convert:hover {\n",
              "      background-color: #E2EBFA;\n",
              "      box-shadow: 0px 1px 2px rgba(60, 64, 67, 0.3), 0px 1px 3px 1px rgba(60, 64, 67, 0.15);\n",
              "      fill: #174EA6;\n",
              "    }\n",
              "\n",
              "    [theme=dark] .colab-df-convert {\n",
              "      background-color: #3B4455;\n",
              "      fill: #D2E3FC;\n",
              "    }\n",
              "\n",
              "    [theme=dark] .colab-df-convert:hover {\n",
              "      background-color: #434B5C;\n",
              "      box-shadow: 0px 1px 3px 1px rgba(0, 0, 0, 0.15);\n",
              "      filter: drop-shadow(0px 1px 2px rgba(0, 0, 0, 0.3));\n",
              "      fill: #FFFFFF;\n",
              "    }\n",
              "  </style>\n",
              "\n",
              "      <script>\n",
              "        const buttonEl =\n",
              "          document.querySelector('#df-62a314dc-1925-4457-9148-884f46455046 button.colab-df-convert');\n",
              "        buttonEl.style.display =\n",
              "          google.colab.kernel.accessAllowed ? 'block' : 'none';\n",
              "\n",
              "        async function convertToInteractive(key) {\n",
              "          const element = document.querySelector('#df-62a314dc-1925-4457-9148-884f46455046');\n",
              "          const dataTable =\n",
              "            await google.colab.kernel.invokeFunction('convertToInteractive',\n",
              "                                                     [key], {});\n",
              "          if (!dataTable) return;\n",
              "\n",
              "          const docLinkHtml = 'Like what you see? Visit the ' +\n",
              "            '<a target=\"_blank\" href=https://colab.research.google.com/notebooks/data_table.ipynb>data table notebook</a>'\n",
              "            + ' to learn more about interactive tables.';\n",
              "          element.innerHTML = '';\n",
              "          dataTable['output_type'] = 'display_data';\n",
              "          await google.colab.output.renderOutput(dataTable, element);\n",
              "          const docLink = document.createElement('div');\n",
              "          docLink.innerHTML = docLinkHtml;\n",
              "          element.appendChild(docLink);\n",
              "        }\n",
              "      </script>\n",
              "    </div>\n",
              "  </div>\n",
              "  "
            ],
            "text/plain": [
              "         anomes  vlr_credito  vlr_saldo  num_atend_atrs  vlr_score  \\\n",
              "4006     202104     12937.40    4105.22             0.0        0.0   \n",
              "2877     202104     15494.38    1141.18             0.0      148.0   \n",
              "8202836  202112    120381.48   11423.26             0.0      425.0   \n",
              "7804     202104    102171.41    2552.06             0.0      220.0   \n",
              "5768     202104      8726.60    2190.80             0.0      293.0   \n",
              "...         ...          ...        ...             ...        ...   \n",
              "5347     202104     36976.21    3132.96             0.0      374.0   \n",
              "3583     202104    102192.50     500.00             0.0        0.0   \n",
              "7438     202104     93423.19    5875.70             0.0      552.0   \n",
              "6113     202104     12121.71    9430.13             0.0      611.0   \n",
              "7208     202104      2869.70    1317.85             0.0      655.0   \n",
              "\n",
              "         num_produtos  num_atend  qtd_oper  qtd_reclm  qtd_restr  cod_rating  \\\n",
              "4006              0.0        0.0      15.0        0.0        8.0           9   \n",
              "2877              1.0        0.0      20.0        0.0        8.0           5   \n",
              "8202836           1.0        0.0      19.0        0.0        8.0           0   \n",
              "7804              3.0        0.0      12.0        0.0        8.0           0   \n",
              "5768              2.0        0.0      11.0        0.0        8.0           0   \n",
              "...               ...        ...       ...        ...        ...         ...   \n",
              "5347              1.0        0.0      25.0        0.0        0.0           0   \n",
              "3583              1.0        0.0      13.0        0.0        0.0           0   \n",
              "7438              1.0        0.0      33.0        0.0        0.0           0   \n",
              "6113              2.0        0.0      13.0        0.0        0.0           0   \n",
              "7208              1.0        0.0       2.0        0.0        0.0           0   \n",
              "\n",
              "         ind_atrito  ind_engaj  ind_novo_cli  \n",
              "4006            0.0        0.0           0.0  \n",
              "2877            0.0        0.0           0.0  \n",
              "8202836         1.0        0.0           0.0  \n",
              "7804            0.0        0.0           0.0  \n",
              "5768            0.0        1.0           0.0  \n",
              "...             ...        ...           ...  \n",
              "5347            0.0        1.0           0.0  \n",
              "3583            0.0        0.0           0.0  \n",
              "7438            0.0        1.0           0.0  \n",
              "6113            0.0        0.0           0.0  \n",
              "7208            0.0        0.0           0.0  \n",
              "\n",
              "[4701 rows x 14 columns]"
            ]
          },
          "execution_count": 16,
          "metadata": {},
          "output_type": "execute_result"
        }
      ],
      "source": [
        "teste = df\n",
        "\n",
        "df = drop_outliers(df, 'vlr_saldo', 0.025)\n",
        "df = drop_outliers(df, 'vlr_credito', 0.025)\n",
        "df = drop_outliers(df, 'num_atend_atrs', 0.025)\n",
        "df = drop_outliers(df, 'num_produtos', 0.025)\n",
        "df = drop_outliers(df, 'num_atend', 0.025)\n",
        "df = drop_outliers(df, 'qtd_oper', 0.025)\n",
        "df = drop_outliers(df, 'qtd_reclm', 0.025)\n",
        "df = drop_outliers(df, 'qtd_restr', 0.025)\n",
        "\n",
        "df"
      ]
    },
    {
      "cell_type": "markdown",
      "metadata": {
        "id": "SKZjlvSksSXl"
      },
      "source": [
        "## **Normalização de valores da tabela**\n",
        "Nos campos seguintes é possível visualizar a normalização vetorial dos valores das colunas 'vlr_credito' e 'vlr_saldo'.\n",
        "Isso se dá pelo fato de que valores de credito e saldo são, geralmente, redundantes e, para melhor processamento e desempenho do sistema, é adotado o processo de normalização, a partir do cálculo da média e da classificação desses pelos seus respectivos desvios padrões."
      ]
    },
    {
      "cell_type": "code",
      "execution_count": null,
      "metadata": {
        "id": "cbn1wWZX7Y8Y"
      },
      "outputs": [],
      "source": [
        "from sklearn.preprocessing import MinMaxScaler\n",
        "\n",
        "# Criando o objeto que será utilizado para converter os valores\n",
        "scaler = MinMaxScaler()\n",
        "\n",
        "# Seleciona os dados a serem normalizados pelo dataframe principal\n",
        "dados_pendentes = df[['vlr_credito', 'vlr_saldo']]\n",
        "\n",
        "# Dados formatados ( normalizados ), resgatados do método de transformação do MinMaxScaler\n",
        "scaler_data = scaler.fit_transform(dados_pendentes)"
      ]
    },
    {
      "cell_type": "code",
      "execution_count": null,
      "metadata": {
        "colab": {
          "base_uri": "https://localhost:8080/",
          "height": 206
        },
        "id": "7_pLkwq57dB_",
        "outputId": "5d1c2475-e250-484d-e5ff-380aa30e741f"
      },
      "outputs": [
        {
          "data": {
            "text/html": [
              "\n",
              "  <div id=\"df-311d8031-ae0d-4b5a-9769-d39881581735\">\n",
              "    <div class=\"colab-df-container\">\n",
              "      <div>\n",
              "<style scoped>\n",
              "    .dataframe tbody tr th:only-of-type {\n",
              "        vertical-align: middle;\n",
              "    }\n",
              "\n",
              "    .dataframe tbody tr th {\n",
              "        vertical-align: top;\n",
              "    }\n",
              "\n",
              "    .dataframe thead th {\n",
              "        text-align: right;\n",
              "    }\n",
              "</style>\n",
              "<table border=\"1\" class=\"dataframe\">\n",
              "  <thead>\n",
              "    <tr style=\"text-align: right;\">\n",
              "      <th></th>\n",
              "      <th>vlr_credito</th>\n",
              "      <th>vlr_saldo</th>\n",
              "    </tr>\n",
              "  </thead>\n",
              "  <tbody>\n",
              "    <tr>\n",
              "      <th>0</th>\n",
              "      <td>0.064596</td>\n",
              "      <td>0.099410</td>\n",
              "    </tr>\n",
              "    <tr>\n",
              "      <th>1</th>\n",
              "      <td>0.077363</td>\n",
              "      <td>0.024667</td>\n",
              "    </tr>\n",
              "    <tr>\n",
              "      <th>2</th>\n",
              "      <td>0.601065</td>\n",
              "      <td>0.283947</td>\n",
              "    </tr>\n",
              "    <tr>\n",
              "      <th>3</th>\n",
              "      <td>0.510142</td>\n",
              "      <td>0.060244</td>\n",
              "    </tr>\n",
              "    <tr>\n",
              "      <th>4</th>\n",
              "      <td>0.043572</td>\n",
              "      <td>0.051135</td>\n",
              "    </tr>\n",
              "  </tbody>\n",
              "</table>\n",
              "</div>\n",
              "      <button class=\"colab-df-convert\" onclick=\"convertToInteractive('df-311d8031-ae0d-4b5a-9769-d39881581735')\"\n",
              "              title=\"Convert this dataframe to an interactive table.\"\n",
              "              style=\"display:none;\">\n",
              "        \n",
              "  <svg xmlns=\"http://www.w3.org/2000/svg\" height=\"24px\"viewBox=\"0 0 24 24\"\n",
              "       width=\"24px\">\n",
              "    <path d=\"M0 0h24v24H0V0z\" fill=\"none\"/>\n",
              "    <path d=\"M18.56 5.44l.94 2.06.94-2.06 2.06-.94-2.06-.94-.94-2.06-.94 2.06-2.06.94zm-11 1L8.5 8.5l.94-2.06 2.06-.94-2.06-.94L8.5 2.5l-.94 2.06-2.06.94zm10 10l.94 2.06.94-2.06 2.06-.94-2.06-.94-.94-2.06-.94 2.06-2.06.94z\"/><path d=\"M17.41 7.96l-1.37-1.37c-.4-.4-.92-.59-1.43-.59-.52 0-1.04.2-1.43.59L10.3 9.45l-7.72 7.72c-.78.78-.78 2.05 0 2.83L4 21.41c.39.39.9.59 1.41.59.51 0 1.02-.2 1.41-.59l7.78-7.78 2.81-2.81c.8-.78.8-2.07 0-2.86zM5.41 20L4 18.59l7.72-7.72 1.47 1.35L5.41 20z\"/>\n",
              "  </svg>\n",
              "      </button>\n",
              "      \n",
              "  <style>\n",
              "    .colab-df-container {\n",
              "      display:flex;\n",
              "      flex-wrap:wrap;\n",
              "      gap: 12px;\n",
              "    }\n",
              "\n",
              "    .colab-df-convert {\n",
              "      background-color: #E8F0FE;\n",
              "      border: none;\n",
              "      border-radius: 50%;\n",
              "      cursor: pointer;\n",
              "      display: none;\n",
              "      fill: #1967D2;\n",
              "      height: 32px;\n",
              "      padding: 0 0 0 0;\n",
              "      width: 32px;\n",
              "    }\n",
              "\n",
              "    .colab-df-convert:hover {\n",
              "      background-color: #E2EBFA;\n",
              "      box-shadow: 0px 1px 2px rgba(60, 64, 67, 0.3), 0px 1px 3px 1px rgba(60, 64, 67, 0.15);\n",
              "      fill: #174EA6;\n",
              "    }\n",
              "\n",
              "    [theme=dark] .colab-df-convert {\n",
              "      background-color: #3B4455;\n",
              "      fill: #D2E3FC;\n",
              "    }\n",
              "\n",
              "    [theme=dark] .colab-df-convert:hover {\n",
              "      background-color: #434B5C;\n",
              "      box-shadow: 0px 1px 3px 1px rgba(0, 0, 0, 0.15);\n",
              "      filter: drop-shadow(0px 1px 2px rgba(0, 0, 0, 0.3));\n",
              "      fill: #FFFFFF;\n",
              "    }\n",
              "  </style>\n",
              "\n",
              "      <script>\n",
              "        const buttonEl =\n",
              "          document.querySelector('#df-311d8031-ae0d-4b5a-9769-d39881581735 button.colab-df-convert');\n",
              "        buttonEl.style.display =\n",
              "          google.colab.kernel.accessAllowed ? 'block' : 'none';\n",
              "\n",
              "        async function convertToInteractive(key) {\n",
              "          const element = document.querySelector('#df-311d8031-ae0d-4b5a-9769-d39881581735');\n",
              "          const dataTable =\n",
              "            await google.colab.kernel.invokeFunction('convertToInteractive',\n",
              "                                                     [key], {});\n",
              "          if (!dataTable) return;\n",
              "\n",
              "          const docLinkHtml = 'Like what you see? Visit the ' +\n",
              "            '<a target=\"_blank\" href=https://colab.research.google.com/notebooks/data_table.ipynb>data table notebook</a>'\n",
              "            + ' to learn more about interactive tables.';\n",
              "          element.innerHTML = '';\n",
              "          dataTable['output_type'] = 'display_data';\n",
              "          await google.colab.output.renderOutput(dataTable, element);\n",
              "          const docLink = document.createElement('div');\n",
              "          docLink.innerHTML = docLinkHtml;\n",
              "          element.appendChild(docLink);\n",
              "        }\n",
              "      </script>\n",
              "    </div>\n",
              "  </div>\n",
              "  "
            ],
            "text/plain": [
              "   vlr_credito  vlr_saldo\n",
              "0     0.064596   0.099410\n",
              "1     0.077363   0.024667\n",
              "2     0.601065   0.283947\n",
              "3     0.510142   0.060244\n",
              "4     0.043572   0.051135"
            ]
          },
          "execution_count": 18,
          "metadata": {},
          "output_type": "execute_result"
        }
      ],
      "source": [
        "# Criamos o dataframe para utilização dos dados normalizados, utilizando como base, as colunas dos dados anteriores a serem formatados.\n",
        "numeric_df_scaled = pd.DataFrame(scaler_data, columns = dados_pendentes.columns)\n",
        "\n",
        "numeric_df_scaled.head()"
      ]
    },
    {
      "cell_type": "markdown",
      "metadata": {
        "id": "_P3m2q8F4ay9"
      },
      "source": [
        "#**Criação e testagem de diferentes modelos:**"
      ]
    },
    {
      "cell_type": "markdown",
      "metadata": {
        "id": "NF_wB24U7Ggg"
      },
      "source": [
        "- Importação das bibliotecas de avaliação de modelos"
      ]
    },
    {
      "cell_type": "code",
      "execution_count": null,
      "metadata": {
        "id": "w_uTpziP2aPM"
      },
      "outputs": [],
      "source": [
        "from sklearn.tree import plot_tree\n",
        "from sklearn.metrics import plot_confusion_matrix\n",
        "import matplotlib.pyplot as plt"
      ]
    },
    {
      "cell_type": "markdown",
      "metadata": {
        "id": "e9b5UKklVwRf"
      },
      "source": [
        "* Abaixo, tem-se a separação dos dados para o eficiente funcionamento do modelo. Nessa etapa, dividi-se os dados em dois grupos diferentes: um para o teste do modelo e outro para o seu treinamento. \n"
      ]
    },
    {
      "cell_type": "markdown",
      "metadata": {
        "id": "vg66MFqkGo_N"
      },
      "source": [
        "### Train-Test Split"
      ]
    },
    {
      "cell_type": "markdown",
      "metadata": {
        "id": "0R3mdJaq8mh-"
      },
      "source": [
        "Separação das variáveis de treino e teste"
      ]
    },
    {
      "cell_type": "code",
      "execution_count": null,
      "metadata": {
        "id": "VtcbzwC-8s4I"
      },
      "outputs": [],
      "source": [
        "# Dividindo x e y\n",
        "x = df.drop(columns = ['ind_atrito', 'ind_engaj', 'ind_novo_cli']).values\n",
        "y = df[['ind_atrito']].values\n",
        "\n",
        "# Dividindo dados para treino e dados para teste\n",
        "x_train, x_test, y_train, y_test = train_test_split(x, y, \n",
        "                                                    test_size = 0.25, \n",
        "                                                    random_state = 42)"
      ]
    },
    {
      "cell_type": "markdown",
      "metadata": {
        "id": "xNHvA2y6W782"
      },
      "source": [
        "**Métricas utilizadas para avaliação dos modelos**:\n",
        "\n",
        "*   Acurácia: usada para o descobrimento da proximidade entre o valor obtido experimentalmente e o valor verdadeiro.\n",
        "\n",
        "*   Precisão: constitui o grau de variação gerado por diferentes medições, quanto mais preciso for um processo, menor será a variação entre os valores obtidos.\n",
        "\n",
        "*   Revocação: nesse modelo, deseja-se o mínimo de falsos negativos possível (modelo predizer que o cliente não é atritado, mas ele ter atrito com o banco), e, por isso, usa-se a revocação como métrica de diferenciação entre os modelos.\n",
        " \n"
      ]
    },
    {
      "cell_type": "markdown",
      "metadata": {
        "id": "JT-KjbKZ4p2t"
      },
      "source": [
        "### KNN (K-Nearest Neighbor)"
      ]
    },
    {
      "cell_type": "code",
      "execution_count": null,
      "metadata": {
        "colab": {
          "base_uri": "https://localhost:8080/"
        },
        "id": "OLtWUcNE6T2H",
        "outputId": "76b90437-ef6c-4b38-ad5d-6d08f818e5cc"
      },
      "outputs": [
        {
          "name": "stdout",
          "output_type": "stream",
          "text": [
            "Acurácia: 0.5909863945578231\n",
            "Precisão 0.47393364928909953\n",
            "Recall: 0.4357298474945534\n"
          ]
        }
      ],
      "source": [
        "# Treinando o modelo\n",
        "\n",
        "modelKNN = KNeighborsClassifier(n_neighbors=1)\n",
        "\n",
        "modelKNN.fit(x_train, y_train)\n",
        "\n",
        "# Realizando as predições\n",
        "\n",
        "y_pred = modelKNN.predict(x_test)\n",
        "\n",
        "# Calculando quanto é a porcentagem de acerto do modelo\n",
        "print(\"Acurácia:\",metrics.accuracy_score(y_test, y_pred))\n",
        "\n",
        "print(\"Precisão\",metrics.precision_score(y_test, y_pred))\n",
        "\n",
        "print(\"Revocação:\",metrics.recall_score(y_test, y_pred))"
      ]
    },
    {
      "cell_type": "code",
      "execution_count": null,
      "metadata": {
        "colab": {
          "base_uri": "https://localhost:8080/",
          "height": 297
        },
        "id": "YCaKg4mh_a4d",
        "outputId": "9f91a343-7c88-44ec-a26a-9f32820c8b05"
      },
      "outputs": [
        {
          "data": {
            "text/plain": [
              "<sklearn.metrics._plot.confusion_matrix.ConfusionMatrixDisplay at 0x7fa7113a7950>"
            ]
          },
          "execution_count": 27,
          "metadata": {},
          "output_type": "execute_result"
        },
        {
          "data": {
            "image/png": "[encoded data removed]",
            "text/plain": [
              "<Figure size 432x288 with 2 Axes>"
            ]
          },
          "metadata": {},
          "output_type": "display_data"
        }
      ],
      "source": [
        "# Matriz de confusão para o modelo KNN\n",
        "\n",
        "plot_confusion_matrix(modelKNN, x_test, y_test, cmap='Blues', values_format='.0f')"
      ]
    },
    {
      "cell_type": "markdown",
      "metadata": {
        "id": "cVKy0HV_wWEq"
      },
      "source": [
        "* Analisando o resultado, percebe-se que o modelo k-nearest neighbors apresenta baixo desempenho, tendo uma acurácia de aproximadamente 0,60. Portanto, ele foi descartado como modelo principal."
      ]
    },
    {
      "cell_type": "markdown",
      "metadata": {
        "id": "SrNm-95g4ugs"
      },
      "source": [
        "### SVM (Support-Vector Machine)"
      ]
    },
    {
      "cell_type": "code",
      "execution_count": null,
      "metadata": {
        "id": "hoYxYyQ4CLP9"
      },
      "outputs": [],
      "source": [
        "# --> TRAIN TEST SPLIT\n",
        "import seaborn as sns\n",
        "import matplotlib.pyplot as plt\n",
        "from sklearn.model_selection import train_test_split\n",
        "\n",
        "#Divisão de x e y\n",
        "x = df.drop(columns =['ind_atrito', 'ind_engaj', 'ind_novo_cli']).values\n",
        "y = df[['ind_atrito']].values\n",
        "\n",
        "#Dados para treino e teste\n",
        "x_train, x_test, y_train, y_test = train_test_split (x,y, test_size = 0.33, random_state = 42)\n",
        "\n",
        "# --> SUPPORT VECTOR MACHINES\n",
        "#Importando a biblioteca necessária\n",
        "from sklearn import svm\n",
        "from sklearn.svm import SVC\n",
        "\n",
        "clf = svm.SVC()\n",
        "modelSvm = clf.fit(x_train, y_train)"
      ]
    },
    {
      "cell_type": "code",
      "execution_count": null,
      "metadata": {
        "id": "C-aLQjwECU8a"
      },
      "outputs": [],
      "source": [
        "y_pred = clf.predict(x_test)"
      ]
    },
    {
      "cell_type": "code",
      "execution_count": null,
      "metadata": {
        "colab": {
          "base_uri": "https://localhost:8080/"
        },
        "id": "ZFZSHd48CY7h",
        "outputId": "e62378f7-f340-47fb-a772-05b464982ce9"
      },
      "outputs": [
        {
          "name": "stdout",
          "output_type": "stream",
          "text": [
            "Acurácia: 0.6030927835051546\n",
            "Precisão: 0.6\n",
            "Recall: 0.01935483870967742\n"
          ]
        }
      ],
      "source": [
        "# Importando a biblioteca necessária para calcular as métricas\n",
        "from sklearn import metrics\n",
        "\n",
        "# Acurácia - Com que frequência o classificador está correto?\n",
        "print(\"Acurácia:\",metrics.accuracy_score(y_test, y_pred))\n",
        "\n",
        "# Precisão - Das classificações positivas do modelo, quantas foram acertadas.\n",
        "print(\"Precisão:\",metrics.precision_score(y_test, y_pred))\n",
        "\n",
        "# Revocação - Das amostras positivas existentes, quantas o modelo conseguiu classificar corretamente.\n",
        "print(\"Revocação:\",metrics.recall_score(y_test, y_pred))"
      ]
    },
    {
      "cell_type": "code",
      "execution_count": null,
      "metadata": {
        "colab": {
          "base_uri": "https://localhost:8080/",
          "height": 297
        },
        "id": "0RO-aNfFDPxN",
        "outputId": "9cf0cefd-e280-4618-c049-1e6429d76018"
      },
      "outputs": [
        {
          "data": {
            "text/plain": [
              "<sklearn.metrics._plot.confusion_matrix.ConfusionMatrixDisplay at 0x7fa710ae6c50>"
            ]
          },
          "execution_count": 31,
          "metadata": {},
          "output_type": "execute_result"
        },
        {
          "data": {
            "image/png": "[encoded data removed]",
            "text/plain": [
              "<Figure size 432x288 with 2 Axes>"
            ]
          },
          "metadata": {},
          "output_type": "display_data"
        }
      ],
      "source": [
        "# MATRIZ DE CONFUSÃO\n",
        "\n",
        "from sklearn.tree import plot_tree\n",
        "from sklearn.metrics import plot_confusion_matrix\n",
        "import matplotlib.pyplot as plt\n",
        "\n",
        "plot_confusion_matrix(modelSvm, x_test, y_test, cmap='Blues', values_format='.0f')"
      ]
    },
    {
      "cell_type": "markdown",
      "metadata": {
        "id": "kZkwJNUXwyQC"
      },
      "source": [
        "* O modelo Support Vector Machine também foi descartado porque, além  de ter tido uma acurácia baixa (0.54), seu revocação e precisão foram de 0.0."
      ]
    },
    {
      "cell_type": "markdown",
      "metadata": {
        "id": "H4BPAVxR4ymb"
      },
      "source": [
        "### **Random Forest**"
      ]
    },
    {
      "cell_type": "markdown",
      "metadata": {
        "id": "HRDl73tOlaP3"
      },
      "source": [
        "No modelo Random Forest, a acurácia foi utilizada como métrica de avaliação. Para atingir o maior número, foram escolhas as profundidades máximas da árvore (max_depth) como sendo 2, 10, 15, 20, 25, 30, 40 e 50. Antes dos 20, todos ficaram com 0.693, a partir do 20, todos ficaram com uma acurácia de aproximadamente 0.98, por isso, usei como max_depth o valor 20!"
      ]
    },
    {
      "cell_type": "code",
      "execution_count": null,
      "metadata": {
        "colab": {
          "base_uri": "https://localhost:8080/"
        },
        "id": "xt85Jm0-EBAu",
        "outputId": "453a4837-0f0f-42f9-9be5-6a99c970f6f4"
      },
      "outputs": [
        {
          "name": "stdout",
          "output_type": "stream",
          "text": [
            "Acurácia: 0.9890463917525774\n",
            "Precisão 1.0\n",
            "Recall: 0.9725806451612903\n"
          ]
        }
      ],
      "source": [
        "from sklearn.ensemble import RandomForestClassifier\n",
        "from sklearn.datasets import make_classification\n",
        "#declaro o nome do meu modelo, e declaro a profundade máxima em 20, já que entre 1 < 20 a acurácia é menor\n",
        "# e entre 20> não há um aumento significante para a acurácia (valores testados: 2, 10, 15, 20, 25, 30, 40, 50)\n",
        "clf = RandomForestClassifier(max_depth=20, random_state=0)\n",
        "#treino meu modelo\n",
        "clf.fit(x_train, y_train)\n",
        "#ele prediz o x teste\n",
        "y_pred = clf.predict(x_test)\n",
        "#analiso a acurácia entre o teste e o que ele prediz\n",
        "print(\"Acurácia:\",metrics.accuracy_score(y_test, y_pred))\n",
        "\n",
        "print(\"Precisão\",metrics.precision_score(y_test, y_pred))\n",
        "\n",
        "print(\"Revocação:\",metrics.recall_score(y_test, y_pred))"
      ]
    },
    {
      "cell_type": "code",
      "execution_count": null,
      "metadata": {
        "colab": {
          "base_uri": "https://localhost:8080/",
          "height": 297
        },
        "id": "nLmQFPOyFZcH",
        "outputId": "378c9421-84e8-4045-ffed-ce594d35c4f5"
      },
      "outputs": [
        {
          "data": {
            "text/plain": [
              "<sklearn.metrics._plot.confusion_matrix.ConfusionMatrixDisplay at 0x7fa71023e050>"
            ]
          },
          "execution_count": 33,
          "metadata": {},
          "output_type": "execute_result"
        },
        {
          "data": {
            "image/png": "[encoded data removed]",
            "text/plain": [
              "<Figure size 432x288 with 2 Axes>"
            ]
          },
          "metadata": {},
          "output_type": "display_data"
        }
      ],
      "source": [
        "plot_confusion_matrix(clf, x_test, y_test, cmap='Blues', values_format='.0f')"
      ]
    },
    {
      "cell_type": "markdown",
      "metadata": {
        "id": "dVDN-w5wxreL"
      },
      "source": [
        "O modelo do random forest acertou muito bem, tendo uma acurácia de 0.98 e um recall de 0.96, foi uma das melhores performances de modelos, porém por não ser a melhor, descartamos essa opção também."
      ]
    },
    {
      "cell_type": "markdown",
      "metadata": {
        "id": "QC39scUY8glN"
      },
      "source": [
        "## Regressão Logística"
      ]
    },
    {
      "cell_type": "code",
      "execution_count": null,
      "metadata": {
        "colab": {
          "base_uri": "https://localhost:8080/"
        },
        "id": "7f2knLu28k8K",
        "outputId": "e10b49ca-b034-4643-8374-a9645aba518d"
      },
      "outputs": [
        {
          "name": "stdout",
          "output_type": "stream",
          "text": [
            "Acurácia: 0.6275773195876289\n",
            "Precisão 0.6363636363636364\n",
            "Recall: 0.15806451612903225\n"
          ]
        }
      ],
      "source": [
        "# Treinando o modelo\n",
        "modelLog = LogisticRegression(max_iter=2000).fit(x_train, y_train)\n",
        "\n",
        "# Fazendo as predições\n",
        "y_pred = modelLog.predict(x_test)\n",
        "\n",
        "\n",
        "# Calculando quanto é a porcentagem de acerto do modelo\n",
        "print(\"Acurácia:\",metrics.accuracy_score(y_test, y_pred))\n",
        "\n",
        "print(\"Precisão\",metrics.precision_score(y_test, y_pred))\n",
        "\n",
        "print(\"Recall:\",metrics.recall_score(y_test, y_pred))"
      ]
    },
    {
      "cell_type": "code",
      "execution_count": null,
      "metadata": {
        "colab": {
          "base_uri": "https://localhost:8080/",
          "height": 297
        },
        "id": "f7UX0kJi_dZX",
        "outputId": "efbde83c-a307-415e-cfd4-f15925fa1a44"
      },
      "outputs": [
        {
          "data": {
            "text/plain": [
              "<sklearn.metrics._plot.confusion_matrix.ConfusionMatrixDisplay at 0x7fa7100828d0>"
            ]
          },
          "execution_count": 35,
          "metadata": {},
          "output_type": "execute_result"
        },
        {
          "data": {
            "image/png": "[encoded data removed]",
            "text/plain": [
              "<Figure size 432x288 with 2 Axes>"
            ]
          },
          "metadata": {},
          "output_type": "display_data"
        }
      ],
      "source": [
        "# Matriz de confusão para o modelo de Regressão Logística\n",
        "\n",
        "plot_confusion_matrix(modelLog, x_test, y_test, cmap='Blues', values_format='.0f')"
      ]
    },
    {
      "cell_type": "markdown",
      "metadata": {
        "id": "fK_WIx48zjRA"
      },
      "source": [
        "Por ter um recall baixo e acurácia e precisão medianos, este também não será o nosso modelo final."
      ]
    },
    {
      "cell_type": "markdown",
      "metadata": {
        "id": "Bd0ZvMO-6M80"
      },
      "source": [
        "## Gaussian Naive Bayes"
      ]
    },
    {
      "cell_type": "code",
      "execution_count": null,
      "metadata": {
        "colab": {
          "base_uri": "https://localhost:8080/"
        },
        "id": "t79dyirs6QkB",
        "outputId": "cb11c4d7-38b3-47f7-dc72-4fcebe62b8cb"
      },
      "outputs": [
        {
          "name": "stdout",
          "output_type": "stream",
          "text": [
            "R ao quadrado: 0.5111726429461443\n",
            "Acurácia: 0.8827319587628866\n",
            "Precisão 0.9888392857142857\n",
            "Recall: 0.714516129032258\n"
          ]
        }
      ],
      "source": [
        "# Treinando o modelo\n",
        "modelGau = GaussianNB().fit(x_train, y_train)\n",
        "\n",
        "# Fazendo as predições\n",
        "y_pred = modelGau.predict(x_test)\n",
        "\n",
        "# Calculando o erro r2- medida de qualidade do modelo\n",
        "print(\"R ao quadrado:\",r2_score(y_test, y_pred))\n",
        "\n",
        "# Calculando quanto é a porcentagem de acerto do modelo\n",
        "print(\"Acurácia:\",metrics.accuracy_score(y_test, y_pred))\n",
        "\n",
        "print(\"Precisão\",metrics.precision_score(y_test, y_pred))\n",
        "\n",
        "print(\"Recall:\",metrics.recall_score(y_test, y_pred))"
      ]
    },
    {
      "cell_type": "code",
      "execution_count": null,
      "metadata": {
        "colab": {
          "base_uri": "https://localhost:8080/",
          "height": 297
        },
        "id": "U0mmmDfF6zpj",
        "outputId": "aa06a90d-5a72-4d6a-d27c-fae560703a88"
      },
      "outputs": [
        {
          "data": {
            "text/plain": [
              "<sklearn.metrics._plot.confusion_matrix.ConfusionMatrixDisplay at 0x7fa70d7414d0>"
            ]
          },
          "execution_count": 38,
          "metadata": {},
          "output_type": "execute_result"
        },
        {
          "data": {
            "image/png": "[encoded data removed]",
            "text/plain": [
              "<Figure size 432x288 with 2 Axes>"
            ]
          },
          "metadata": {},
          "output_type": "display_data"
        }
      ],
      "source": [
        "plot_confusion_matrix(modelGau, x_test, y_test, cmap='Blues', values_format='.0f')"
      ]
    },
    {
      "cell_type": "markdown",
      "metadata": {
        "id": "GiVaKYOgzxO7"
      },
      "source": [
        "O GaussianNB não serviu como modelo principal pois desempenhou mal em todas as métricas escolhidas (abaixo de 0.6 em todas)."
      ]
    },
    {
      "cell_type": "markdown",
      "metadata": {
        "id": "oWhWZLia5sKQ"
      },
      "source": [
        "## Decision Tree"
      ]
    },
    {
      "cell_type": "code",
      "execution_count": null,
      "metadata": {
        "colab": {
          "base_uri": "https://localhost:8080/"
        },
        "id": "tIg41Z4pRXyI",
        "outputId": "d9fa8791-860c-4673-9a43-238aecfc180d"
      },
      "outputs": [
        {
          "name": "stdout",
          "output_type": "stream",
          "text": [
            "R ao quadrado: 0.8934033153343655\n",
            "Acurácia: 0.9744952178533475\n",
            "Precisão 0.9532467532467532\n",
            "Recall: 0.9839142091152815\n"
          ]
        }
      ],
      "source": [
        "# Dividindo x e y\n",
        "x = df.drop(columns = ['ind_atrito', 'ind_engaj', 'ind_novo_cli']).values\n",
        "y = df[['ind_atrito']].values\n",
        "\n",
        "# Dividindo dados para treino e dados para teste\n",
        "x_train, x_test, y_train, y_test = train_test_split(x, y, \n",
        "                                                    test_size = 0.2, \n",
        "                                                    random_state = 42)\n",
        "\n",
        "# Treinando o modelo\n",
        "modelTree = DecisionTreeClassifier(criterion='entropy', random_state=42).fit(x_train, y_train)\n",
        "\n",
        "#criterion='entropy', random_state=42\n",
        "\n",
        "# Fazendo as predições\n",
        "y_pred = modelTree.predict(x_test)\n",
        "\n",
        "# Calculando o erro r2- medida de qualidade do modelo\n",
        "print(\"R ao quadrado:\",r2_score(y_test, y_pred))\n",
        "\n",
        "# Calculando quanto é a porcentagem de acerto do modelo\n",
        "print(\"Acurácia:\",metrics.accuracy_score(y_test, y_pred))\n",
        "\n",
        "print(\"Precisão\",metrics.precision_score(y_test, y_pred))\n",
        "\n",
        "print(\"Recall:\",metrics.recall_score(y_test, y_pred))"
      ]
    },
    {
      "cell_type": "code",
      "execution_count": null,
      "metadata": {
        "colab": {
          "base_uri": "https://localhost:8080/",
          "height": 297
        },
        "id": "D1aN87lIMVgr",
        "outputId": "377e0c8e-176f-4d5b-e2fe-cd95c5b9e766"
      },
      "outputs": [
        {
          "data": {
            "text/plain": [
              "<sklearn.metrics._plot.confusion_matrix.ConfusionMatrixDisplay at 0x7fa70d6eaf90>"
            ]
          },
          "execution_count": 40,
          "metadata": {},
          "output_type": "execute_result"
        },
        {
          "data": {
            "image/png": "[encoded data removed]",
            "text/plain": [
              "<Figure size 432x288 with 2 Axes>"
            ]
          },
          "metadata": {},
          "output_type": "display_data"
        }
      ],
      "source": [
        "plot_confusion_matrix(modelTree, x_test, y_test, cmap='Blues', values_format='.0f')"
      ]
    },
    {
      "cell_type": "code",
      "execution_count": null,
      "metadata": {
        "colab": {
          "base_uri": "https://localhost:8080/",
          "height": 991
        },
        "id": "W3cU9MRk7mHS",
        "outputId": "f9ea79f8-1515-4525-ac53-c1701374388b"
      },
      "outputs": [
        {
          "data": {
            "image/png": "[encoded data removed]",
            "text/plain": [
              "<Figure size 1440x1440 with 1 Axes>"
            ]
          },
          "metadata": {},
          "output_type": "display_data"
        }
      ],
      "source": [
        "fig, ax = plt.subplots(figsize=(20, 20))\n",
        "_ = plot_tree(modelTree,\n",
        "            filled=True, rounded=True, ax=ax)\n",
        "#Gera um arquivo no Notebook, que contém tal imagem com qualidade excelente\n",
        "plt.savefig('out.pdf')"
      ]
    },
    {
      "cell_type": "markdown",
      "metadata": {
        "id": "a_dSGfmnChdK"
      },
      "source": [
        "O modelo de decision tree classifier também foi bastante mediano em acurácia e precisão, porém consideramos ele também um forte candidato pelo bom número de recall."
      ]
    },
    {
      "cell_type": "markdown",
      "metadata": {
        "id": "_-Zv8XpO5iwO"
      },
      "source": [
        "## Gradient Boosting\n"
      ]
    },
    {
      "cell_type": "code",
      "execution_count": null,
      "metadata": {
        "colab": {
          "base_uri": "https://localhost:8080/",
          "height": 1000
        },
        "id": "RJZVP-Z40j5t",
        "outputId": "9364abd9-ce0d-4bb6-96de-99e5b9dc1868"
      },
      "outputs": [
        {
          "name": "stdout",
          "output_type": "stream",
          "text": [
            "--------------------------------------------------------------------\n",
            "Learning rate:  0.05\n",
            "Acurácia (treinamento): 0.971\n",
            "Acurácia (teste): 0.976\n",
            "Acurácia (final): 0.976\n",
            "Precisão: 1.000\n",
            "Recall: 0.938\n",
            "--------------------------------------------------------------------\n",
            "Learning rate:  0.075\n",
            "Acurácia (treinamento): 0.974\n",
            "Acurácia (teste): 0.983\n",
            "Acurácia (final): 0.983\n",
            "Precisão: 1.000\n",
            "Recall: 0.957\n",
            "--------------------------------------------------------------------\n",
            "Learning rate:  0.1\n",
            "Acurácia (treinamento): 0.977\n",
            "Acurácia (teste): 0.984\n",
            "Acurácia (final): 0.984\n",
            "Precisão: 1.000\n",
            "Recall: 0.960\n",
            "--------------------------------------------------------------------\n",
            "Learning rate:  0.25\n",
            "Acurácia (treinamento): 0.984\n",
            "Acurácia (teste): 0.993\n",
            "Acurácia (final): 0.993\n",
            "Precisão: 1.000\n",
            "Recall: 0.981\n",
            "--------------------------------------------------------------------\n",
            "Learning rate:  0.5\n",
            "Acurácia (treinamento): 0.984\n",
            "Acurácia (teste): 0.991\n",
            "Acurácia (final): 0.991\n",
            "Precisão: 0.997\n",
            "Recall: 0.981\n",
            "--------------------------------------------------------------------\n",
            "Learning rate:  0.75\n",
            "Acurácia (treinamento): 0.984\n",
            "Acurácia (teste): 0.991\n",
            "Acurácia (final): 0.991\n",
            "Precisão: 0.997\n",
            "Recall: 0.981\n",
            "--------------------------------------------------------------------\n",
            "Learning rate:  1\n",
            "Acurácia (treinamento): 0.985\n",
            "Acurácia (teste): 0.993\n",
            "Acurácia (final): 0.993\n",
            "Precisão: 0.997\n",
            "Recall: 0.984\n"
          ]
        },
        {
          "data": {
            "image/png": "[encoded data removed]",
            "text/plain": [
              "<Figure size 432x288 with 2 Axes>"
            ]
          },
          "metadata": {},
          "output_type": "display_data"
        },
        {
          "data": {
            "image/png": "[encoded data removed]",
            "text/plain": [
              "<Figure size 432x288 with 2 Axes>"
            ]
          },
          "metadata": {},
          "output_type": "display_data"
        },
        {
          "data": {
            "image/png": "[encoded data removed]",
            "text/plain": [
              "<Figure size 432x288 with 2 Axes>"
            ]
          },
          "metadata": {},
          "output_type": "display_data"
        },
        {
          "data": {
            "image/png": "[encoded data removed]",
            "text/plain": [
              "<Figure size 432x288 with 2 Axes>"
            ]
          },
          "metadata": {},
          "output_type": "display_data"
        },
        {
          "data": {
            "image/png": "[encoded data removed]",
            "text/plain": [
              "<Figure size 432x288 with 2 Axes>"
            ]
          },
          "metadata": {},
          "output_type": "display_data"
        },
        {
          "data": {
            "image/png": "[encoded data removed]",
            "text/plain": [
              "<Figure size 432x288 with 2 Axes>"
            ]
          },
          "metadata": {},
          "output_type": "display_data"
        },
        {
          "data": {
            "image/png": "[encoded data removed]",
            "text/plain": [
              "<Figure size 432x288 with 2 Axes>"
            ]
          },
          "metadata": {},
          "output_type": "display_data"
        }
      ],
      "source": [
        "# Dividindo x e y\n",
        "x = df.drop(columns = ['ind_atrito', 'ind_engaj', 'ind_novo_cli']).values\n",
        "y = df[['ind_atrito']].values\n",
        "\n",
        "# Dividindo dados para treino e dados para teste\n",
        "x_train, x_test, y_train, y_test = train_test_split(x, y, \n",
        "                                                    test_size = 0.2, \n",
        "                                                    random_state = 42)\n",
        "\n",
        "lr_list = [0.05, 0.075, 0.1, 0.25, 0.5, 0.75, 1]\n",
        "\n",
        "for learning_rate in lr_list:\n",
        "    gb_clf = GradientBoostingClassifier(n_estimators=20, learning_rate=learning_rate, max_features=2, max_depth=2, random_state=0)\n",
        "    gb_clf.fit(x_train, y_train)\n",
        "\n",
        "    # Fazendo as predições\n",
        "    y_pred = gb_clf.predict(x_test)\n",
        "\n",
        "    print(\"--------------------------------------------------------------------\")\n",
        "    print(\"Learning rate: \", learning_rate)\n",
        "    print(\"Acurácia (treinamento): {0:.3f}\".format(gb_clf.score(x_train, y_train)))\n",
        "    print(\"Acurácia (teste): {0:.3f}\".format(gb_clf.score(x_test, y_test)))\n",
        "    print(\"Acurácia (final): {0:.3f}\".format(metrics.accuracy_score(y_test, y_pred)))\n",
        "    print(\"Precisão: {0:.3f}\".format(metrics.precision_score(y_test, y_pred)))\n",
        "    print(\"Recall: {0:.3f}\".format(metrics.recall_score(y_test, y_pred)))\n",
        "    plot_confusion_matrix(gb_clf, x_test, y_test, cmap='Blues', values_format='.0f')"
      ]
    },
    {
      "cell_type": "markdown",
      "metadata": {
        "id": "gX6USgc0C4cD"
      },
      "source": [
        "Por final, nosso modelo escolhido foi o Gradient Boosting, isso se deve por ele ter tido números incríveis de:\n",
        "* Acurácia: 0.98\n",
        "* Precisão: 0.99\n",
        "* Recall: 0.96\n",
        "Conforme a matriz de confusão mostra, houve muito pouco falsos positivos e falsos negativos."
      ]
    },
    {
      "cell_type": "markdown",
      "metadata": {
        "id": "SyVVmBixjPTU"
      },
      "source": [
        "#**Otimização e padronização dos modelos escolhidos:**"
      ]
    },
    {
      "cell_type": "markdown",
      "metadata": {
        "id": "dPK_DSzIRPds"
      },
      "source": [
        "# Hiperparâmetros\n",
        "\n",
        "Nos campos abaixo é possível encontrar a utilização do GridSearch e RandomSearch para encontrar os melhores hiperparametros da solução, com isso, buscando um melhor resultado alterando as configuração de parâmetros dos modelos de treino."
      ]
    },
    {
      "cell_type": "code",
      "execution_count": null,
      "metadata": {
        "id": "yfVVo62BRPKB"
      },
      "outputs": [],
      "source": [
        "# Importa bibliotecas dependentes\n",
        "\n",
        "from sklearn.model_selection import RandomizedSearchCV\n",
        "from sklearn.model_selection import GridSearchCV"
      ]
    },
    {
      "cell_type": "markdown",
      "metadata": {
        "id": "kbbddttzb0dS"
      },
      "source": [
        "## Classe de hiperparâmetro\n",
        "\n",
        "Classe que auxilia para reduzir a repetição de código na geração de novos hiperparametros para cada modelo, sendo Grid Search ou Random Search."
      ]
    },
    {
      "cell_type": "code",
      "execution_count": null,
      "metadata": {
        "id": "aQqB5A5STJsE"
      },
      "outputs": [],
      "source": [
        "class Hiperparametro:\n",
        "    '''\n",
        "    Classe para otimização de hiperparâmetros\n",
        "    '''\n",
        "\n",
        "    # Construtor da classe que recebe os dados de entrada para criação do modelo\n",
        "    def __init__(self, modelo: object, parametros: dict, x: object, y: object, cv: int = 5, n_iter: int = 10, n_jobs: int = -1, verbose: int = 1, random_state: int = 42) -> None:\n",
        "        self.modelo = modelo\n",
        "        self.parametros = parametros\n",
        "        self.n_iteracoes = n_iter\n",
        "        self.n_jobs = n_jobs\n",
        "        self.cv = cv\n",
        "        self.random_state = random_state\n",
        "        self.resultados = None\n",
        "\n",
        "    # Método para poder gerar os resultados de treino por hiperparâmetros, tanto para RandomizedSearchCV quanto para GridSearchCV\n",
        "    def busca(self, X: object, y: object, tipo: str) -> None:\n",
        "        if tipo == 'grid':  # GridSearchCV\n",
        "            # Cria o objeto de busca de hiperparâmetros\n",
        "            self.resultados = GridSearchCV(self.modelo, self.parametros,\n",
        "                                           cv=self.cv, n_jobs=self.n_jobs)\n",
        "        elif tipo == 'random':  # RandomizedSearchCV\n",
        "            # Cria o objeto de busca de hiperparâmetros\n",
        "            self.resultados = RandomizedSearchCV(self.modelo, self.parametros, n_iter=self.n_iteracoes,\n",
        "                                                 cv=self.cv, n_jobs=self.n_jobs, random_state=self.random_state)\n",
        "        else:\n",
        "            raise Exception('Tipo de busca inválido')\n",
        "\n",
        "        # Treina o modelo com os dados de entrada\n",
        "        self.resultados.fit(X, y)\n",
        "        self.resultados\n",
        "\n",
        "    def escrever_resultados(self) -> None:\n",
        "        # Escreve os resultados no terminal\n",
        "        print('Melhor score: %s' % self.resultados.best_score_)\n",
        "        print('Melhores hiperparâmetros: %s' % self.resultados.best_params_)"
      ]
    },
    {
      "cell_type": "markdown",
      "metadata": {
        "id": "SZm_j-Xzcwbu"
      },
      "source": [
        "## Geração dos modelos\n",
        "\n",
        "Nos blocos de código abaixo é possível ver a geração dos melhores modelos possíveis pelos hiperparâmetros inseridos, utilizando a estratégia de Grid e Random."
      ]
    },
    {
      "cell_type": "markdown",
      "metadata": {
        "id": "PkMcnZQtXfC-"
      },
      "source": [
        "### KNN (K-Nearest Neighbor)"
      ]
    },
    {
      "cell_type": "code",
      "execution_count": null,
      "metadata": {
        "colab": {
          "base_uri": "https://localhost:8080/"
        },
        "id": "95N2vl9lRqNT",
        "outputId": "7d3d945a-7018-4d54-fb4a-1d326edb01d3"
      },
      "outputs": [
        {
          "name": "stdout",
          "output_type": "stream",
          "text": [
            "KNN:\n",
            "\n",
            "Busca aleatória:\n",
            "Melhor score: 0.6236702127659575\n",
            "Melhores hiperparâmetros: {'weights': 'uniform', 'n_neighbors': 5, 'metric': 'manhattan', 'leaf_size': 20, 'algorithm': 'kd_tree'}\n",
            "\n",
            "Busca em grade:\n",
            "Melhor score: 0.6236702127659575\n",
            "Melhores hiperparâmetros: {'algorithm': 'auto', 'leaf_size': 10, 'metric': 'manhattan', 'n_neighbors': 5, 'weights': 'uniform'}\n"
          ]
        }
      ],
      "source": [
        "'''KNN - KNeighborsClassifier'''\n",
        "KNN_parametros = {\n",
        "    'n_neighbors': [3, 5, 11, 19],\n",
        "    'weights': ['uniform', 'distance'],\n",
        "    'metric': ['euclidean', 'manhattan'],\n",
        "    'algorithm': ['auto', 'ball_tree', 'kd_tree', 'brute'],\n",
        "    'leaf_size': range(10, 60, 10)\n",
        "}\n",
        "KNN_hi = Hiperparametro(KNeighborsClassifier(), KNN_parametros, 4, -1, 5, 42)\n",
        "# --------------------------------------------------------\n",
        "\n",
        "print('KNN:\\n')\n",
        "print('Busca aleatória:')\n",
        "KNN_hi.busca(x_train, y_train, 'random')\n",
        "KNN_hi.escrever_resultados()\n",
        "print('')\n",
        "print('Busca em grade:')\n",
        "KNN_hi.busca(x_train, y_train, 'grid')\n",
        "KNN_hi.escrever_resultados()"
      ]
    },
    {
      "cell_type": "markdown",
      "metadata": {
        "id": "XG4l7PfmzJFf"
      },
      "source": [
        "#### Modelo KNN com os hiperparâmetros recomendados pelo Random Search:\n"
      ]
    },
    {
      "cell_type": "code",
      "execution_count": null,
      "metadata": {
        "colab": {
          "base_uri": "https://localhost:8080/"
        },
        "id": "4OWT6pFIXF0T",
        "outputId": "67fc5278-953a-4812-d3f1-28f2514cb890"
      },
      "outputs": [
        {
          "name": "stdout",
          "output_type": "stream",
          "text": [
            "Acurácia: 0.6014877789585548\n",
            "Precisão 0.4966216216216216\n",
            "Recall: 0.3941018766756032\n"
          ]
        }
      ],
      "source": [
        "# Treinando o modelo\n",
        "\n",
        "modelKNN = KNeighborsClassifier(n_neighbors=5, weights='uniform', metric='manhattan', leaf_size=20, algorithm='kd_tree')\n",
        "\n",
        "modelKNN.fit(x_train, y_train)\n",
        "\n",
        "# Realizando as predições\n",
        "\n",
        "y_pred = modelKNN.predict(x_test)\n",
        "\n",
        "# Calculando quanto é a porcentagem de acerto do modelo\n",
        "print(\"Acurácia:\",metrics.accuracy_score(y_test, y_pred))\n",
        "\n",
        "print(\"Precisão\",metrics.precision_score(y_test, y_pred))\n",
        "\n",
        "print(\"Recall:\",metrics.recall_score(y_test, y_pred))"
      ]
    },
    {
      "cell_type": "markdown",
      "metadata": {
        "id": "0GCi_8QSzPV1"
      },
      "source": [
        "#### Modelo KNN com os hiperparâmetros recomendados pelo Grid Search:\n"
      ]
    },
    {
      "cell_type": "code",
      "execution_count": null,
      "metadata": {
        "colab": {
          "base_uri": "https://localhost:8080/"
        },
        "id": "P7gNwGwigCEo",
        "outputId": "6d496d3b-e7c1-4c92-cc68-8a6868e9e95c"
      },
      "outputs": [
        {
          "name": "stdout",
          "output_type": "stream",
          "text": [
            "Acurácia: 0.6014877789585548\n",
            "Precisão 0.4966216216216216\n",
            "Recall: 0.3941018766756032\n"
          ]
        }
      ],
      "source": [
        "# Treinando o modelo\n",
        "\n",
        "modelKNN = KNeighborsClassifier(n_neighbors=5, weights='uniform', metric='manhattan', leaf_size=10, algorithm='auto')\n",
        "\n",
        "modelKNN.fit(x_train, y_train)\n",
        "\n",
        "# Realizando as predições\n",
        "\n",
        "y_pred_3 = modelKNN.predict(x_test)\n",
        "\n",
        "# Calculando quanto é a porcentagem de acerto do modelo\n",
        "print(\"Acurácia:\",metrics.accuracy_score(y_test, y_pred))\n",
        "\n",
        "print(\"Precisão\",metrics.precision_score(y_test, y_pred))\n",
        "\n",
        "print(\"Recall:\",metrics.recall_score(y_test, y_pred))"
      ]
    },
    {
      "cell_type": "code",
      "execution_count": null,
      "metadata": {
        "colab": {
          "base_uri": "https://localhost:8080/",
          "height": 297
        },
        "id": "6kEEZfd2SkF4",
        "outputId": "b539ba91-4832-4710-cdb5-b1398f400a19"
      },
      "outputs": [
        {
          "data": {
            "text/plain": [
              "<sklearn.metrics._plot.confusion_matrix.ConfusionMatrixDisplay at 0x7fa70b4d2050>"
            ]
          },
          "execution_count": 51,
          "metadata": {},
          "output_type": "execute_result"
        },
        {
          "data": {
            "image/png": "[encoded data removed]",
            "text/plain": [
              "<Figure size 432x288 with 2 Axes>"
            ]
          },
          "metadata": {},
          "output_type": "display_data"
        }
      ],
      "source": [
        "plot_confusion_matrix(modelKNN, x_test, y_test, cmap='Blues', values_format='.0f')"
      ]
    },
    {
      "cell_type": "markdown",
      "metadata": {
        "id": "t0uO4zVhYJzN"
      },
      "source": [
        "### Random Forest"
      ]
    },
    {
      "cell_type": "code",
      "execution_count": null,
      "metadata": {
        "colab": {
          "base_uri": "https://localhost:8080/"
        },
        "id": "wbufZrqucNwR",
        "outputId": "af8623df-4188-4eb3-9980-ce7612ea2c75"
      },
      "outputs": [
        {
          "name": "stdout",
          "output_type": "stream",
          "text": [
            "Random Forest:\n",
            "\n",
            "Busca aleatória:\n",
            "Melhor score: 0.9843085106382977\n",
            "Melhores hiperparâmetros: {'n_estimators': 10, 'max_features': 'auto', 'max_depth': 7, 'criterion': 'gini'}\n",
            "\n",
            "Busca em grade:\n",
            "Melhor score: 0.9843085106382977\n",
            "Melhores hiperparâmetros: {'criterion': 'entropy', 'max_depth': 9, 'max_features': 'auto', 'n_estimators': 10}\n"
          ]
        }
      ],
      "source": [
        "'''Random Forest'''\n",
        "RF_parametros = {\n",
        "    'n_estimators': [10, 50, 100, 200, 500],\n",
        "    'criterion': ['gini', 'entropy'],\n",
        "    'max_depth': [None, 3, 5, 7, 9],\n",
        "    'max_features': [None, 'auto', 'sqrt', 'log2']\n",
        "}\n",
        "\n",
        "RF_hi = Hiperparametro(RandomForestClassifier(), RF_parametros, 4, -1, 5, 42)\n",
        "# --------------------------------------------------------\n",
        "\n",
        "print('Random Forest:\\n')\n",
        "print('Busca aleatória:')\n",
        "RF_hi.busca(x_train, y_train, 'random')\n",
        "RF_hi.escrever_resultados()\n",
        "print('')\n",
        "print('Busca em grade:')\n",
        "RF_hi.busca(x_train, y_train, 'grid')\n",
        "RF_hi.escrever_resultados()"
      ]
    },
    {
      "cell_type": "markdown",
      "metadata": {
        "id": "bMhK2qA9zZWe"
      },
      "source": [
        "#### Modelo Random Forest com os hiperparâmetros recomendados pelo Random Search:\n",
        "\n"
      ]
    },
    {
      "cell_type": "code",
      "execution_count": null,
      "metadata": {
        "colab": {
          "base_uri": "https://localhost:8080/"
        },
        "id": "ODES7_x_mV03",
        "outputId": "ac5f2a30-bc83-4068-c95c-286a9d520495"
      },
      "outputs": [
        {
          "name": "stdout",
          "output_type": "stream",
          "text": [
            "Acurácia: 0.9925611052072264\n",
            "Precisão 1.0\n",
            "Recall: 0.9812332439678284\n"
          ]
        }
      ],
      "source": [
        "from sklearn.ensemble import RandomForestClassifier\n",
        "from sklearn.datasets import make_classification\n",
        "#declaro o nome do meu modelo, e declaro a profundade máxima em 20, já que entre 1 < 20 a acurácia é menor\n",
        "# e entre 20> não há um aumento significante para a acurácia (valores testados: 2, 10, 15, 20, 25, 30, 40, 50)\n",
        "clf = RandomForestClassifier(n_estimators=10, max_features='auto', max_depth=7, criterion='gini', random_state=0)\n",
        "#treino meu modelo\n",
        "clf.fit(x_train, y_train)\n",
        "#ele prediz o x teste\n",
        "y_pred = clf.predict(x_test)\n",
        "#analiso a acurácia entre o teste e o que ele prediz\n",
        "print(\"Acurácia:\",metrics.accuracy_score(y_test, y_pred))\n",
        "\n",
        "print(\"Precisão\",metrics.precision_score(y_test, y_pred))\n",
        "\n",
        "print(\"Recall:\",metrics.recall_score(y_test, y_pred))"
      ]
    },
    {
      "cell_type": "markdown",
      "metadata": {
        "id": "pM22m-gGzfra"
      },
      "source": [
        "#### Modelo Random Forest com os hiperparâmetros recomendados pelo Grid Search:\n",
        "\n"
      ]
    },
    {
      "cell_type": "code",
      "execution_count": null,
      "metadata": {
        "colab": {
          "base_uri": "https://localhost:8080/"
        },
        "id": "8cS4yQEBmXCG",
        "outputId": "25452bfc-a2ec-4fe7-c335-564aa5edf540"
      },
      "outputs": [
        {
          "name": "stdout",
          "output_type": "stream",
          "text": [
            "Acurácia: 0.9914984059511158\n",
            "Precisão 0.997275204359673\n",
            "Recall: 0.9812332439678284\n"
          ]
        }
      ],
      "source": [
        "from sklearn.ensemble import RandomForestClassifier\n",
        "from sklearn.datasets import make_classification\n",
        "#declaro o nome do meu modelo, e declaro a profundade máxima em 20, já que entre 1 < 20 a acurácia é menor\n",
        "# e entre 20> não há um aumento significante para a acurácia (valores testados: 2, 10, 15, 20, 25, 30, 40, 50)\n",
        "clf = RandomForestClassifier(n_estimators=10, max_features='auto', max_depth=9, criterion='entropy', random_state=0)\n",
        "#treino meu modelo\n",
        "clf.fit(x_train, y_train)\n",
        "#ele prediz o x teste\n",
        "y_pred = clf.predict(x_test)\n",
        "#analiso a acurácia entre o teste e o que ele prediz\n",
        "print(\"Acurácia:\",metrics.accuracy_score(y_test, y_pred))\n",
        "\n",
        "print(\"Precisão\",metrics.precision_score(y_test, y_pred))\n",
        "\n",
        "print(\"Recall:\",metrics.recall_score(y_test, y_pred))"
      ]
    },
    {
      "cell_type": "code",
      "execution_count": null,
      "metadata": {
        "colab": {
          "base_uri": "https://localhost:8080/",
          "height": 297
        },
        "id": "YA8bLoOcS8Oo",
        "outputId": "09091102-dc3c-4edf-8108-797dbacc29e7"
      },
      "outputs": [
        {
          "data": {
            "text/plain": [
              "<sklearn.metrics._plot.confusion_matrix.ConfusionMatrixDisplay at 0x7fa70b400390>"
            ]
          },
          "execution_count": 54,
          "metadata": {},
          "output_type": "execute_result"
        },
        {
          "data": {
            "image/png": "[encoded data removed]",
            "text/plain": [
              "<Figure size 432x288 with 2 Axes>"
            ]
          },
          "metadata": {},
          "output_type": "display_data"
        }
      ],
      "source": [
        "plot_confusion_matrix(clf, x_test, y_test, cmap='Blues', values_format='.0f')"
      ]
    },
    {
      "cell_type": "markdown",
      "metadata": {
        "id": "FIG9quqjYNUQ"
      },
      "source": [
        "### SVM (Support-Vector Machine)"
      ]
    },
    {
      "cell_type": "code",
      "execution_count": null,
      "metadata": {
        "colab": {
          "base_uri": "https://localhost:8080/"
        },
        "id": "F5T2EHLYcNtd",
        "outputId": "7d4ed138-b02a-43e3-eb40-36296b6cbe96"
      },
      "outputs": [
        {
          "name": "stdout",
          "output_type": "stream",
          "text": [
            "SVM:\n",
            "Busca aleatória:\n",
            "\n",
            "Melhor score: 0.6132978723404255\n",
            "Melhores hiperparâmetros: {'shrinking': True, 'probability': True, 'gamma': 'auto', 'degree': 2}\n",
            "\n",
            "Busca em grade:\n",
            "Melhor score: 0.6132978723404255\n",
            "Melhores hiperparâmetros: {'degree': 2, 'gamma': 'auto', 'probability': True, 'shrinking': True}\n"
          ]
        }
      ],
      "source": [
        "'''SVM - Support Vector Machine'''\n",
        "SVM_parametros = {\n",
        "    #'kernel': ['linear', 'poly', 'rbf', 'sigmoid'],\n",
        "    'degree': [2, 3, 4, 5],\n",
        "    'gamma': ['scale', 'auto'],\n",
        "    'shrinking': [True, False],\n",
        "    'probability': [True, False],\n",
        "}\n",
        "\n",
        "SVM_hi = Hiperparametro(SVC(), SVM_parametros, 4, -1, 5, 42)\n",
        "# --------------------------------------------------------\n",
        "\n",
        "print('SVM:')\n",
        "print('Busca aleatória:\\n')\n",
        "SVM_hi.busca(x_train, y_train, 'random')\n",
        "SVM_hi.escrever_resultados()\n",
        "print('')\n",
        "print('Busca em grade:')\n",
        "SVM_hi.busca(x_train, y_train, 'grid')\n",
        "SVM_hi.escrever_resultados()"
      ]
    },
    {
      "cell_type": "markdown",
      "metadata": {
        "id": "0y8XrhgMzlI1"
      },
      "source": [
        "#### Modelo SVM com os hiperparâmetros recomendados pelo Random Search:\n"
      ]
    },
    {
      "cell_type": "code",
      "execution_count": null,
      "metadata": {
        "colab": {
          "base_uri": "https://localhost:8080/"
        },
        "id": "GB1gUfMUwGzK",
        "outputId": "4627b790-bdfa-4dcc-9f01-21670f76927d"
      },
      "outputs": [
        {
          "name": "stdout",
          "output_type": "stream",
          "text": [
            "Acurácia: 0.6005154639175257\n",
            "Precisão: 0.0\n",
            "Recall: 0.0\n"
          ]
        }
      ],
      "source": [
        "# --> TRAIN TEST SPLIT\n",
        "import seaborn as sns\n",
        "import matplotlib.pyplot as plt\n",
        "from sklearn.model_selection import train_test_split\n",
        "\n",
        "#Divisão de x e y\n",
        "x = df.drop(columns =['ind_atrito', 'ind_engaj', 'ind_novo_cli']).values\n",
        "y = df[['ind_atrito']].values\n",
        "\n",
        "#Dados para treino e teste\n",
        "x_train, x_test, y_train, y_test = train_test_split (x,y, test_size = 0.33, random_state = 42)\n",
        "\n",
        "# --> SUPPORT VECTOR MACHINES\n",
        "#Importando a biblioteca necessária\n",
        "from sklearn import svm\n",
        "from sklearn.svm import SVC\n",
        "\n",
        "clf = svm.SVC(degree=2, gamma='auto', probability=True, shrinking=True)\n",
        "modelSvm = clf.fit(x_train, y_train)\n",
        "\n",
        "y_pred = clf.predict(x_test)\n",
        "\n",
        "#Importando a biblioteca necessária para calcular as métricas\n",
        "from sklearn import metrics\n",
        "\n",
        "#Acurácia - Com que frequência o classificador está correto?\n",
        "print(\"Acurácia:\",metrics.accuracy_score(y_test, y_pred))\n",
        "\n",
        "#Precisão - Das classificações positivas do modelo, quantas foram acertadas.\n",
        "print(\"Precisão:\",metrics.precision_score(y_test, y_pred))\n",
        "\n",
        "#Revocação - Das amostras positivas existentes, quantas o modelo conseguiu classificar corretamente.\n",
        "print(\"Recall:\",metrics.recall_score(y_test, y_pred))"
      ]
    },
    {
      "cell_type": "markdown",
      "metadata": {
        "id": "naITTilBzn2-"
      },
      "source": [
        "#### Modelo SVM com os hiperparâmetros recomendados pelo Grid Search:\n"
      ]
    },
    {
      "cell_type": "code",
      "execution_count": null,
      "metadata": {
        "colab": {
          "base_uri": "https://localhost:8080/"
        },
        "id": "r_yScClUwTiF",
        "outputId": "e8163ec8-f0b7-4b34-e074-5f8762649d2b"
      },
      "outputs": [
        {
          "name": "stdout",
          "output_type": "stream",
          "text": [
            "Acurácia: 0.6005154639175257\n",
            "Precisão: 0.0\n",
            "Recall: 0.0\n"
          ]
        }
      ],
      "source": [
        "# --> TRAIN TEST SPLIT\n",
        "import seaborn as sns\n",
        "import matplotlib.pyplot as plt\n",
        "from sklearn.model_selection import train_test_split\n",
        "\n",
        "#Divisão de x e y\n",
        "x = df.drop(columns =['ind_atrito', 'ind_engaj', 'ind_novo_cli']).values\n",
        "y = df[['ind_atrito']].values\n",
        "\n",
        "#Dados para treino e teste\n",
        "x_train, x_test, y_train, y_test = train_test_split (x,y, test_size = 0.33, random_state = 42)\n",
        "\n",
        "# --> SUPPORT VECTOR MACHINES\n",
        "#Importando a biblioteca necessária\n",
        "from sklearn import svm\n",
        "from sklearn.svm import SVC\n",
        "\n",
        "clf = svm.SVC(degree=2, gamma='auto', probability=True, shrinking=True)\n",
        "modelSvm = clf.fit(x_train, y_train)\n",
        "\n",
        "y_pred = clf.predict(x_test)\n",
        "\n",
        "#Importando a biblioteca necessária para calcular as métricas\n",
        "from sklearn import metrics\n",
        "\n",
        "#Acurácia - Com que frequência o classificador está correto?\n",
        "print(\"Acurácia:\",metrics.accuracy_score(y_test, y_pred))\n",
        "\n",
        "#Precisão - Das classificações positivas do modelo, quantas foram acertadas.\n",
        "print(\"Precisão:\",metrics.precision_score(y_test, y_pred))\n",
        "\n",
        "#Revocação - Das amostras positivas existentes, quantas o modelo conseguiu classificar corretamente.\n",
        "print(\"Recall:\",metrics.recall_score(y_test, y_pred))"
      ]
    },
    {
      "cell_type": "code",
      "execution_count": null,
      "metadata": {
        "colab": {
          "base_uri": "https://localhost:8080/",
          "height": 297
        },
        "id": "Y9IyQsJAS4VN",
        "outputId": "70d95f7d-7134-401b-c12f-b9ef37f265d4"
      },
      "outputs": [
        {
          "data": {
            "text/plain": [
              "<sklearn.metrics._plot.confusion_matrix.ConfusionMatrixDisplay at 0x7fa70aadd1d0>"
            ]
          },
          "execution_count": 61,
          "metadata": {},
          "output_type": "execute_result"
        },
        {
          "data": {
            "image/png": "[encoded data removed]",
            "text/plain": [
              "<Figure size 432x288 with 2 Axes>"
            ]
          },
          "metadata": {},
          "output_type": "display_data"
        }
      ],
      "source": [
        "plot_confusion_matrix(modelSvm, x_test, y_test, cmap='Blues', values_format='.0f')"
      ]
    },
    {
      "cell_type": "markdown",
      "metadata": {
        "id": "h86tlD4sYSnn"
      },
      "source": [
        "### Gradient Boosting"
      ]
    },
    {
      "cell_type": "code",
      "execution_count": null,
      "metadata": {
        "colab": {
          "background_save": true,
          "base_uri": "https://localhost:8080/"
        },
        "id": "spsMwBsncNqs",
        "outputId": "4a1293e4-80b2-4157-b5ff-ecaa62fdef87"
      },
      "outputs": [
        {
          "name": "stdout",
          "output_type": "stream",
          "text": [
            "Gradient Boosting:\n",
            "\n",
            "Busca aleatória:\n",
            "Melhor score: 0.9841224417695006\n",
            "Melhores hiperparâmetros: {'n_estimators': 10, 'max_depth': 3, 'criterion': 'friedman_mse'}\n",
            "\n",
            "Busca em grade:\n",
            "Melhor score: 0.9841224417695006\n",
            "Melhores hiperparâmetros: {'criterion': 'friedman_mse', 'max_depth': 3, 'n_estimators': 10}\n"
          ]
        }
      ],
      "source": [
        "''' Gradient Boosting '''\n",
        "GB_parametros = {\n",
        "    'n_estimators': [10, 50, 100, 200, 500],\n",
        "    'criterion': ['friedman_mse', 'mse', 'mae'],\n",
        "    'max_depth': [3, 5, 7, 9],\n",
        "    #'max_features': [None, 'auto', 'sqrt', 'log2'],\n",
        "    #'warm_start': [False, True],\n",
        "}\n",
        "\n",
        "GB_hi = Hiperparametro(GradientBoostingClassifier(),\n",
        "                       GB_parametros, 4, -1, 5, 42)\n",
        "# --------------------------------------------------------\n",
        "\n",
        "print('Gradient Boosting:\\n')\n",
        "print('Busca aleatória:')\n",
        "GB_hi.busca(x_train, y_train, 'random')\n",
        "GB_hi.escrever_resultados()\n",
        "print('')\n",
        "print('Busca em grade:')\n",
        "GB_hi.busca(x_train, y_train, 'grid')\n",
        "GB_hi.escrever_resultados()"
      ]
    },
    {
      "cell_type": "markdown",
      "metadata": {
        "id": "aqmKUpJz3R3g"
      },
      "source": [
        "#### Modelo Gradient Boosting com os hiperparâmetros recomendados pelo Random Search:"
      ]
    },
    {
      "cell_type": "code",
      "execution_count": null,
      "metadata": {
        "colab": {
          "background_save": true,
          "base_uri": "https://localhost:8080/"
        },
        "id": "aJidTaeMyyv1",
        "outputId": "bda39870-0618-43a3-e7c2-a94bdb1a9644"
      },
      "outputs": [
        {
          "name": "stdout",
          "output_type": "stream",
          "text": [
            "--------------------------------------------------------------------\n",
            "Learning rate:  0.05\n",
            "Acurácia (treinamento): 0.984\n",
            "Acurácia (teste): 0.993\n",
            "Acurácia (final): 0.993\n",
            "Precisão: 0.997\n",
            "Recall: 0.984\n",
            "--------------------------------------------------------------------\n",
            "Learning rate:  0.075\n",
            "Acurácia (treinamento): 0.984\n",
            "Acurácia (teste): 0.993\n",
            "Acurácia (final): 0.993\n",
            "Precisão: 0.997\n",
            "Recall: 0.984\n",
            "--------------------------------------------------------------------\n",
            "Learning rate:  0.1\n",
            "Acurácia (treinamento): 0.984\n",
            "Acurácia (teste): 0.993\n",
            "Acurácia (final): 0.993\n",
            "Precisão: 0.997\n",
            "Recall: 0.984\n",
            "--------------------------------------------------------------------\n",
            "Learning rate:  0.25\n",
            "Acurácia (treinamento): 0.984\n",
            "Acurácia (teste): 0.993\n",
            "Acurácia (final): 0.993\n",
            "Precisão: 0.997\n",
            "Recall: 0.984\n",
            "--------------------------------------------------------------------\n",
            "Learning rate:  0.5\n",
            "Acurácia (treinamento): 0.986\n",
            "Acurácia (teste): 0.993\n",
            "Acurácia (final): 0.993\n",
            "Precisão: 0.997\n",
            "Recall: 0.984\n",
            "--------------------------------------------------------------------\n",
            "Learning rate:  0.75\n",
            "Acurácia (treinamento): 0.987\n",
            "Acurácia (teste): 0.991\n",
            "Acurácia (final): 0.991\n",
            "Precisão: 0.995\n",
            "Recall: 0.984\n",
            "--------------------------------------------------------------------\n",
            "Learning rate:  1\n",
            "Acurácia (treinamento): 0.984\n",
            "Acurácia (teste): 0.988\n",
            "Acurácia (final): 0.988\n",
            "Precisão: 0.989\n",
            "Recall: 0.981\n"
          ]
        }
      ],
      "source": [
        "# Dividindo x e y\n",
        "x = df.drop(columns = ['ind_atrito', 'ind_engaj', 'ind_novo_cli']).values\n",
        "y = df[['ind_atrito']].values\n",
        "\n",
        "# Dividindo dados para treino e dados para teste\n",
        "x_train, x_test, y_train, y_test = train_test_split(x, y, \n",
        "                                                    test_size = 0.2, \n",
        "                                                    random_state = 42)\n",
        "\n",
        "lr_list = [0.05, 0.075, 0.1, 0.25, 0.5, 0.75, 1]\n",
        "\n",
        "for learning_rate in lr_list:\n",
        "    gb_clf = GradientBoostingClassifier(n_estimators=10, criterion='friedman_mse', learning_rate=learning_rate, max_depth=3, random_state=0)\n",
        "    gb_clf.fit(x_train, y_train)\n",
        "\n",
        "    # Fazendo as predições\n",
        "    y_pred = gb_clf.predict(x_test)\n",
        "\n",
        "    print(\"--------------------------------------------------------------------\")\n",
        "    print(\"Learning rate: \", learning_rate)\n",
        "    print(\"Acurácia (treinamento): {0:.3f}\".format(gb_clf.score(x_train, y_train)))\n",
        "    print(\"Acurácia (teste): {0:.3f}\".format(gb_clf.score(x_test, y_test)))\n",
        "    print(\"Acurácia (final): {0:.3f}\".format(metrics.accuracy_score(y_test, y_pred)))\n",
        "    print(\"Precisão: {0:.3f}\".format(metrics.precision_score(y_test, y_pred)))\n",
        "    print(\"Recall: {0:.3f}\".format(metrics.recall_score(y_test, y_pred)))\n",
        "    #plot_confusion_matrix(gb_clf, x_test, y_test, cmap='Blues', values_format='.0f')"
      ]
    },
    {
      "cell_type": "markdown",
      "metadata": {
        "id": "FgPXiFVQ3Tvn"
      },
      "source": [
        "#### Modelo Gradient Boosting com os hiperparâmetros recomendados pelo Grid Search:"
      ]
    },
    {
      "cell_type": "code",
      "execution_count": null,
      "metadata": {
        "colab": {
          "background_save": true,
          "base_uri": "https://localhost:8080/"
        },
        "id": "SVIytZDoyc30",
        "outputId": "03af20f5-e8f6-4f60-a012-947adb8440e0"
      },
      "outputs": [
        {
          "name": "stdout",
          "output_type": "stream",
          "text": [
            "--------------------------------------------------------------------\n",
            "Learning rate:  0.05\n",
            "Acurácia (treinamento): 0.984\n",
            "Acurácia (teste): 0.993\n",
            "Acurácia (final): 0.993\n",
            "Precisão: 0.997\n",
            "Recall: 0.984\n",
            "--------------------------------------------------------------------\n",
            "Learning rate:  0.075\n",
            "Acurácia (treinamento): 0.984\n",
            "Acurácia (teste): 0.993\n",
            "Acurácia (final): 0.993\n",
            "Precisão: 0.997\n",
            "Recall: 0.984\n",
            "--------------------------------------------------------------------\n",
            "Learning rate:  0.1\n",
            "Acurácia (treinamento): 0.984\n",
            "Acurácia (teste): 0.993\n",
            "Acurácia (final): 0.993\n",
            "Precisão: 0.997\n",
            "Recall: 0.984\n",
            "--------------------------------------------------------------------\n",
            "Learning rate:  0.25\n",
            "Acurácia (treinamento): 0.984\n",
            "Acurácia (teste): 0.993\n",
            "Acurácia (final): 0.993\n",
            "Precisão: 0.997\n",
            "Recall: 0.984\n",
            "--------------------------------------------------------------------\n",
            "Learning rate:  0.5\n",
            "Acurácia (treinamento): 0.986\n",
            "Acurácia (teste): 0.993\n",
            "Acurácia (final): 0.993\n",
            "Precisão: 0.997\n",
            "Recall: 0.984\n",
            "--------------------------------------------------------------------\n",
            "Learning rate:  0.75\n",
            "Acurácia (treinamento): 0.987\n",
            "Acurácia (teste): 0.991\n",
            "Acurácia (final): 0.991\n",
            "Precisão: 0.995\n",
            "Recall: 0.984\n",
            "--------------------------------------------------------------------\n",
            "Learning rate:  1\n",
            "Acurácia (treinamento): 0.984\n",
            "Acurácia (teste): 0.988\n",
            "Acurácia (final): 0.988\n",
            "Precisão: 0.989\n",
            "Recall: 0.981\n"
          ]
        }
      ],
      "source": [
        "# Dividindo x e y\n",
        "x = df.drop(columns = ['ind_atrito', 'ind_engaj', 'ind_novo_cli']).values\n",
        "y = df[['ind_atrito']].values\n",
        "\n",
        "# Dividindo dados para treino e dados para teste\n",
        "x_train, x_test, y_train, y_test = train_test_split(x, y, \n",
        "                                                    test_size = 0.2, \n",
        "                                                    random_state = 42)\n",
        "\n",
        "lr_list = [0.05, 0.075, 0.1, 0.25, 0.5, 0.75, 1]\n",
        "\n",
        "for learning_rate in lr_list:\n",
        "    gb_clf = GradientBoostingClassifier(n_estimators=10, criterion='friedman_mse', learning_rate=learning_rate, max_depth=3, random_state=0)\n",
        "    gb_clf.fit(x_train, y_train)\n",
        "\n",
        "    # Fazendo as predições\n",
        "    y_pred = gb_clf.predict(x_test)\n",
        "\n",
        "    print(\"--------------------------------------------------------------------\")\n",
        "    print(\"Learning rate: \", learning_rate)\n",
        "    print(\"Acurácia (treinamento): {0:.3f}\".format(gb_clf.score(x_train, y_train)))\n",
        "    print(\"Acurácia (teste): {0:.3f}\".format(gb_clf.score(x_test, y_test)))\n",
        "    print(\"Acurácia (final): {0:.3f}\".format(metrics.accuracy_score(y_test, y_pred)))\n",
        "    print(\"Precisão: {0:.3f}\".format(metrics.precision_score(y_test, y_pred)))\n",
        "    print(\"Recall: {0:.3f}\".format(metrics.recall_score(y_test, y_pred)))\n",
        "    #plot_confusion_matrix(gb_clf, x_test, y_test, cmap='Blues', values_format='.0f')"
      ]
    },
    {
      "cell_type": "markdown",
      "metadata": {
        "id": "iWve0FuEYWX5"
      },
      "source": [
        "### Decision Tree"
      ]
    },
    {
      "cell_type": "code",
      "execution_count": null,
      "metadata": {
        "colab": {
          "background_save": true,
          "base_uri": "https://localhost:8080/"
        },
        "id": "y_oGl8WlcNnt",
        "outputId": "d1779509-4fa6-4aad-a589-18b81cb3fd8f"
      },
      "outputs": [
        {
          "name": "stdout",
          "output_type": "stream",
          "text": [
            "Decision Tree Classifier:\n",
            "\n",
            "Busca aleatória:\n",
            "Melhor score: 0.9840425531914893\n",
            "Melhores hiperparâmetros: {'splitter': 'random', 'max_features': None, 'max_depth': 9, 'criterion': 'entropy'}\n",
            "\n",
            "Busca em grade:\n",
            "Melhor score: 0.9840425531914893\n",
            "Melhores hiperparâmetros: {'criterion': 'gini', 'max_depth': 3, 'max_features': None, 'splitter': 'best'}\n"
          ]
        }
      ],
      "source": [
        "''' Decision Tree Classifier '''\n",
        "DTC_parametros = {\n",
        "    'criterion': ['gini', 'entropy'],\n",
        "    'splitter': ['best', 'random'],\n",
        "    'max_depth': [None, 3, 5, 7, 9],\n",
        "    'max_features': [None, 'auto', 'sqrt', 'log2']\n",
        "}\n",
        "\n",
        "DTC_hi = Hiperparametro(DecisionTreeClassifier(),\n",
        "                        DTC_parametros, 4, -1, 5, 42)\n",
        "# --------------------------------------------------------\n",
        "\n",
        "print('Decision Tree Classifier:\\n')\n",
        "print('Busca aleatória:')\n",
        "DTC_hi.busca(x_train, y_train, 'random')\n",
        "DTC_hi.escrever_resultados()\n",
        "print('')\n",
        "print('Busca em grade:')\n",
        "DTC_hi.busca(x_train, y_train, 'grid')\n",
        "DTC_hi.escrever_resultados()"
      ]
    },
    {
      "cell_type": "markdown",
      "metadata": {
        "id": "5zrneOzdfSxb"
      },
      "source": [
        "#### Modelo Decision Tree Classifier com os hiperparâmetros recomendados pelo Random Search:"
      ]
    },
    {
      "cell_type": "code",
      "execution_count": null,
      "metadata": {
        "colab": {
          "background_save": true,
          "base_uri": "https://localhost:8080/"
        },
        "id": "UCIWL4Tfz80K",
        "outputId": "6bbb34ba-ca7d-4073-a819-a25980799dc3"
      },
      "outputs": [
        {
          "name": "stdout",
          "output_type": "stream",
          "text": [
            "R ao quadrado: 0.9600262432503871\n",
            "Acurácia: 0.9904357066950054\n",
            "Precisão 0.9918918918918919\n",
            "Recall: 0.9839142091152815\n"
          ]
        }
      ],
      "source": [
        "# Dividindo x e y\n",
        "x = df.drop(columns = ['ind_atrito', 'ind_engaj', 'ind_novo_cli']).values\n",
        "y = df[['ind_atrito']].values\n",
        "\n",
        "# Dividindo dados para treino e dados para teste\n",
        "x_train, x_test, y_train, y_test = train_test_split(x, y, \n",
        "                                                    test_size = 0.2, \n",
        "                                                    random_state = 42)\n",
        "\n",
        "# Treinando o modelo\n",
        "modelTree = DecisionTreeClassifier(criterion='gini', max_features=None, max_depth=9, splitter='random', random_state=42).fit(x_train, y_train)\n",
        "\n",
        "#criterion='entropy', random_state=42\n",
        "\n",
        "# Fazendo as predições\n",
        "y_pred = modelTree.predict(x_test)\n",
        "\n",
        "# Calculando o erro r2- medida de qualidade do modelo\n",
        "print(\"R ao quadrado:\",r2_score(y_test, y_pred))\n",
        "\n",
        "# Calculando quanto é a porcentagem de acerto do modelo\n",
        "print(\"Acurácia:\",metrics.accuracy_score(y_test, y_pred))\n",
        "\n",
        "print(\"Precisão\",metrics.precision_score(y_test, y_pred))\n",
        "\n",
        "print(\"Recall:\",metrics.recall_score(y_test, y_pred))"
      ]
    },
    {
      "cell_type": "markdown",
      "metadata": {
        "id": "wB9dSMVkfYdo"
      },
      "source": [
        "#### Modelo Decision Tree Classifier com os hiperparâmetros recomendados pelo Grid Search:"
      ]
    },
    {
      "cell_type": "code",
      "execution_count": null,
      "metadata": {
        "colab": {
          "background_save": true,
          "base_uri": "https://localhost:8080/"
        },
        "id": "8DtKCYSJz-Ne",
        "outputId": "88848c56-b8bc-4334-ac3e-3457d73d2b4e"
      },
      "outputs": [
        {
          "name": "stdout",
          "output_type": "stream",
          "text": [
            "R ao quadrado: 0.9689093003058566\n",
            "Acurácia: 0.9925611052072264\n",
            "Precisão 0.9972826086956522\n",
            "Recall: 0.9839142091152815\n"
          ]
        }
      ],
      "source": [
        "# Dividindo x e y\n",
        "x = df.drop(columns = ['ind_atrito', 'ind_engaj', 'ind_novo_cli']).values\n",
        "y = df[['ind_atrito']].values\n",
        "\n",
        "# Dividindo dados para treino e dados para teste\n",
        "x_train, x_test, y_train, y_test = train_test_split(x, y, \n",
        "                                                    test_size = 0.2, \n",
        "                                                    random_state = 42)\n",
        "\n",
        "# Treinando o modelo\n",
        "modelTree = DecisionTreeClassifier(criterion='gini', max_features=None, max_depth=3, splitter='best', random_state=42).fit(x_train, y_train)\n",
        "\n",
        "#criterion='entropy', random_state=42\n",
        "\n",
        "# Fazendo as predições\n",
        "y_pred = modelTree.predict(x_test)\n",
        "\n",
        "# Calculando o erro r2- medida de qualidade do modelo\n",
        "print(\"R ao quadrado:\",r2_score(y_test, y_pred))\n",
        "\n",
        "# Calculando quanto é a porcentagem de acerto do modelo\n",
        "print(\"Acurácia:\",metrics.accuracy_score(y_test, y_pred))\n",
        "\n",
        "print(\"Precisão\",metrics.precision_score(y_test, y_pred))\n",
        "\n",
        "print(\"Recall:\",metrics.recall_score(y_test, y_pred))"
      ]
    },
    {
      "cell_type": "code",
      "execution_count": null,
      "metadata": {
        "colab": {
          "background_save": true,
          "base_uri": "https://localhost:8080/",
          "height": 297
        },
        "id": "akm_gSwxUP0b",
        "outputId": "877156be-7a80-48c3-d7d2-3d37764315f6"
      },
      "outputs": [
        {
          "data": {
            "text/plain": [
              "<sklearn.metrics._plot.confusion_matrix.ConfusionMatrixDisplay at 0x7f8f2c1cd2d0>"
            ]
          },
          "execution_count": 68,
          "metadata": {},
          "output_type": "execute_result"
        },
        {
          "data": {
            "image/png": "[encoded data removed]",
            "text/plain": [
              "<Figure size 432x288 with 2 Axes>"
            ]
          },
          "metadata": {},
          "output_type": "display_data"
        }
      ],
      "source": [
        "plot_confusion_matrix(modelTree, x_test, y_test, cmap='Blues', values_format='.0f')"
      ]
    },
    {
      "cell_type": "markdown",
      "metadata": {
        "id": "miGMtSl_YZcR"
      },
      "source": [
        "### Gaussian Naive Bayes"
      ]
    },
    {
      "cell_type": "code",
      "execution_count": null,
      "metadata": {
        "colab": {
          "background_save": true,
          "base_uri": "https://localhost:8080/"
        },
        "id": "rY-JvOwdcNh-",
        "outputId": "91e505b9-cc4f-46f4-a41a-accd2da91fe7"
      },
      "outputs": [
        {
          "name": "stdout",
          "output_type": "stream",
          "text": [
            "GaussianNB:\n",
            "\n",
            "Busca aleatória:\n",
            "Melhor score: 0.8534574468085108\n",
            "Melhores hiperparâmetros: {'var_smoothing': 1.873817422860387e-09, 'priors': None}\n",
            "\n",
            "Busca em grade:\n",
            "Melhor score: 0.8845744680851064\n",
            "Melhores hiperparâmetros: {'priors': None, 'var_smoothing': 1e-09}\n"
          ]
        }
      ],
      "source": [
        "''' GaussianNB '''\n",
        "GNB_parametros = {\n",
        "    # Não há valores para este parâmetro ( apenas para manter o padrão )\n",
        "    'priors': [None],\n",
        "\n",
        "    'var_smoothing': np.logspace(0, -9, num=100)\n",
        "}\n",
        "\n",
        "GNB_hi = Hiperparametro(GaussianNB(), GNB_parametros, 4, -1, 5, 42)\n",
        "# --------------------------------------------------------\n",
        "\n",
        "print('GaussianNB:\\n')\n",
        "print('Busca aleatória:')\n",
        "GNB_hi.busca(x_train, y_train, 'random')\n",
        "GNB_hi.escrever_resultados()\n",
        "print('')\n",
        "print('Busca em grade:')\n",
        "GNB_hi.busca(x_train, y_train, 'grid')\n",
        "GNB_hi.escrever_resultados()"
      ]
    },
    {
      "cell_type": "markdown",
      "metadata": {
        "id": "sH4sEF-efapk"
      },
      "source": [
        "#### Modelo Gaussian Naive Bayes com os hiperparâmetros padrões:"
      ]
    },
    {
      "cell_type": "code",
      "execution_count": null,
      "metadata": {
        "colab": {
          "background_save": true,
          "base_uri": "https://localhost:8080/"
        },
        "id": "1bbPR4Bz21Cn",
        "outputId": "6ad62f1b-9d30-492d-a679-d33264e5d445"
      },
      "outputs": [
        {
          "name": "stdout",
          "output_type": "stream",
          "text": [
            "R ao quadrado: 0.5247564475323794\n",
            "Acurácia: 0.8862911795961743\n",
            "Precisão 0.9925925925925926\n",
            "Recall: 0.7184986595174263\n"
          ]
        }
      ],
      "source": [
        "# Treinando o modelo\n",
        "modelGau = GaussianNB().fit(x_train, y_train)\n",
        "\n",
        "# Fazendo as predições\n",
        "y_pred = modelGau.predict(x_test)\n",
        "\n",
        "# Calculando o erro r2- medida de qualidade do modelo\n",
        "print(\"R ao quadrado:\",r2_score(y_test, y_pred))\n",
        "\n",
        "# Calculando quanto é a porcentagem de acerto do modelo\n",
        "print(\"Acurácia:\",metrics.accuracy_score(y_test, y_pred))\n",
        "\n",
        "print(\"Precisão\",metrics.precision_score(y_test, y_pred))\n",
        "\n",
        "print(\"Recall:\",metrics.recall_score(y_test, y_pred))"
      ]
    },
    {
      "cell_type": "code",
      "execution_count": null,
      "metadata": {
        "colab": {
          "background_save": true,
          "base_uri": "https://localhost:8080/",
          "height": 297
        },
        "id": "omUO0-eNTJT9",
        "outputId": "78683f41-ba1b-413b-f7d6-9853023d82f6"
      },
      "outputs": [
        {
          "data": {
            "text/plain": [
              "<sklearn.metrics._plot.confusion_matrix.ConfusionMatrixDisplay at 0x7f8f2c391650>"
            ]
          },
          "execution_count": 71,
          "metadata": {},
          "output_type": "execute_result"
        },
        {
          "data": {
            "image/png": "[encoded data removed]",
            "text/plain": [
              "<Figure size 432x288 with 2 Axes>"
            ]
          },
          "metadata": {},
          "output_type": "display_data"
        }
      ],
      "source": [
        "plot_confusion_matrix(modelGau, x_test, y_test, cmap='Blues', values_format='.0f')"
      ]
    },
    {
      "cell_type": "markdown",
      "metadata": {
        "id": "HtK5CWwEYcC-"
      },
      "source": [
        "### Regressão Logística"
      ]
    },
    {
      "cell_type": "code",
      "execution_count": null,
      "metadata": {
        "colab": {
          "base_uri": "https://localhost:8080/"
        },
        "id": "wwvBpT9qcNaa",
        "outputId": "f967698d-64ca-41d8-d471-ddbd522f3f21"
      },
      "outputs": [
        {
          "name": "stdout",
          "output_type": "stream",
          "text": [
            "Logistic Regression:\n",
            "\n",
            "Busca aleatória:\n",
            "Melhor score: 0.6925999949529361\n",
            "Melhores hiperparâmetros: {'solver': 'newton-cg', 'penalty': 'l2', 'multi_class': 'multinomial', 'fit_intercept': True, 'dual': False}\n",
            "\n",
            "Busca em grade:\n",
            "Melhor score: 0.6929179599767835\n",
            "Melhores hiperparâmetros: {'dual': False, 'fit_intercept': False, 'multi_class': 'auto', 'penalty': 'none', 'solver': 'newton-cg'}\n"
          ]
        }
      ],
      "source": [
        "''' Logistic Regression '''\n",
        "LR_parametros = {\n",
        "    'penalty': ['l1', 'l2', 'elasticnet', 'none'],\n",
        "    'dual': [False, True],\n",
        "    'fit_intercept': [True, False],\n",
        "    'solver': ['newton-cg', 'lbfgs', 'liblinear', 'sag', 'saga'],\n",
        "    'multi_class': ['auto', 'ovr', 'multinomial'],\n",
        "}\n",
        "\n",
        "LR_hi = Hiperparametro(LogisticRegression(), LR_parametros, 4, -1, 5, 42)\n",
        "# --------------------------------------------------------\n",
        "\n",
        "print('Logistic Regression:\\n')\n",
        "print('Busca aleatória:')\n",
        "LR_hi.busca(x_train, y_train, 'random')\n",
        "LR_hi.escrever_resultados()\n",
        "print('')\n",
        "print('Busca em grade:')\n",
        "LR_hi.busca(x_train, y_train, 'grid')\n",
        "LR_hi.escrever_resultados()"
      ]
    },
    {
      "cell_type": "markdown",
      "metadata": {
        "id": "10ezaME2fjiO"
      },
      "source": [
        "#### Modelo Regressão Logística com os hiperparâmetros recomendados pelo Random Search:"
      ]
    },
    {
      "cell_type": "code",
      "execution_count": null,
      "metadata": {
        "colab": {
          "base_uri": "https://localhost:8080/"
        },
        "id": "8P5YhA4M3pz3",
        "outputId": "bd736912-152b-41df-b0be-d3b17a0d2500"
      },
      "outputs": [
        {
          "name": "stdout",
          "output_type": "stream",
          "text": [
            "Acurácia: 0.6907545164718385\n",
            "Precisão 0.9880952380952381\n",
            "Recall: 0.2225201072386059\n"
          ]
        }
      ],
      "source": [
        "# Treinando o modelo\n",
        "modelLog = LogisticRegression(solver='newton-cg',penalty='none',multi_class='multinomial',fit_intercept=True,dual=False,max_iter=2000).fit(x_train, y_train)\n",
        "\n",
        "# Fazendo as predições\n",
        "y_pred = modelLog.predict(x_test)\n",
        "\n",
        "\n",
        "# Calculando quanto é a porcentagem de acerto do modelo\n",
        "print(\"Acurácia:\",metrics.accuracy_score(y_test, y_pred))\n",
        "\n",
        "print(\"Precisão\",metrics.precision_score(y_test, y_pred))\n",
        "\n",
        "print(\"Recall:\",metrics.recall_score(y_test, y_pred))"
      ]
    },
    {
      "cell_type": "markdown",
      "metadata": {
        "id": "BzAoG6Drfm2Z"
      },
      "source": [
        "#### Modelo Regressão Logística com os hiperparâmetros recomendados pelo Grid Search:"
      ]
    },
    {
      "cell_type": "code",
      "execution_count": null,
      "metadata": {
        "colab": {
          "base_uri": "https://localhost:8080/"
        },
        "id": "ybvemv3t3qeT",
        "outputId": "a9795e72-dd58-4cc6-8300-fd85416ee54d"
      },
      "outputs": [
        {
          "name": "stdout",
          "output_type": "stream",
          "text": [
            "Acurácia: 0.6907545164718385\n",
            "Precisão 0.9880952380952381\n",
            "Recall: 0.2225201072386059\n"
          ]
        }
      ],
      "source": [
        "# Treinando o modelo\n",
        "modelLog = LogisticRegression(solver='newton-cg',penalty='none',multi_class='multinomial',fit_intercept=True,dual=False,max_iter=2000).fit(x_train, y_train)\n",
        "\n",
        "# Fazendo as predições\n",
        "y_pred = modelLog.predict(x_test)\n",
        "\n",
        "\n",
        "# Calculando quanto é a porcentagem de acerto do modelo\n",
        "print(\"Acurácia:\",metrics.accuracy_score(y_test, y_pred))\n",
        "\n",
        "print(\"Precisão\",metrics.precision_score(y_test, y_pred))\n",
        "\n",
        "print(\"Recall:\",metrics.recall_score(y_test, y_pred))"
      ]
    },
    {
      "cell_type": "code",
      "execution_count": null,
      "metadata": {
        "colab": {
          "base_uri": "https://localhost:8080/",
          "height": 297
        },
        "id": "Z601YVmcTDT1",
        "outputId": "4eff9f88-db10-404f-b7f0-46829b7d7918"
      },
      "outputs": [
        {
          "data": {
            "text/plain": [
              "<sklearn.metrics._plot.confusion_matrix.ConfusionMatrixDisplay at 0x7fa70a99a7d0>"
            ]
          },
          "execution_count": 73,
          "metadata": {},
          "output_type": "execute_result"
        },
        {
          "data": {
            "image/png": "[encoded data removed]",
            "text/plain": [
              "<Figure size 432x288 with 2 Axes>"
            ]
          },
          "metadata": {},
          "output_type": "display_data"
        }
      ],
      "source": [
        "plot_confusion_matrix(modelLog, x_test, y_test, cmap='Blues', values_format='.0f')"
      ]
    },
    {
      "cell_type": "markdown",
      "metadata": {
        "id": "YP9IcyJRE2k7"
      },
      "source": [
        "## Estabilidade dos dados"
      ]
    },
    {
      "cell_type": "markdown",
      "metadata": {
        "id": "pZvv1vufE4h2"
      },
      "source": [
        "Quanto à questão de divisão dos dados para teste e treinamento, é possível afirmar que há estabilidade, tendo em vista que, durante o processo de tratamento e limpeza de dados, são rodados algoritmos padrozinados, sempre com a base em uma posição padrão. Assim, os dados são igualmente mantidos quando tais procedimentos são finalizados. Desse modo, as únicas questões que poderiam causar instabilidade nessa divisão já foram corrigidas com êxito, sendo essas correções concretizadas através da randomização dos dados após o procedimento de balancemanento dos mesmos, no qual o procedimento utilizado para resolução foi o de sempre efetuar essa randomização de forma igualitária, utilizando o parâmetro “seed” do Scikit-Learn. O segundo ponto que causava instabilidade era justamente na divisão de treinamento e teste, contudo, essa falha foi corrigida de modo semelhante à anterior: utilizando o parâmetro “seed” do Scikit-Learn, garantimos que, sempre que a seperação seja feita, ela ocorra no mesmo local, corrigindo assim mais uma vez o problema da instabilidade dos dados na separação."
      ]
    },
    {
      "cell_type": "markdown",
      "metadata": {
        "id": "23TvnsFLjaDj"
      },
      "source": [
        "# Estratégia de avaliação escolhida"
      ]
    },
    {
      "cell_type": "markdown",
      "metadata": {
        "id": "hPMaOpcCL3nG"
      },
      "source": [
        "Frente à diversidade de formas de avaliar algoritmos de predição, fez-se necessário escolher a estratégia de avaliação que melhor se adequasse aos modelos de classificação, bem como a que melhor pudesse atender às demandas do cliente.\n",
        "\n",
        "Destaca-se, sobre esse aspecto, que a avaliação de algoritmos supervisionados deve ser realizada com base no desempenho que o modelo apresenta ao se deparar com o desafio de rotular novos objetos, com os quais não teve contato prévio na fase de treinamento.\n",
        "\n",
        "As métricas extraídas de cada algoritmo testado foram acurácia, precisão e recall. Além disso, foram utilizadas matrizes de confusão, a fim de conferir a proporção de erros e acertos gerados pelos modelos.\n",
        "\n",
        "Diante do problema trazido pelo Banco Pan, é preferível que o algoritmo escolhido apresente casos de falso positivo do que casos de falso negativos. Ou seja, seria mais adequado utilizar a métrica de **recall** (revocação), que apresenta a proporção de acertos do modelo (verdadeiros positivos) em relação ao total de casos verdadeiros, bem como a **matriz de confusão**. A **acurácia**, que revela a porcentagem total de acertos do modelo"
      ]
    },
    {
      "cell_type": "markdown",
      "metadata": {
        "id": "7A8yCvYrjp1q"
      },
      "source": [
        "# Resultados preliminares obtidos"
      ]
    },
    {
      "cell_type": "markdown",
      "metadata": {
        "id": "MS2S5lKWHPOM"
      },
      "source": [
        "A partir de nossos resultados obtidos a partir da execução de 7 diferentes tipos de modelo para a mesma base de dados, a conclusão obtida pelo grupo foi os seguintes modelos performaram melhor:\n",
        "\n",
        "\n",
        "*   *Random Forest*\n",
        "*   *Decision Tree*\n",
        "*   *Gradient Boosting*\n",
        "\n",
        "\n",
        "Com esses três modelos em mãos, foi necessário efetuar uma seleção preliminar do melhor modelo a ser utilizado, resultando assim na escolha do Gradient Boosting com um learning rate de 0.5. Essa decisão foi apoiada no fato de que, além do Gradient Boosting possuir um maior nível de acerto generalizado, com esse learning rate específico, foi possível obter uma porcentagem de acertos alta e uma quantidade pequena de falsos negativos, o que é excelente para o objetivo para o qual o modelo foi produzido. Justifica-se essa decisão a partir do fato de que o falso negativo é o resultado que traria maior risco de uma insatisfação do cliente após finalizar o atendimento, devido ao fato de que o atendente receberia a informação de que ele não é atritado ao passo em que ele é, na verdade, um cliente atritado, não exercendo então um tratamento diferenciado a esse cliente, causando assim, na maioria dos casos, sua insatisfação. "
      ]
    },
    {
      "cell_type": "markdown",
      "metadata": {
        "id": "zwS82aXGZwi_"
      },
      "source": [
        "# Resultados obtidos a partir da otimização dos hiperparâmetros dos modelos"
      ]
    },
    {
      "cell_type": "markdown",
      "metadata": {
        "id": "NdwBEqzTZ-lu"
      },
      "source": [
        "Os algoritmos testados para a composição do modelo preditivo foram refinados por meio das técnicas de Random Search e Grid Search, que constituem métodos eficientes para ajustes de hiperparâmetros. Esses processos realizam uma seleção apurada dos valores que melhor preenchem os hiperparâmetros, promovendo a otimização das predições realizadas."
      ]
    },
    {
      "cell_type": "markdown",
      "metadata": {
        "id": "dGSZjaFhblRF"
      },
      "source": [
        "**KNN (K-Nearest Neighbor)**\n",
        "\n",
        "O modelo KNN, embora submetido à otimização dos parâmetros que o compõem, não apresentou o mínimo resultado esperado para ser considerado no nosso modelo preditivo. Para ambas as técnicas às quais foi submetido, apresentou acurácia 1% maior do que com os parâmetros padrões (60%), além de precisão 2% superior, de 49,6%. O recall, que constitui uma métrica importante para o modelo, foi 4% inferior (39,4%) — principal motivo pelo qual o algoritmo em questão foi rejeitado.\n",
        "\n"
      ]
    },
    {
      "cell_type": "markdown",
      "metadata": {
        "id": "7ze8rCu0cDD8"
      },
      "source": [
        "**SVM (Support-Vector Machine)**\n",
        "\n",
        "O algoritmo em questão apresentou um desempenho questionável quanto às métricas extraídas. A partir dos ajustes de hiperparâmetros, obtivemos a mesma acurácia (60%), enquanto a precisão foi de 60% para 0%, mesmo índice obtido para o recall, que já era muito baixo. Assim, o modelo não será considerado. "
      ]
    },
    {
      "cell_type": "markdown",
      "metadata": {
        "id": "lluz8kIMcO-h"
      },
      "source": [
        "**Regressão Logística**\n",
        "\n",
        "O modelo de regressão logística não apresentou o desempenho esperado. Uma vez ajustados os valores dos parâmetros, a acurácia aumentou em 6%, chegando a 69%. A precisão chegou a 98%, mas o recall, que já era baixo, não foi satisfatório: 22,2%. Esse resultado fez com que o algoritmo fosse descartado também."
      ]
    },
    {
      "cell_type": "markdown",
      "metadata": {
        "id": "ef2ts6PwcS5F"
      },
      "source": [
        "**Gaussian Naive Bayes**\n",
        "\n",
        "O desempenho do modelo gaussiano foi mais satisfatório do que os anteriores. A precisão chegou a 99,2% frente ao ajuste feito a partir do Random Search e do Grid Search. Contudo, a acurácia máxima foi de 88,6%, e o recall, métrica mais importante, chegou somente a 71,8%. Logo, foram priorizados os modelos que performaram melhor."
      ]
    },
    {
      "cell_type": "markdown",
      "metadata": {
        "id": "_LvboSnwcUvO"
      },
      "source": [
        "**Decision Tree**\n",
        "\n",
        "Decision Tree foi um algoritmo que performou bem antes e depois dos ajustes, apresentando melhoras: a acurácia máxima foi de 99,2%, a precisão chegou a 99,7% e o recall obtido foi de 98,3%. Assim, o modelo foi considerado, ainda que os algoritmos restantes tenham demonstrado um desempenho superior."
      ]
    },
    {
      "cell_type": "markdown",
      "metadata": {
        "id": "QJWnPt7BcK_S"
      },
      "source": [
        "**Random Forest**\n",
        "\n",
        "O algoritmo apresentou o segundo melhor desempenho, e as estatísticas não se alteraram significamente com o ajuste dos parâmetros: a acurácia foi a 99,1%, a precisão alcançou 100% e o recall máximo foi de 98,1%. Portanto, constitui um dos modelos mais favoráveis ao objetivo do grupo."
      ]
    },
    {
      "cell_type": "markdown",
      "metadata": {
        "id": "ZkAF6WWpcakn"
      },
      "source": [
        "**Gradient Boosting**\n",
        "\n",
        "Apresentando um desempenho excelente, Gradient Boosting é o favorito à decisão de modelo final. Posteriormente à otimização dos hiperparâmetros, sua acurácia foi de 99,1% a 99,3%, enquanto a precisão e o recall chegaram a 99,7% e 98,4%, respectivamente. As estatísticas apresentadas foram as mais altas entre todos os algoritmos testados."
      ]
    }
  ],
  "metadata": {
    "colab": {
      "collapsed_sections": [
        "aLVMLzkZf4JH",
        "W7l2Cg2MyjFR",
        "RBB2ZoR3gIWG"
      ],
      "provenance": []
    },
    "kernelspec": {
      "display_name": "Python 3",
      "name": "python3"
    },
    "language_info": {
      "name": "python"
    }
  },
  "nbformat": 4,
  "nbformat_minor": 0
}